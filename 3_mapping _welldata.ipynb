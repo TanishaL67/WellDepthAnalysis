{
 "cells": [
  {
   "cell_type": "code",
   "execution_count": 2,
   "metadata": {},
   "outputs": [],
   "source": [
    "#importing the packages for mapping of the datapoints adn categories \n",
    "\n",
    "import pandas as pd \n",
    "import numpy as np\n",
    "from sklearn.linear_model import LinearRegression\n",
    "import geopandas as gpd\n",
    "import rasterio\n",
    "from rasterio.plot import show\n",
    "import mplleaflet\n",
    "import cartopy.crs as ccrs\n",
    "import mplcursors\n",
    "import plotly.express as px\n",
    "import matplotlib.pyplot as plt\n",
    "import seaborn as sns\n"
   ]
  },
  {
   "cell_type": "code",
   "execution_count": 3,
   "metadata": {},
   "outputs": [
    {
     "data": {
      "text/html": [
       "<div>\n",
       "<style scoped>\n",
       "    .dataframe tbody tr th:only-of-type {\n",
       "        vertical-align: middle;\n",
       "    }\n",
       "\n",
       "    .dataframe tbody tr th {\n",
       "        vertical-align: top;\n",
       "    }\n",
       "\n",
       "    .dataframe thead th {\n",
       "        text-align: right;\n",
       "    }\n",
       "</style>\n",
       "<table border=\"1\" class=\"dataframe\">\n",
       "  <thead>\n",
       "    <tr style=\"text-align: right;\">\n",
       "      <th></th>\n",
       "      <th>site_id</th>\n",
       "      <th>category</th>\n",
       "      <th>r2_score</th>\n",
       "    </tr>\n",
       "  </thead>\n",
       "  <tbody>\n",
       "    <tr>\n",
       "      <th>0</th>\n",
       "      <td>2.909551e+14</td>\n",
       "      <td>0.0</td>\n",
       "      <td>1.000000</td>\n",
       "    </tr>\n",
       "    <tr>\n",
       "      <th>1</th>\n",
       "      <td>2.911361e+14</td>\n",
       "      <td>3.0</td>\n",
       "      <td>0.902742</td>\n",
       "    </tr>\n",
       "    <tr>\n",
       "      <th>2</th>\n",
       "      <td>2.925051e+14</td>\n",
       "      <td>0.0</td>\n",
       "      <td>1.000000</td>\n",
       "    </tr>\n",
       "    <tr>\n",
       "      <th>3</th>\n",
       "      <td>2.925561e+14</td>\n",
       "      <td>0.0</td>\n",
       "      <td>1.000000</td>\n",
       "    </tr>\n",
       "    <tr>\n",
       "      <th>4</th>\n",
       "      <td>2.926181e+14</td>\n",
       "      <td>3.0</td>\n",
       "      <td>0.038265</td>\n",
       "    </tr>\n",
       "  </tbody>\n",
       "</table>\n",
       "</div>"
      ],
      "text/plain": [
       "        site_id  category  r2_score\n",
       "0  2.909551e+14       0.0  1.000000\n",
       "1  2.911361e+14       3.0  0.902742\n",
       "2  2.925051e+14       0.0  1.000000\n",
       "3  2.925561e+14       0.0  1.000000\n",
       "4  2.926181e+14       3.0  0.038265"
      ]
     },
     "execution_count": 3,
     "metadata": {},
     "output_type": "execute_result"
    }
   ],
   "source": [
    "categorised_data = pd.read_csv(\"well_categorization.csv\")\n",
    "categorised_data.head()"
   ]
  },
  {
   "cell_type": "code",
   "execution_count": 4,
   "metadata": {},
   "outputs": [],
   "source": [
    "#convert site_id from scientific notation string to integer\n",
    "categorised_data['site_id'] = categorised_data['site_id'].astype(float).astype('int64')"
   ]
  },
  {
   "cell_type": "code",
   "execution_count": 5,
   "metadata": {},
   "outputs": [
    {
     "data": {
      "text/html": [
       "<div>\n",
       "<style scoped>\n",
       "    .dataframe tbody tr th:only-of-type {\n",
       "        vertical-align: middle;\n",
       "    }\n",
       "\n",
       "    .dataframe tbody tr th {\n",
       "        vertical-align: top;\n",
       "    }\n",
       "\n",
       "    .dataframe thead th {\n",
       "        text-align: right;\n",
       "    }\n",
       "</style>\n",
       "<table border=\"1\" class=\"dataframe\">\n",
       "  <thead>\n",
       "    <tr style=\"text-align: right;\">\n",
       "      <th></th>\n",
       "      <th>site_id</th>\n",
       "      <th>category</th>\n",
       "      <th>r2_score</th>\n",
       "    </tr>\n",
       "  </thead>\n",
       "  <tbody>\n",
       "    <tr>\n",
       "      <th>0</th>\n",
       "      <td>290955098562101</td>\n",
       "      <td>0.0</td>\n",
       "      <td>1.000000</td>\n",
       "    </tr>\n",
       "    <tr>\n",
       "      <th>1</th>\n",
       "      <td>291136099375801</td>\n",
       "      <td>3.0</td>\n",
       "      <td>0.902742</td>\n",
       "    </tr>\n",
       "    <tr>\n",
       "      <th>2</th>\n",
       "      <td>292505098254002</td>\n",
       "      <td>0.0</td>\n",
       "      <td>1.000000</td>\n",
       "    </tr>\n",
       "    <tr>\n",
       "      <th>3</th>\n",
       "      <td>292556098260701</td>\n",
       "      <td>0.0</td>\n",
       "      <td>1.000000</td>\n",
       "    </tr>\n",
       "    <tr>\n",
       "      <th>4</th>\n",
       "      <td>292618099165901</td>\n",
       "      <td>3.0</td>\n",
       "      <td>0.038265</td>\n",
       "    </tr>\n",
       "  </tbody>\n",
       "</table>\n",
       "</div>"
      ],
      "text/plain": [
       "           site_id  category  r2_score\n",
       "0  290955098562101       0.0  1.000000\n",
       "1  291136099375801       3.0  0.902742\n",
       "2  292505098254002       0.0  1.000000\n",
       "3  292556098260701       0.0  1.000000\n",
       "4  292618099165901       3.0  0.038265"
      ]
     },
     "execution_count": 5,
     "metadata": {},
     "output_type": "execute_result"
    }
   ],
   "source": [
    "categorised_data.head()"
   ]
  },
  {
   "cell_type": "code",
   "execution_count": 6,
   "metadata": {},
   "outputs": [
    {
     "data": {
      "text/html": [
       "<div>\n",
       "<style scoped>\n",
       "    .dataframe tbody tr th:only-of-type {\n",
       "        vertical-align: middle;\n",
       "    }\n",
       "\n",
       "    .dataframe tbody tr th {\n",
       "        vertical-align: top;\n",
       "    }\n",
       "\n",
       "    .dataframe thead th {\n",
       "        text-align: right;\n",
       "    }\n",
       "</style>\n",
       "<table border=\"1\" class=\"dataframe\">\n",
       "  <thead>\n",
       "    <tr style=\"text-align: right;\">\n",
       "      <th></th>\n",
       "      <th>site_id</th>\n",
       "      <th>agency</th>\n",
       "      <th>latitude</th>\n",
       "      <th>longitude</th>\n",
       "      <th>state</th>\n",
       "      <th>well_depth_va</th>\n",
       "      <th>hole_depth_va</th>\n",
       "    </tr>\n",
       "  </thead>\n",
       "  <tbody>\n",
       "    <tr>\n",
       "      <th>0</th>\n",
       "      <td>272310098160200</td>\n",
       "      <td>USGS</td>\n",
       "      <td>27.386426</td>\n",
       "      <td>-98.267507</td>\n",
       "      <td>TX</td>\n",
       "      <td>310.00</td>\n",
       "      <td>NaN</td>\n",
       "    </tr>\n",
       "    <tr>\n",
       "      <th>1</th>\n",
       "      <td>283853097290701</td>\n",
       "      <td>USGS</td>\n",
       "      <td>28.648056</td>\n",
       "      <td>-97.485278</td>\n",
       "      <td>TX</td>\n",
       "      <td>243.00</td>\n",
       "      <td>243.00</td>\n",
       "    </tr>\n",
       "    <tr>\n",
       "      <th>2</th>\n",
       "      <td>283939097293201</td>\n",
       "      <td>USGS</td>\n",
       "      <td>28.660833</td>\n",
       "      <td>-97.492222</td>\n",
       "      <td>TX</td>\n",
       "      <td>56.27</td>\n",
       "      <td>56.27</td>\n",
       "    </tr>\n",
       "    <tr>\n",
       "      <th>3</th>\n",
       "      <td>290643097575901</td>\n",
       "      <td>USGS</td>\n",
       "      <td>29.111861</td>\n",
       "      <td>-97.966511</td>\n",
       "      <td>TX</td>\n",
       "      <td>132.00</td>\n",
       "      <td>132.00</td>\n",
       "    </tr>\n",
       "    <tr>\n",
       "      <th>4</th>\n",
       "      <td>290818098163201</td>\n",
       "      <td>USGS</td>\n",
       "      <td>29.138361</td>\n",
       "      <td>-98.275444</td>\n",
       "      <td>TX</td>\n",
       "      <td>983.00</td>\n",
       "      <td>983.00</td>\n",
       "    </tr>\n",
       "  </tbody>\n",
       "</table>\n",
       "</div>"
      ],
      "text/plain": [
       "           site_id agency   latitude  longitude state  well_depth_va  \\\n",
       "0  272310098160200   USGS  27.386426 -98.267507    TX         310.00   \n",
       "1  283853097290701   USGS  28.648056 -97.485278    TX         243.00   \n",
       "2  283939097293201   USGS  28.660833 -97.492222    TX          56.27   \n",
       "3  290643097575901   USGS  29.111861 -97.966511    TX         132.00   \n",
       "4  290818098163201   USGS  29.138361 -98.275444    TX         983.00   \n",
       "\n",
       "   hole_depth_va  \n",
       "0            NaN  \n",
       "1         243.00  \n",
       "2          56.27  \n",
       "3         132.00  \n",
       "4         983.00  "
      ]
     },
     "execution_count": 6,
     "metadata": {},
     "output_type": "execute_result"
    }
   ],
   "source": [
    "location_data = pd.read_csv(\"well_location.csv\")\n",
    "location_data.head()"
   ]
  },
  {
   "cell_type": "code",
   "execution_count": 7,
   "metadata": {},
   "outputs": [
    {
     "name": "stdout",
     "output_type": "stream",
     "text": [
      "int64\n",
      "int64\n"
     ]
    }
   ],
   "source": [
    "#first, check the data types and values\n",
    "print(location_data['site_id'].dtype)\n",
    "print(categorised_data['site_id'].dtype)"
   ]
  },
  {
   "cell_type": "code",
   "execution_count": 8,
   "metadata": {},
   "outputs": [
    {
     "data": {
      "text/html": [
       "<div>\n",
       "<style scoped>\n",
       "    .dataframe tbody tr th:only-of-type {\n",
       "        vertical-align: middle;\n",
       "    }\n",
       "\n",
       "    .dataframe tbody tr th {\n",
       "        vertical-align: top;\n",
       "    }\n",
       "\n",
       "    .dataframe thead th {\n",
       "        text-align: right;\n",
       "    }\n",
       "</style>\n",
       "<table border=\"1\" class=\"dataframe\">\n",
       "  <thead>\n",
       "    <tr style=\"text-align: right;\">\n",
       "      <th></th>\n",
       "      <th>site_id</th>\n",
       "      <th>agency</th>\n",
       "      <th>latitude</th>\n",
       "      <th>longitude</th>\n",
       "      <th>state</th>\n",
       "      <th>well_depth_va</th>\n",
       "      <th>hole_depth_va</th>\n",
       "      <th>category</th>\n",
       "      <th>r2_score</th>\n",
       "    </tr>\n",
       "  </thead>\n",
       "  <tbody>\n",
       "    <tr>\n",
       "      <th>0</th>\n",
       "      <td>290955098562101</td>\n",
       "      <td>USGS</td>\n",
       "      <td>29.165778</td>\n",
       "      <td>-98.939411</td>\n",
       "      <td>TX</td>\n",
       "      <td>3200.0</td>\n",
       "      <td>3200.0</td>\n",
       "      <td>0.0</td>\n",
       "      <td>1.000000</td>\n",
       "    </tr>\n",
       "    <tr>\n",
       "      <th>1</th>\n",
       "      <td>291136099375801</td>\n",
       "      <td>USGS</td>\n",
       "      <td>29.193573</td>\n",
       "      <td>-99.632830</td>\n",
       "      <td>TX</td>\n",
       "      <td>1400.0</td>\n",
       "      <td>1400.0</td>\n",
       "      <td>3.0</td>\n",
       "      <td>0.902742</td>\n",
       "    </tr>\n",
       "    <tr>\n",
       "      <th>2</th>\n",
       "      <td>292505098254002</td>\n",
       "      <td>USGS</td>\n",
       "      <td>29.418289</td>\n",
       "      <td>-98.428071</td>\n",
       "      <td>TX</td>\n",
       "      <td>1075.0</td>\n",
       "      <td>1075.0</td>\n",
       "      <td>0.0</td>\n",
       "      <td>1.000000</td>\n",
       "    </tr>\n",
       "    <tr>\n",
       "      <th>3</th>\n",
       "      <td>292556098260701</td>\n",
       "      <td>USGS</td>\n",
       "      <td>29.432455</td>\n",
       "      <td>-98.435571</td>\n",
       "      <td>TX</td>\n",
       "      <td>1223.0</td>\n",
       "      <td>1384.0</td>\n",
       "      <td>0.0</td>\n",
       "      <td>1.000000</td>\n",
       "    </tr>\n",
       "    <tr>\n",
       "      <th>4</th>\n",
       "      <td>292618099165901</td>\n",
       "      <td>USGS</td>\n",
       "      <td>29.438565</td>\n",
       "      <td>-99.283374</td>\n",
       "      <td>TX</td>\n",
       "      <td>538.0</td>\n",
       "      <td>538.0</td>\n",
       "      <td>3.0</td>\n",
       "      <td>0.038265</td>\n",
       "    </tr>\n",
       "  </tbody>\n",
       "</table>\n",
       "</div>"
      ],
      "text/plain": [
       "           site_id agency   latitude  longitude state  well_depth_va  \\\n",
       "0  290955098562101   USGS  29.165778 -98.939411    TX         3200.0   \n",
       "1  291136099375801   USGS  29.193573 -99.632830    TX         1400.0   \n",
       "2  292505098254002   USGS  29.418289 -98.428071    TX         1075.0   \n",
       "3  292556098260701   USGS  29.432455 -98.435571    TX         1223.0   \n",
       "4  292618099165901   USGS  29.438565 -99.283374    TX          538.0   \n",
       "\n",
       "   hole_depth_va  category  r2_score  \n",
       "0         3200.0       0.0  1.000000  \n",
       "1         1400.0       3.0  0.902742  \n",
       "2         1075.0       0.0  1.000000  \n",
       "3         1384.0       0.0  1.000000  \n",
       "4          538.0       3.0  0.038265  "
      ]
     },
     "execution_count": 8,
     "metadata": {},
     "output_type": "execute_result"
    }
   ],
   "source": [
    "\n",
    "location_data['site_id'] = location_data['site_id']\n",
    "categorised_data['site_id'] = categorised_data['site_id']\n",
    "\n",
    "#merge DataFrames\n",
    "merged_data = pd.merge(location_data, categorised_data, on='site_id', how='inner')\n",
    "\n",
    "merged_data.head()"
   ]
  },
  {
   "cell_type": "code",
   "execution_count": 9,
   "metadata": {},
   "outputs": [],
   "source": [
    "#counting wells per state and category\n",
    "wells_count = merged_data.groupby(['state', 'category']).size().unstack(fill_value=0)\n",
    "\n"
   ]
  },
  {
   "cell_type": "code",
   "execution_count": 10,
   "metadata": {},
   "outputs": [
    {
     "data": {
      "image/png": "[encoded data removed]",
      "text/plain": [
       "<Figure size 1500x700 with 1 Axes>"
      ]
     },
     "metadata": {},
     "output_type": "display_data"
    }
   ],
   "source": [
    "\n",
    "#lets map the number of wells per state divide by category \n",
    "\n",
    "#set the aesthetics for the plot\n",
    "sns.set(style=\"whitegrid\")\n",
    "\n",
    "#create a bar plot\n",
    "wells_count.plot(kind='bar', stacked=True, figsize=(15, 7))\n",
    "\n",
    "#adding labels and title\n",
    "plt.xlabel('State')\n",
    "plt.ylabel('Number of Wells')\n",
    "plt.title('Number of Wells per State Categorized')\n",
    "\n",
    "#display the legend\n",
    "plt.legend(title='Category', bbox_to_anchor=(1.05, 1), loc='upper left')\n",
    "\n",
    "#show the plot\n",
    "plt.tight_layout()\n",
    "plt.show()\n",
    "\n",
    "\n",
    "\n"
   ]
  },
  {
   "cell_type": "code",
   "execution_count": 11,
   "metadata": {},
   "outputs": [
    {
     "data": {
      "image/png": "[encoded data removed]",
      "text/plain": [
       "<Figure size 1000x600 with 1 Axes>"
      ]
     },
     "metadata": {},
     "output_type": "display_data"
    }
   ],
   "source": [
    "#identify if there's any apparent correlation between the depth of wells and the fit of your linear regression model \n",
    "#set the aesthetics for the plot\n",
    "sns.set(style=\"whitegrid\")\n",
    "\n",
    "#create a scatter plot\n",
    "plt.figure(figsize=(10, 6))\n",
    "sns.scatterplot(x='well_depth_va', y='r2_score', data=merged_data)\n",
    "\n",
    "#adding labels and title\n",
    "plt.xlabel('Well Depth')\n",
    "plt.ylabel('R2 Score')\n",
    "plt.title('Correlation between Well Depth and R2 Score')\n",
    "\n",
    "#show the plot\n",
    "plt.show()\n"
   ]
  },
  {
   "cell_type": "code",
   "execution_count": 12,
   "metadata": {},
   "outputs": [],
   "source": [
    "merged_data.head()\n",
    "merged_data.to_csv(\"merged_dataset.csv\")"
   ]
  },
  {
   "cell_type": "code",
   "execution_count": 33,
   "metadata": {},
   "outputs": [
    {
     "data": {
      "application/vnd.plotly.v1+json": {
       "config": {
        "plotlyServerURL": "https://plot.ly"
       },
       "data": [
        {
         "customdata": [
          [
           290955098562101
          ],
          [
           291136099375801
          ],
          [
           292505098254002
          ],
          [
           292556098260701
          ],
          [
           292618099165901
          ],
          [
           292943098354404
          ],
          [
           293058098110501
          ],
          [
           293202099063501
          ],
          [
           293252098380801
          ],
          [
           293348095070604
          ],
          [
           293424098134701
          ],
          [
           293516098325501
          ],
          [
           293610098152701
          ],
          [
           294338095270402
          ],
          [
           294338095270403
          ],
          [
           294726095351101
          ],
          [
           294726095351102
          ],
          [
           294726095351104
          ],
          [
           294728095200103
          ],
          [
           294901095221001
          ],
          [
           295204099340201
          ],
          [
           295443097554201
          ],
          [
           295449095084101
          ],
          [
           295858097521801
          ],
          [
           300322093452601
          ],
          [
           300824095274701
          ],
          [
           300849095143301
          ],
          [
           301228095272501
          ],
          [
           301237097464801
          ],
          [
           301505095343702
          ],
          [
           301948095290002
          ],
          [
           301948095290004
          ],
          [
           302636095422801
          ],
          [
           302636095422803
          ],
          [
           303143095334801
          ],
          [
           315712106361803
          ],
          [
           334404102414301
          ],
          [
           334953101503701
          ],
          [
           340848102392801
          ],
          [
           342116101452901
          ],
          [
           345342102313801
          ]
         ],
         "hovertemplate": "state=TX<br>Latitude=%{x}<br>Well Depth=%{marker.size}<br>site_id=%{customdata[0]}<extra></extra>",
         "legendgroup": "TX",
         "marker": {
          "color": "#636efa",
          "size": [
           3200,
           1400,
           1075,
           1223,
           538,
           596.5,
           1562,
           290,
           229,
           3072,
           1050,
           300,
           920,
           2358,
           1943,
           49,
           1802,
           237,
           487,
           1152,
           346,
           32.5,
           2592,
           975,
           715,
           246,
           600,
           807,
           388,
           161,
           261,
           80,
           118,
           60,
           181,
           300,
           168,
           237,
           255,
           252,
           321
          ],
          "sizemode": "area",
          "sizeref": 8,
          "symbol": "circle"
         },
         "mode": "markers",
         "name": "TX",
         "showlegend": true,
         "type": "scattergl",
         "x": [
          29.16577778,
          29.1935729,
          29.418289,
          29.43245515,
          29.43856519,
          29.49527778,
          29.5162169,
          29.53411853,
          29.54777778,
          29.56341667,
          29.5735009,
          29.58777778,
          29.60293056,
          29.727,
          29.7275,
          29.79083333,
          29.79069444,
          29.79083333,
          29.79138889,
          29.8172222,
          29.8677972,
          29.91216286,
          29.91388889,
          29.98299439,
          30.05632209,
          30.14,
          30.14694444,
          30.20777778,
          30.21033889,
          30.25138889,
          30.33027778,
          30.33027778,
          30.4436111,
          30.4436111,
          30.52816667,
          31.95371338,
          33.7345415,
          33.83147049,
          34.1467489,
          34.35451059,
          34.89506144
         ],
         "xaxis": "x",
         "y": [
          3200,
          1400,
          1075,
          1223,
          538,
          596.5,
          1562,
          290,
          229,
          3072,
          1050,
          300,
          920,
          2358,
          1943,
          49,
          1802,
          237,
          487,
          1152,
          346,
          32.5,
          2592,
          975,
          715,
          246,
          600,
          807,
          388,
          161,
          261,
          80,
          118,
          60,
          181,
          300,
          168,
          237,
          255,
          252,
          321
         ],
         "yaxis": "y"
        },
        {
         "customdata": [
          [
           295652090020101
          ],
          [
           301213093191701
          ],
          [
           301300092584503
          ],
          [
           301832092234501
          ],
          [
           302614091083001
          ],
          [
           302636091083802
          ],
          [
           302642091083401
          ],
          [
           304120092263001
          ],
          [
           305018093251301
          ],
          [
           324141092390501
          ],
          [
           330002092445901
          ]
         ],
         "hovertemplate": "state=LA<br>Latitude=%{x}<br>Well Depth=%{marker.size}<br>site_id=%{customdata[0]}<extra></extra>",
         "legendgroup": "LA",
         "marker": {
          "color": "#EF553B",
          "size": [
           775,
           555,
           290,
           202,
           1736,
           1754,
           860,
           231,
           164,
           686,
           736
          ],
          "sizemode": "area",
          "sizeref": 8,
          "symbol": "circle"
         },
         "mode": "markers",
         "name": "LA",
         "showlegend": true,
         "type": "scattergl",
         "x": [
          29.9479816,
          30.2036111,
          30.21666667,
          30.30888889,
          30.43741316,
          30.44333333,
          30.44519075,
          30.6890861,
          30.83852975,
          32.69486847,
          33.00069578
         ],
         "xaxis": "x",
         "y": [
          775,
          555,
          290,
          202,
          1736,
          1754,
          860,
          231,
          164,
          686,
          736
         ],
         "yaxis": "y"
        },
        {
         "customdata": [
          [
           302355088540301
          ],
          [
           302406088593201
          ],
          [
           312115089193601
          ],
          [
           313256091214201
          ],
          [
           313330091223702
          ],
          [
           313605091202201
          ],
          [
           313928089103001
          ],
          [
           314115088392301
          ],
          [
           314210089084401
          ],
          [
           322310090530202
          ],
          [
           323047090484401
          ],
          [
           324419090351201
          ],
          [
           324615090375001
          ],
          [
           325817090464201
          ],
          [
           330227090592001
          ],
          [
           331849089105101
          ],
          [
           332223091043301
          ],
          [
           332242091030401
          ],
          [
           332826090441601
          ],
          [
           333021089202901
          ],
          [
           333251090323801
          ],
          [
           333315090151801
          ],
          [
           333712088384601
          ],
          [
           334215089442701
          ],
          [
           335911090553901
          ],
          [
           342136089315001
          ],
          [
           342550089312801
          ]
         ],
         "hovertemplate": "state=MS<br>Latitude=%{x}<br>Well Depth=%{marker.size}<br>site_id=%{customdata[0]}<extra></extra>",
         "legendgroup": "MS",
         "marker": {
          "color": "#00cc96",
          "size": [
           633,
           800,
           444,
           436,
           607,
           456,
           466,
           96,
           383,
           170,
           26.65,
           53,
           74,
           15.7,
           105,
           100,
           42,
           70,
           110,
           344,
           41.45,
           110,
           203,
           122,
           125,
           113,
           248
          ],
          "sizemode": "area",
          "sizeref": 8,
          "symbol": "circle"
         },
         "mode": "markers",
         "name": "MS",
         "showlegend": true,
         "type": "scattergl",
         "x": [
          30.39880955,
          30.4054757,
          31.35434004,
          31.53183343,
          31.5601664,
          31.60072148,
          31.65794094,
          31.68527778,
          31.70293945,
          32.3847222,
          32.51305556,
          32.73888889,
          32.7711111,
          32.97138889,
          33.04221944,
          33.3137354,
          33.3731722,
          33.3661083,
          33.47416667,
          33.50595587,
          33.5475,
          33.55500556,
          33.62011838,
          33.7058333,
          33.9881111,
          34.36010637,
          34.43066055
         ],
         "xaxis": "x",
         "y": [
          633,
          800,
          444,
          436,
          607,
          456,
          466,
          96,
          383,
          170,
          26.65,
          53,
          74,
          15.7,
          105,
          100,
          42,
          70,
          110,
          344,
          41.45,
          110,
          203,
          122,
          125,
          113,
          248
         ],
         "yaxis": "y"
        },
        {
         "customdata": [
          [
           302416087505501
          ],
          [
           311319086153601
          ],
          [
           322047086214301
          ],
          [
           322500085551201
          ],
          [
           333204087324601
          ],
          [
           335929087021001
          ],
          [
           342718087285601
          ]
         ],
         "hovertemplate": "state=AL<br>Latitude=%{x}<br>Well Depth=%{marker.size}<br>site_id=%{customdata[0]}<extra></extra>",
         "legendgroup": "AL",
         "marker": {
          "color": "#ab63fa",
          "size": [
           64,
           26,
           270,
           32,
           60,
           139,
           40.4
          ],
          "sizemode": "area",
          "sizeref": 8,
          "symbol": "circle"
         },
         "mode": "markers",
         "name": "AL",
         "showlegend": true,
         "type": "scattergl",
         "x": [
          30.40477778,
          31.22211494,
          32.3465278,
          32.41691667,
          33.53455757,
          33.99149186,
          34.45509537
         ],
         "xaxis": "x",
         "y": [
          64,
          26,
          270,
          32,
          60,
          139,
          40.4
         ],
         "yaxis": "y"
        },
        {
         "customdata": [
          [
           304313081330001
          ],
          [
           304406081330502
          ],
          [
           304406081330503
          ],
          [
           304406081330504
          ],
          [
           304406081330505
          ],
          [
           304512081343601
          ],
          [
           304712084395801
          ],
          [
           304756081311101
          ],
          [
           304806084404101
          ],
          [
           304942082213801
          ],
          [
           304949083165301
          ],
          [
           305235084125101
          ],
          [
           305356084534601
          ],
          [
           305736084355801
          ],
          [
           310410081343801
          ],
          [
           310418081244701
          ],
          [
           310427084591101
          ],
          [
           310428084310501
          ],
          [
           310428084310503
          ],
          [
           310507084262201
          ],
          [
           310602081423601
          ],
          [
           310629081323301
          ],
          [
           310651084404501
          ],
          [
           310706082155101
          ],
          [
           310810081292801
          ],
          [
           310810081292802
          ],
          [
           310813083260301
          ],
          [
           310818081293701
          ],
          [
           310818081294201
          ],
          [
           310822081294201
          ],
          [
           310835081294501
          ],
          [
           310835081294502
          ],
          [
           310901081284401
          ],
          [
           310901081284402
          ],
          [
           310901081284403
          ],
          [
           310902081284201
          ],
          [
           310906081293201
          ],
          [
           310924081295201
          ],
          [
           310924081295202
          ],
          [
           310925081312201
          ],
          [
           310925081312202
          ],
          [
           310925081312203
          ],
          [
           310931081291002
          ],
          [
           310938081285301
          ],
          [
           310938081285302
          ],
          [
           311007081301701
          ],
          [
           311007081301702
          ],
          [
           311009084495502
          ],
          [
           311009084495503
          ],
          [
           311011081293101
          ],
          [
           311022081304601
          ],
          [
           311022081304602
          ],
          [
           311028081285902
          ],
          [
           311059081285702
          ],
          [
           311335084311901
          ],
          [
           311400084295502
          ],
          [
           311454081210503
          ],
          [
           311456081210501
          ],
          [
           311456081210503
          ],
          [
           311456081210504
          ],
          [
           311530081363901
          ],
          [
           311530081363904
          ],
          [
           311633081324001
          ],
          [
           311711081283002
          ],
          [
           311802084192301
          ],
          [
           311802084192302
          ],
          [
           311802084192303
          ],
          [
           311909081281101
          ],
          [
           311909081281102
          ],
          [
           311909081281103
          ],
          [
           312127084065801
          ],
          [
           312232084391701
          ],
          [
           312446081271203
          ],
          [
           312617084110701
          ],
          [
           312654084210102
          ],
          [
           312654084210103
          ],
          [
           312704084071601
          ],
          [
           312705084410301
          ],
          [
           312709084161701
          ],
          [
           312711083293101
          ],
          [
           312712082593301
          ],
          [
           312827084551501
          ],
          [
           312827084551503
          ],
          [
           312853084275101
          ],
          [
           312919084153801
          ],
          [
           312947084092201
          ],
          [
           312950084131801
          ],
          [
           313000084100301
          ],
          [
           313019084104601
          ],
          [
           313031084005901
          ],
          [
           313040084125901
          ],
          [
           313105084064202
          ],
          [
           313105084064301
          ],
          [
           313105084064302
          ],
          [
           313130084101001
          ],
          [
           313146083491601
          ],
          [
           313247084005001
          ],
          [
           313253081433501
          ],
          [
           313253081433502
          ],
          [
           313253081433503
          ],
          [
           313253081433504
          ],
          [
           313302084120301
          ],
          [
           313450084091801
          ],
          [
           313521084051001
          ],
          [
           313530084203202
          ],
          [
           313532084203501
          ],
          [
           313534084103001
          ],
          [
           313534084103002
          ],
          [
           313534084103003
          ],
          [
           313554084062501
          ],
          [
           313625084041501
          ],
          [
           313701081543501
          ],
          [
           313808084093601
          ],
          [
           313812084125001
          ],
          [
           313813084125001
          ],
          [
           313823081154201
          ],
          [
           313845081361701
          ],
          [
           313953084361201
          ],
          [
           313953084361202
          ],
          [
           314330084005401
          ],
          [
           314330084005402
          ],
          [
           314330084005403
          ],
          [
           314343081251901
          ],
          [
           314602084473701
          ],
          [
           314611084310301
          ],
          [
           315113081121401
          ],
          [
           315214081235301
          ],
          [
           315353084192501
          ],
          [
           315353084192502
          ],
          [
           315356081214301
          ],
          [
           315443081185902
          ],
          [
           315443081185903
          ],
          [
           315731083542301
          ],
          [
           315731083542302
          ],
          [
           315906081011202
          ],
          [
           315906081011204
          ],
          [
           315950081161201
          ],
          [
           320003084240501
          ],
          [
           320021081124801
          ],
          [
           320039084235601
          ],
          [
           320048084240101
          ],
          [
           320107084240801
          ],
          [
           320122080510204
          ],
          [
           320127080511201
          ],
          [
           320127080511203
          ],
          [
           320127080511205
          ],
          [
           320127080511301
          ],
          [
           320139083511602
          ],
          [
           320150080540601
          ],
          [
           320202080541201
          ],
          [
           320202080541202
          ],
          [
           320202080541203
          ],
          [
           320226082301101
          ],
          [
           320433081042701
          ],
          [
           320530081085001
          ],
          [
           320622081063701
          ],
          [
           320622081063702
          ],
          [
           320716081153501
          ],
          [
           320754081364301
          ],
          [
           321110083462701
          ],
          [
           321240081411501
          ],
          [
           321240081411502
          ],
          [
           321302082243601
          ],
          [
           321742081234901
          ],
          [
           321742081234904
          ],
          [
           321943081151401
          ],
          [
           322036084590301
          ],
          [
           322234081190003
          ],
          [
           322236081191001
          ],
          [
           322245083290101
          ],
          [
           322652083033001
          ],
          [
           323030083030003
          ],
          [
           323123081511601
          ],
          [
           323123081511602
          ],
          [
           323302083263401
          ],
          [
           324209082430201
          ],
          [
           325232082131501
          ],
          [
           325848082480901
          ],
          [
           330548081391101
          ],
          [
           330548081391102
          ],
          [
           330548081391103
          ],
          [
           330858084122901
          ],
          [
           331507084171801
          ],
          [
           331711081573701
          ],
          [
           331944082025501
          ],
          [
           332131082013401
          ],
          [
           332221081584601
          ],
          [
           332221081584602
          ],
          [
           332528082003301
          ],
          [
           332808083010201
          ],
          [
           334207084254801
          ],
          [
           335517084164001
          ],
          [
           335612084312902
          ],
          [
           335614084010701
          ],
          [
           335614084010702
          ],
          [
           340204083132601
          ],
          [
           341020083201701
          ],
          [
           341913084325301
          ],
          [
           342125084083301
          ],
          [
           342922084511601
          ],
          [
           344314083433201
          ],
          [
           345403085160001
          ]
         ],
         "hovertemplate": "state=GA<br>Latitude=%{x}<br>Well Depth=%{marker.size}<br>site_id=%{customdata[0]}<extra></extra>",
         "legendgroup": "GA",
         "marker": {
          "color": "#FFA15A",
          "size": [
           575,
           365,
           255,
           1500,
           2004,
           760,
           148,
           990,
           64.5,
           700,
           342,
           467,
           98.5,
           251,
           650,
           751,
           123,
           455,
           42.8,
           206,
           295,
           475,
           225,
           1856,
           759,
           1000,
           865,
           700,
           1158,
           982,
           2720,
           1400,
           1103,
           328,
           202,
           205,
           604,
           1003,
           785,
           1100,
           720,
           155,
           685,
           980,
           770,
           952,
           790,
           75,
           40,
           745,
           740,
           1000,
           750,
           48.5,
           200,
           200,
           175,
           1571,
           780,
           537,
           500,
           412,
           1910,
           390,
           417,
           225,
           39,
           555,
           435,
           160,
           208,
           125,
           583,
           137,
           320,
           690,
           131,
           32,
           177,
           272,
           620,
           612,
           140,
           138,
           150,
           170,
           200,
           170,
           172,
           345,
           203,
           882,
           418,
           218,
           180,
           450,
           310,
           2070,
           750,
           340,
           215,
           100,
           178,
           170,
           251,
           656,
           257,
           690,
           846,
           760,
           351,
           594,
           181,
           650,
           385,
           553,
           870,
           94,
           430,
           345,
           123,
           25,
           802,
           372,
           433,
           340,
           789,
           384,
           151,
           425,
           441.25,
           1095,
           550,
           340,
           400,
           85,
           15,
           43,
           336,
           55,
           60,
           68,
           600,
           888,
           100,
           37,
           145,
           170,
           1546,
           348,
           62,
           102,
           536,
           500,
           406,
           344,
           1520,
           210,
           994,
           330,
           804,
           155,
           1000,
           185,
           870,
           215,
           550,
           190,
           429,
           1555,
           123,
           1685,
           860,
           210,
           616,
           1780,
           1045,
           750,
           982,
           562,
           210,
           31,
           30,
           455,
           509,
           213,
           200.25,
           120,
           82,
           497,
           341,
           620,
           55,
           345,
           26.15,
           743,
           185,
           370,
           399,
           300,
           400,
           72
          ],
          "sizemode": "area",
          "sizeref": 8,
          "symbol": "circle"
         },
         "mode": "markers",
         "name": "GA",
         "showlegend": true,
         "type": "scattergl",
         "x": [
          30.7205696,
          30.73523613,
          30.73523613,
          30.735,
          30.735,
          30.75345795,
          30.7867738,
          30.79912457,
          30.8018611,
          30.82883445,
          30.8310354,
          30.8765799,
          30.89713236,
          30.96185375,
          31.069675,
          31.0731111,
          31.07435,
          31.07462917,
          31.07462917,
          31.08546255,
          31.10080556,
          31.10778647,
          31.11435034,
          31.11855604,
          31.13634196,
          31.13634196,
          31.13713545,
          31.1385919,
          31.13959186,
          31.1387863,
          31.14305556,
          31.14305556,
          31.15053627,
          31.15050849,
          31.15050849,
          31.1506111,
          31.1517861,
          31.15698039,
          31.15698039,
          31.15717459,
          31.15717459,
          31.15717459,
          31.1586111,
          31.16067494,
          31.1607027,
          31.1687301,
          31.1687912,
          31.1690707,
          31.1690707,
          31.1699524,
          31.17277778,
          31.17277778,
          31.17452778,
          31.18315833,
          31.22657034,
          31.23351466,
          31.24830556,
          31.24883333,
          31.24838889,
          31.24888889,
          31.2585606,
          31.2585606,
          31.27606074,
          31.28661664,
          31.30073555,
          31.30073555,
          31.30073555,
          31.31939346,
          31.31939346,
          31.31939346,
          31.3582351,
          31.3773996,
          31.4130018,
          31.43825,
          31.4485094,
          31.4485094,
          31.45128818,
          31.45138889,
          31.44905556,
          31.45310278,
          31.4535188,
          31.4735062,
          31.4735062,
          31.48156424,
          31.48730556,
          31.4963611,
          31.49758333,
          31.50013889,
          31.50538889,
          31.50878774,
          31.5116111,
          31.5182311,
          31.5182311,
          31.5182311,
          31.52608333,
          31.52962404,
          31.5465649,
          31.54799668,
          31.54799668,
          31.54799668,
          31.54799668,
          31.55055556,
          31.5807296,
          31.58934126,
          31.59183919,
          31.59239473,
          31.59350695,
          31.59322918,
          31.5937847,
          31.59767424,
          31.6060078,
          31.61715799,
          31.63572859,
          31.63628357,
          31.63656135,
          31.63994184,
          31.64854994,
          31.6646131,
          31.6646131,
          31.72517307,
          31.72517307,
          31.72517307,
          31.7288271,
          31.7693304,
          31.76933266,
          31.8536111,
          31.87076688,
          31.8976661,
          31.89738834,
          31.89909949,
          31.91194444,
          31.912,
          31.95878374,
          31.95878374,
          31.9852145,
          31.9852145,
          31.99742964,
          32.00099587,
          32.00604155,
          32.01099567,
          32.01349558,
          32.01877319,
          32.02299175,
          32.02438054,
          32.02438054,
          32.02438054,
          32.02438054,
          32.03,
          32.03076877,
          32.0341019,
          32.0341019,
          32.0341019,
          32.04046536,
          32.0760416,
          32.09187268,
          32.1063171,
          32.1063171,
          32.1213141,
          32.13186697,
          32.1862753,
          32.2113062,
          32.2113062,
          32.21740776,
          32.29519648,
          32.29519648,
          32.3286111,
          32.3420917,
          32.3761111,
          32.3768572,
          32.3793221,
          32.4518351,
          32.50766764,
          32.52322514,
          32.52322514,
          32.5507037,
          32.70266185,
          32.87577778,
          32.98015426,
          33.096819,
          33.09709679,
          33.096819,
          33.14956478,
          33.2651142,
          33.25713889,
          33.32955556,
          33.35855556,
          33.37255556,
          33.37252778,
          33.42453056,
          33.4690229,
          33.70205245,
          33.9214906,
          33.9368472,
          33.9372222,
          33.9371111,
          34.03483478,
          34.1723314,
          34.32037135,
          34.3575949,
          34.4895323,
          34.7206503,
          34.90119444
         ],
         "xaxis": "x",
         "y": [
          575,
          365,
          255,
          1500,
          2004,
          760,
          148,
          990,
          64.5,
          700,
          342,
          467,
          98.5,
          251,
          650,
          751,
          123,
          455,
          42.8,
          206,
          295,
          475,
          225,
          1856,
          759,
          1000,
          865,
          700,
          1158,
          982,
          2720,
          1400,
          1103,
          328,
          202,
          205,
          604,
          1003,
          785,
          1100,
          720,
          155,
          685,
          980,
          770,
          952,
          790,
          75,
          40,
          745,
          740,
          1000,
          750,
          48.5,
          200,
          200,
          175,
          1571,
          780,
          537,
          500,
          412,
          1910,
          390,
          417,
          225,
          39,
          555,
          435,
          160,
          208,
          125,
          583,
          137,
          320,
          690,
          131,
          32,
          177,
          272,
          620,
          612,
          140,
          138,
          150,
          170,
          200,
          170,
          172,
          345,
          203,
          882,
          418,
          218,
          180,
          450,
          310,
          2070,
          750,
          340,
          215,
          100,
          178,
          170,
          251,
          656,
          257,
          690,
          846,
          760,
          351,
          594,
          181,
          650,
          385,
          553,
          870,
          94,
          430,
          345,
          123,
          25,
          802,
          372,
          433,
          340,
          789,
          384,
          151,
          425,
          441.25,
          1095,
          550,
          340,
          400,
          85,
          15,
          43,
          336,
          55,
          60,
          68,
          600,
          888,
          100,
          37,
          145,
          170,
          1546,
          348,
          62,
          102,
          536,
          500,
          406,
          344,
          1520,
          210,
          994,
          330,
          804,
          155,
          1000,
          185,
          870,
          215,
          550,
          190,
          429,
          1555,
          123,
          1685,
          860,
          210,
          616,
          1780,
          1045,
          750,
          982,
          562,
          210,
          31,
          30,
          455,
          509,
          213,
          200.25,
          120,
          82,
          497,
          341,
          620,
          55,
          345,
          26.15,
          743,
          185,
          370,
          399,
          300,
          400,
          72
         ],
         "yaxis": "y"
        },
        {
         "customdata": [
          [
           312044110141901
          ],
          [
           312207110070702
          ],
          [
           312214110071601
          ],
          [
           312214110071602
          ],
          [
           312642110063701
          ],
          [
           312642110063702
          ],
          [
           312716110063302
          ],
          [
           312859110070601
          ],
          [
           312900110071001
          ],
          [
           313105110074501
          ],
          [
           313108110075202
          ],
          [
           313309110094301
          ],
          [
           313312110082301
          ],
          [
           313312110082302
          ],
          [
           313312110082303
          ],
          [
           313312110082501
          ],
          [
           313312110082502
          ],
          [
           313618110162301
          ],
          [
           313643110100101
          ],
          [
           313643110100102
          ],
          [
           313738110102901
          ],
          [
           314144110104701
          ],
          [
           314144110104702
          ],
          [
           314248110105901
          ],
          [
           314317110113401
          ],
          [
           314318110113101
          ],
          [
           314511110120601
          ],
          [
           315909110540601
          ],
          [
           320845110551201
          ],
          [
           320944111125701
          ],
          [
           321058110563301
          ],
          [
           321142110530301
          ],
          [
           321208110525001
          ],
          [
           321517110571802
          ],
          [
           321547111144001
          ],
          [
           322009111191801
          ],
          [
           322057111134801
          ],
          [
           322339111170001
          ],
          [
           323510111181001
          ],
          [
           324003114235701
          ],
          [
           333117114322801
          ],
          [
           333859114291701
          ],
          [
           343409111511101
          ],
          [
           343850111460701
          ],
          [
           343852111460301
          ],
          [
           344544112025001
          ],
          [
           345603110450301
          ],
          [
           350002110355501
          ],
          [
           350427112414701
          ],
          [
           350616112435601
          ],
          [
           351214111022101
          ],
          [
           360055110304001
          ],
          [
           361225110240701
          ],
          [
           362936109564101
          ],
          [
           363143110355001
          ],
          [
           363850110100801
          ],
          [
           364338110154601
          ],
          [
           365236112442501
          ],
          [
           365403112452801
          ],
          [
           365602112460201
          ]
         ],
         "hovertemplate": "state=AZ<br>Latitude=%{x}<br>Well Depth=%{marker.size}<br>site_id=%{customdata[0]}<extra></extra>",
         "legendgroup": "AZ",
         "marker": {
          "color": "#19d3f3",
          "size": [
           123.67,
           32,
           36.5,
           73.5,
           93,
           134,
           28,
           14,
           15,
           22.5,
           68.5,
           180,
           24,
           34.5,
           180,
           199,
           24,
           1501,
           12.79,
           20.79,
           21,
           53.5,
           178.5,
           50,
           18,
           22.8,
           17.6,
           965,
           1030,
           780,
           885,
           1010,
           465,
           808,
           790,
           1003,
           998,
           1010,
           1400,
           300.4,
           998,
           466,
           100,
           240,
           189,
           345,
           500,
           610,
           419,
           603,
           1069,
           1683,
           2506,
           851,
           400,
           1338,
           868,
           200,
           202,
           92.8
          ],
          "sizemode": "area",
          "sizeref": 8,
          "symbol": "circle"
         },
         "mode": "markers",
         "name": "AZ",
         "showlegend": true,
         "type": "scattergl",
         "x": [
          31.3456576,
          31.36890556,
          31.3707,
          31.37070278,
          31.44523056,
          31.4451861,
          31.4546722,
          31.4832611,
          31.48331944,
          31.5196,
          31.51913889,
          31.554,
          31.5534288,
          31.5534288,
          31.5534288,
          31.5534288,
          31.5534288,
          31.60371389,
          31.6119,
          31.6118972,
          31.62744444,
          31.69561667,
          31.69558889,
          31.713525,
          31.72146944,
          31.7216861,
          31.75269444,
          31.98591464,
          32.14591115,
          32.16229965,
          32.18285477,
          32.1992434,
          32.20229888,
          32.25479775,
          32.2631313,
          32.3359065,
          32.34924019,
          32.39423868,
          32.5872916,
          32.6675595,
          33.52169068,
          33.64945975,
          34.56919118,
          34.64716667,
          34.64777778,
          34.76224304,
          34.93418918,
          35.0005776,
          35.07405556,
          35.10445827,
          35.20390096,
          36.014168,
          36.20777575,
          36.4908336,
          36.52805329,
          36.6472218,
          36.7272213,
          36.87665209,
          36.9008185,
          36.9338738
         ],
         "xaxis": "x",
         "y": [
          123.67,
          32,
          36.5,
          73.5,
          93,
          134,
          28,
          14,
          15,
          22.5,
          68.5,
          180,
          24,
          34.5,
          180,
          199,
          24,
          1501,
          12.79,
          20.79,
          21,
          53.5,
          178.5,
          50,
          18,
          22.8,
          17.6,
          965,
          1030,
          780,
          885,
          1010,
          465,
          808,
          790,
          1003,
          998,
          1010,
          1400,
          300.4,
          998,
          466,
          100,
          240,
          189,
          345,
          500,
          610,
          419,
          603,
          1069,
          1683,
          2506,
          851,
          400,
          1338,
          868,
          200,
          202,
          92.8
         ],
         "yaxis": "y"
        },
        {
         "customdata": [
          [
           315953106390601
          ],
          [
           320404106385801
          ],
          [
           321105106442101
          ],
          [
           321332106443701
          ],
          [
           321332106443702
          ],
          [
           321332106443703
          ],
          [
           321740106481001
          ],
          [
           321740106481003
          ],
          [
           321740106481004
          ],
          [
           321745106492101
          ],
          [
           321745106492102
          ],
          [
           321745106492103
          ],
          [
           321745106492106
          ],
          [
           321859106503101
          ],
          [
           322323106314701
          ],
          [
           322540106525101
          ],
          [
           323802107024101
          ],
          [
           323917107031601
          ],
          [
           325002107181201
          ],
          [
           343753106430601
          ],
          [
           343753106430602
          ],
          [
           344431106393401
          ],
          [
           344431106393402
          ],
          [
           344431106393403
          ],
          [
           345650106415901
          ],
          [
           345650106415902
          ],
          [
           345650106415903
          ],
          [
           345650106415904
          ],
          [
           345758106364001
          ],
          [
           345758106364002
          ],
          [
           345758106364003
          ],
          [
           350056106370102
          ],
          [
           350056106370103
          ],
          [
           350100106405701
          ],
          [
           350100106405702
          ],
          [
           350244106450201
          ],
          [
           350244106450202
          ],
          [
           350244106450203
          ],
          [
           350256106390801
          ],
          [
           350307106410601
          ],
          [
           350307106410602
          ],
          [
           350359106254701
          ],
          [
           350414104485101
          ],
          [
           350534106354701
          ],
          [
           350534106354702
          ],
          [
           350534106354703
          ],
          [
           350545106335901
          ],
          [
           350545106335902
          ],
          [
           350545106335903
          ],
          [
           350638106413701
          ],
          [
           350638106413702
          ],
          [
           350638106413703
          ],
          [
           350638106413704
          ],
          [
           350638106413705
          ],
          [
           350638106413706
          ],
          [
           350653106311601
          ],
          [
           350653106311602
          ],
          [
           350653106311603
          ],
          [
           350706106390301
          ],
          [
           350706106390302
          ],
          [
           350706106390303
          ],
          [
           350721106211001
          ],
          [
           350836106395401
          ],
          [
           350836106395402
          ],
          [
           350836106395403
          ],
          [
           350836106395404
          ],
          [
           350853106205701
          ],
          [
           350908106344401
          ],
          [
           350908106344402
          ],
          [
           350910106414801
          ],
          [
           350910106414802
          ],
          [
           350910106414803
          ],
          [
           350954106212401
          ],
          [
           351114106330601
          ],
          [
           351114106330602
          ],
          [
           351114106330603
          ],
          [
           351201106400501
          ],
          [
           351201106400502
          ],
          [
           351201106400503
          ],
          [
           351201106400504
          ],
          [
           351201106400505
          ],
          [
           351201106400506
          ],
          [
           351357106323001
          ],
          [
           351357106323002
          ],
          [
           351357106323003
          ],
          [
           351515106410401
          ],
          [
           351515106410402
          ],
          [
           351515106410403
          ],
          [
           351821106333901
          ],
          [
           351821106333902
          ],
          [
           352949105144301
          ],
          [
           353146105144801
          ],
          [
           353348106025101
          ],
          [
           353348106025102
          ],
          [
           353348106025103
          ],
          [
           353824106040901
          ],
          [
           353824106040902
          ],
          [
           353824106040903
          ],
          [
           353825105594701
          ],
          [
           353825105594702
          ],
          [
           353825105594703
          ],
          [
           353945105574501
          ],
          [
           353945105574502
          ],
          [
           353945105574503
          ],
          [
           354056106215801
          ],
          [
           354228106044901
          ],
          [
           354228106044902
          ],
          [
           354228106044903
          ],
          [
           354321105573701
          ],
          [
           354321105573702
          ],
          [
           354321105573703
          ],
          [
           354731106072001
          ],
          [
           354731106072002
          ],
          [
           354731106072003
          ],
          [
           355000106092802
          ],
          [
           355000106092803
          ],
          [
           355120105593901
          ],
          [
           355120105593902
          ]
         ],
         "hovertemplate": "state=NM<br>Latitude=%{x}<br>Well Depth=%{marker.size}<br>site_id=%{customdata[0]}<extra></extra>",
         "legendgroup": "NM",
         "marker": {
          "color": "#FF6692",
          "size": [
           34,
           33.5,
           34,
           307,
           120,
           40,
           332,
           50,
           640,
           310,
           110,
           40,
           650,
           34,
           295,
           34.5,
           16.87,
           18.17,
           20.27,
           1186,
           695,
           1200,
           710,
           275,
           1340,
           815,
           185,
           50,
           1630,
           1015,
           525,
           708,
           330,
           595,
           210,
           1290,
           868,
           370,
           765,
           1623,
           1025,
           90,
           575,
           1567,
           842,
           425,
           1455,
           1050,
           510,
           1095,
           689,
           433,
           328,
           254,
           173,
           1520,
           1045,
           705,
           1020,
           582,
           93,
           340,
           983,
           836,
           568,
           182,
           220,
           1308,
           799,
           1644,
           928,
           210,
           180,
           1525,
           1193,
           608,
           1518,
           855,
           238,
           359,
           305,
           263,
           1305,
           1025,
           535,
           1260,
           835,
           595,
           1190,
           320,
           165,
           113,
           1320,
           640,
           340,
           1910,
           1075,
           460,
           1700,
           1380,
           540,
           1952,
           1060,
           780,
           1295,
           1990,
           1320,
           450,
           1100,
           920,
           665,
           2440,
           1340,
           480,
           824,
           346,
           520,
           320
          ],
          "sizemode": "area",
          "sizeref": 8,
          "symbol": "circle"
         },
         "mode": "markers",
         "name": "NM",
         "showlegend": true,
         "type": "scattergl",
         "x": [
          31.99831944,
          32.0678222,
          32.1849722,
          32.22565144,
          32.22565144,
          32.2258111,
          32.29453824,
          32.29474167,
          32.294816,
          32.2959269,
          32.2959269,
          32.29594167,
          32.2962047,
          32.3166361,
          32.3897222,
          32.42798333,
          32.63456389,
          32.6543472,
          32.834425,
          34.6313833,
          34.6313833,
          34.74185,
          34.74185,
          34.74185,
          34.94729167,
          34.94729167,
          34.94729167,
          34.94729167,
          34.9662583,
          34.9662583,
          34.9662583,
          35.0158611,
          35.0158611,
          35.01659444,
          35.01659444,
          35.0456361,
          35.0456361,
          35.0456361,
          35.0489722,
          35.0506333,
          35.0506333,
          35.0662333,
          35.07055556,
          35.0930222,
          35.0930222,
          35.0930222,
          35.09531389,
          35.09531389,
          35.09531389,
          35.11000556,
          35.11000556,
          35.11000556,
          35.11000556,
          35.11000556,
          35.11000556,
          35.114775,
          35.114775,
          35.114775,
          35.1179861,
          35.1179861,
          35.1179861,
          35.1228083,
          35.1429861,
          35.1429861,
          35.1429861,
          35.1429861,
          35.14829167,
          35.15256667,
          35.15256667,
          35.15273889,
          35.15273889,
          35.15273889,
          35.1651861,
          35.1866083,
          35.1866083,
          35.1866083,
          35.20005278,
          35.20005278,
          35.20005278,
          35.20005278,
          35.20005278,
          35.20005278,
          35.23254235,
          35.23254235,
          35.23254235,
          35.25423056,
          35.25423056,
          35.25423056,
          35.3054972,
          35.3054972,
          35.4969722,
          35.52693889,
          35.5633333,
          35.5633333,
          35.5633333,
          35.64,
          35.64,
          35.64,
          35.64027778,
          35.64027778,
          35.64027778,
          35.6625312,
          35.6625312,
          35.6625312,
          35.6814175,
          35.70777778,
          35.70777778,
          35.70777778,
          35.7225,
          35.7225,
          35.7225,
          35.79194444,
          35.79194444,
          35.79194444,
          35.83335929,
          35.83335929,
          35.85555556,
          35.85555556
         ],
         "xaxis": "x",
         "y": [
          34,
          33.5,
          34,
          307,
          120,
          40,
          332,
          50,
          640,
          310,
          110,
          40,
          650,
          34,
          295,
          34.5,
          16.87,
          18.17,
          20.27,
          1186,
          695,
          1200,
          710,
          275,
          1340,
          815,
          185,
          50,
          1630,
          1015,
          525,
          708,
          330,
          595,
          210,
          1290,
          868,
          370,
          765,
          1623,
          1025,
          90,
          575,
          1567,
          842,
          425,
          1455,
          1050,
          510,
          1095,
          689,
          433,
          328,
          254,
          173,
          1520,
          1045,
          705,
          1020,
          582,
          93,
          340,
          983,
          836,
          568,
          182,
          220,
          1308,
          799,
          1644,
          928,
          210,
          180,
          1525,
          1193,
          608,
          1518,
          855,
          238,
          359,
          305,
          263,
          1305,
          1025,
          535,
          1260,
          835,
          595,
          1190,
          320,
          165,
          113,
          1320,
          640,
          340,
          1910,
          1075,
          460,
          1700,
          1380,
          540,
          1952,
          1060,
          780,
          1295,
          1990,
          1320,
          450,
          1100,
          920,
          665,
          2440,
          1340,
          480,
          824,
          346,
          520,
          320
         ],
         "yaxis": "y"
        },
        {
         "customdata": [
          [
           320846080502203
          ],
          [
           320910080472001
          ],
          [
           321005080442705
          ],
          [
           321125080423000
          ],
          [
           321358080403802
          ],
          [
           321459080420101
          ],
          [
           321459080420102
          ],
          [
           321551080491003
          ],
          [
           321603080432202
          ],
          [
           322745080435800
          ],
          [
           324143080505900
          ],
          [
           324729079472001
          ],
          [
           330218080080700
          ],
          [
           330247079340300
          ],
          [
           330256080354500
          ],
          [
           331022080021801
          ],
          [
           331037081184301
          ],
          [
           331038081184201
          ],
          [
           331039081184201
          ],
          [
           331043081185601
          ],
          [
           331044081185301
          ],
          [
           331044081185401
          ],
          [
           331044081185501
          ],
          [
           331940081443501
          ],
          [
           332358081252000
          ],
          [
           332424079171800
          ],
          [
           332610079104000
          ],
          [
           332616081461601
          ],
          [
           332616081462001
          ],
          [
           332617081462001
          ],
          [
           332649081072500
          ],
          [
           333230081290501
          ],
          [
           333232081290605
          ],
          [
           333233081290704
          ],
          [
           333233081290802
          ],
          [
           333234081290703
          ],
          [
           334410079310200
          ],
          [
           334747078435400
          ],
          [
           334944080380100
          ],
          [
           335115079033500
          ],
          [
           335143079195000
          ],
          [
           335336082214600
          ],
          [
           335602080204800
          ],
          [
           340517081401300
          ],
          [
           340806079563100
          ],
          [
           341144079345001
          ],
          [
           341405080110100
          ],
          [
           342440080443900
          ],
          [
           342440080443901
          ],
          [
           343105080172100
          ],
          [
           343714082285600
          ],
          [
           343715079411500
          ],
          [
           344000081250011
          ],
          [
           344333080503600
          ],
          [
           344333080503601
          ],
          [
           345051083041800
          ],
          [
           345145081502900
          ],
          [
           345830081033100
          ],
          [
           345830081033101
          ],
          [
           350150081012500
          ],
          [
           350918081263408
          ]
         ],
         "hovertemplate": "state=SC<br>Latitude=%{x}<br>Well Depth=%{marker.size}<br>site_id=%{customdata[0]}<extra></extra>",
         "legendgroup": "SC",
         "marker": {
          "color": "#B6E880",
          "size": [
           619,
           214,
           442,
           212,
           210,
           524,
           239,
           300,
           202,
           105,
           113,
           2007,
           434,
           91,
           342,
           1607,
           1045,
           95,
           170,
           929,
           293,
           411,
           701,
           605,
           785,
           748,
           620,
           231,
           535,
           425,
           250,
           500,
           97,
           129,
           255,
           193,
           257,
           416,
           542,
           438,
           356,
           202,
           625,
           480,
           535,
           695,
           350,
           83,
           300,
           90,
           398,
           345,
           98,
           58,
           300,
           433,
           225,
           300,
           60,
           700,
           265
          ],
          "sizemode": "area",
          "sizeref": 8,
          "symbol": "circle"
         },
         "mode": "markers",
         "name": "SC",
         "showlegend": true,
         "type": "scattergl",
         "x": [
          32.14631848,
          32.15298539,
          32.16826274,
          32.17659547,
          32.23298085,
          32.24825816,
          32.24853593,
          32.26436797,
          32.26770186,
          32.4632465,
          32.69795546,
          32.7915653,
          33.0385039,
          33.04655887,
          33.04766604,
          33.1729471,
          33.17876466,
          33.17904245,
          33.17904244,
          33.17876466,
          33.17904244,
          33.17904244,
          33.17904244,
          33.3279218,
          33.39959219,
          33.40683424,
          33.43600128,
          33.43764,
          33.43791779,
          33.4379178,
          33.4470973,
          33.54236825,
          33.54236826,
          33.54236826,
          33.54236825,
          33.54236826,
          33.73072137,
          33.79656134,
          33.8304336,
          33.8496144,
          33.86211035,
          33.8934575,
          33.9340461,
          34.0881927,
          34.13515595,
          34.19571369,
          34.2348767,
          34.4111111,
          34.41113056,
          34.5181111,
          34.62066938,
          34.62654693,
          34.6743043,
          34.7259722,
          34.726,
          34.8475927,
          34.8626279,
          34.97516667,
          34.97519444,
          35.0270894,
          35.1551314
         ],
         "xaxis": "x",
         "y": [
          619,
          214,
          442,
          212,
          210,
          524,
          239,
          300,
          202,
          105,
          113,
          2007,
          434,
          91,
          342,
          1607,
          1045,
          95,
          170,
          929,
          293,
          411,
          701,
          605,
          785,
          748,
          620,
          231,
          535,
          425,
          250,
          500,
          97,
          129,
          255,
          193,
          257,
          416,
          542,
          438,
          356,
          202,
          625,
          480,
          535,
          695,
          350,
          83,
          300,
          90,
          398,
          345,
          98,
          58,
          300,
          433,
          225,
          300,
          60,
          700,
          265
         ],
         "yaxis": "y"
        },
        {
         "customdata": [
          [
           324226114554901
          ],
          [
           324239114563601
          ],
          [
           324248114500601
          ],
          [
           324303114480501
          ],
          [
           324325114461001
          ],
          [
           324410114533801
          ],
          [
           324421114482101
          ],
          [
           324450114515101
          ],
          [
           324459114521701
          ],
          [
           324525114500701
          ],
          [
           333214114535501
          ],
          [
           333939114411501
          ],
          [
           344327114313001
          ],
          [
           373849118513001
          ],
          [
           373930118491602
          ],
          [
           415104121232901
          ],
          [
           415546121205401
          ]
         ],
         "hovertemplate": "state=CA<br>Latitude=%{x}<br>Well Depth=%{marker.size}<br>site_id=%{customdata[0]}<extra></extra>",
         "legendgroup": "CA",
         "marker": {
          "color": "#FF97FF",
          "size": [
           525,
           46.5,
           148,
           359,
           120,
           360,
           219,
           620,
           721.2,
           149,
           830,
           252,
           155.59,
           877,
           315,
           80,
           313
          ],
          "sizemode": "area",
          "sizeref": 8,
          "symbol": "circle"
         },
         "mode": "markers",
         "name": "CA",
         "showlegend": true,
         "type": "scattergl",
         "x": [
          32.7072958,
          32.71077075,
          32.71347869,
          32.717659,
          32.72350874,
          32.73606147,
          32.7392611,
          32.74732214,
          32.74964153,
          32.7569218,
          33.53725089,
          33.66108687,
          34.7241957,
          37.64687799,
          37.65826627,
          41.85125,
          41.92930556
         ],
         "xaxis": "x",
         "y": [
          525,
          46.5,
          148,
          359,
          120,
          360,
          219,
          620,
          721.2,
          149,
          830,
          252,
          155.59,
          877,
          315,
          80,
          313
         ],
         "yaxis": "y"
        },
        {
         "customdata": [
          [
           330624091552801
          ],
          [
           330855092505601
          ],
          [
           331144092410601
          ],
          [
           331346092391101
          ],
          [
           331438092411901
          ],
          [
           335258091152301
          ],
          [
           343048093030401
          ],
          [
           343108090462601
          ],
          [
           344651091355102
          ],
          [
           344653091382701
          ],
          [
           345413091493401
          ],
          [
           350344090130000
          ],
          [
           351354092232401
          ],
          [
           352341090213101
          ],
          [
           352726090523101
          ],
          [
           353606090510701
          ],
          [
           354916090512501
          ]
         ],
         "hovertemplate": "state=AR<br>Latitude=%{x}<br>Well Depth=%{marker.size}<br>site_id=%{customdata[0]}<extra></extra>",
         "legendgroup": "AR",
         "marker": {
          "color": "#FECB52",
          "size": [
           156,
           705,
           740,
           668,
           540,
           97,
           336.5,
           112,
           535.2,
           126,
           144,
           500,
           151,
           604,
           155.9,
           478,
           127.6
          ],
          "sizemode": "area",
          "sizeref": 8,
          "symbol": "circle"
         },
         "mode": "markers",
         "name": "AR",
         "showlegend": true,
         "type": "scattergl",
         "x": [
          33.10688889,
          33.14886389,
          33.1954861,
          33.2128,
          33.24415556,
          33.88238056,
          34.513375,
          34.5194333,
          34.7808333,
          34.7813333,
          34.9035333,
          35.0624111,
          35.23175,
          35.3947833,
          35.45716667,
          35.60152778,
          35.82102778
         ],
         "xaxis": "x",
         "y": [
          156,
          705,
          740,
          668,
          540,
          97,
          336.5,
          112,
          535.2,
          126,
          144,
          500,
          151,
          604,
          155.9,
          478,
          127.6
         ],
         "yaxis": "y"
        },
        {
         "customdata": [
          [
           335334078352102
          ],
          [
           335334078352106
          ],
          [
           335335078351901
          ],
          [
           335629078115406
          ],
          [
           335629078115407
          ],
          [
           335631078003604
          ],
          [
           335631078003605
          ],
          [
           335631078003606
          ],
          [
           335849078054301
          ],
          [
           340416078084202
          ],
          [
           343609077171301
          ],
          [
           343641077290101
          ],
          [
           343641077290103
          ],
          [
           343641077290104
          ],
          [
           343641077290106
          ],
          [
           344037077253901
          ],
          [
           344139077211202
          ],
          [
           344139077211204
          ],
          [
           344139077211205
          ],
          [
           344139077211206
          ],
          [
           344139077211207
          ],
          [
           344203077182001
          ],
          [
           344304077232901
          ],
          [
           344323076451301
          ],
          [
           344425077272501
          ],
          [
           344520079281001
          ],
          [
           344544079263701
          ],
          [
           345051078012109
          ],
          [
           345609080415102
          ],
          [
           345609080415103
          ],
          [
           345809077301408
          ],
          [
           345812079313401
          ],
          [
           351117083545001
          ],
          [
           351121083545002
          ],
          [
           351126079301401
          ],
          [
           351132079275301
          ],
          [
           351709082434101
          ],
          [
           351808082374302
          ],
          [
           351849078163901
          ],
          [
           352012081154301
          ],
          [
           352012081154302
          ],
          [
           352315082484401
          ],
          [
           352519083272401
          ],
          [
           353135080524201
          ],
          [
           353135080524202
          ],
          [
           353135080524203
          ],
          [
           353219077153801
          ],
          [
           354057080362601
          ],
          [
           354133082042201
          ],
          [
           354133082042203
          ],
          [
           354302081433201
          ],
          [
           354302081433202
          ],
          [
           354315078300101
          ],
          [
           354315078300103
          ],
          [
           354418076463601
          ],
          [
           354616081085101
          ],
          [
           354616081085102
          ],
          [
           355031081243202
          ],
          [
           355031081243203
          ],
          [
           355359080331701
          ],
          [
           355522079043001
          ],
          [
           355944079013401
          ],
          [
           360455081530101
          ],
          [
           361011079595401
          ],
          [
           361307080293101
          ],
          [
           361420077111407
          ],
          [
           361829076163201
          ],
          [
           362231079410801
          ]
         ],
         "hovertemplate": "state=NC<br>Latitude=%{x}<br>Well Depth=%{marker.size}<br>site_id=%{customdata[0]}<extra></extra>",
         "legendgroup": "NC",
         "marker": {
          "color": "#636efa",
          "size": [
           660,
           56,
           38.5,
           102,
           15,
           200,
           74,
           21,
           158.3,
           140,
           235,
           80,
           240,
           534,
           22,
           180,
           918,
           527,
           295,
           130,
           40,
           253,
           232,
           191,
           68,
           240,
           161,
           15.4,
           72,
           301,
           15,
           39,
           83,
           24,
           145,
           130,
           23,
           58,
           10.4,
           80,
           123,
           18.4,
           555,
           28,
           48,
           400,
           10.9,
           24,
           45,
           197,
           232,
           39,
           28.6,
           460,
           15.53,
           74,
           183,
           42,
           322,
           30.8,
           48,
           52,
           300,
           43,
           400,
           12,
           12.6,
           38
          ],
          "sizemode": "area",
          "sizeref": 8,
          "symbol": "circle"
         },
         "mode": "markers",
         "name": "NC",
         "showlegend": true,
         "type": "scattergl",
         "x": [
          33.89305556,
          33.89277778,
          33.89305556,
          33.9411111,
          33.94138889,
          33.94194444,
          33.94194444,
          33.94194444,
          33.98027778,
          34.07138889,
          34.6025,
          34.61155449,
          34.61138889,
          34.61155449,
          34.61138889,
          34.67638889,
          34.69166667,
          34.69305556,
          34.69305556,
          34.69305556,
          34.6933333,
          34.700996,
          34.71805556,
          34.7233333,
          34.7383333,
          34.755,
          34.7622222,
          34.84777778,
          34.93599444,
          34.93591944,
          34.97,
          34.97055556,
          35.18805556,
          35.18916667,
          35.19055556,
          35.192,
          35.2858333,
          35.30277778,
          35.3097222,
          35.33680556,
          35.33680556,
          35.38777778,
          35.4886111,
          35.52638889,
          35.52666667,
          35.52666667,
          35.5383333,
          35.6827833,
          35.6926111,
          35.6926111,
          35.7172222,
          35.7172222,
          35.7208333,
          35.7208333,
          35.73888889,
          35.77105,
          35.77105,
          35.84197778,
          35.8420833,
          35.89981944,
          35.9086111,
          35.99569167,
          36.08194444,
          36.16977778,
          36.21888889,
          36.23916667,
          36.3083333,
          36.37527778
         ],
         "xaxis": "x",
         "y": [
          660,
          56,
          38.5,
          102,
          15,
          200,
          74,
          21,
          158.3,
          140,
          235,
          80,
          240,
          534,
          22,
          180,
          918,
          527,
          295,
          130,
          40,
          253,
          232,
          191,
          68,
          240,
          161,
          15.4,
          72,
          301,
          15,
          39,
          83,
          24,
          145,
          130,
          23,
          58,
          10.4,
          80,
          123,
          18.4,
          555,
          28,
          48,
          400,
          10.9,
          24,
          45,
          197,
          232,
          39,
          28.6,
          460,
          15.53,
          74,
          183,
          42,
          322,
          30.8,
          48,
          52,
          300,
          43,
          400,
          12,
          12.6,
          38
         ],
         "yaxis": "y"
        },
        {
         "customdata": [
          [
           335337094451101
          ],
          [
           340042095051801
          ],
          [
           341243096534501
          ],
          [
           342527096493301
          ],
          [
           342633096494401
          ],
          [
           343017096561501
          ],
          [
           343022096565701
          ],
          [
           343457096404501
          ],
          [
           344143099560601
          ],
          [
           344656098031401
          ],
          [
           344749098350301
          ],
          [
           351308098341601
          ],
          [
           352142099122501
          ],
          [
           352423098341701
          ],
          [
           353107097453701
          ],
          [
           354112098430601
          ],
          [
           354442096400801
          ],
          [
           354525097242201
          ],
          [
           354527099470501
          ],
          [
           355510096293501
          ],
          [
           361415094452501
          ],
          [
           361442098092801
          ],
          [
           361536099464601
          ],
          [
           361714099315101
          ],
          [
           361739099323301
          ],
          [
           362935096291501
          ],
          [
           363033101440701
          ],
          [
           364821098144901
          ],
          [
           364831098120201
          ],
          [
           365143098404201
          ],
          [
           365229094520201
          ],
          [
           365732094513201
          ],
          [
           365942094504203
          ]
         ],
         "hovertemplate": "state=OK<br>Latitude=%{x}<br>Well Depth=%{marker.size}<br>site_id=%{customdata[0]}<extra></extra>",
         "legendgroup": "OK",
         "marker": {
          "color": "#EF553B",
          "size": [
           66,
           120,
           51.8,
           122,
           86,
           238,
           436,
           396,
           237,
           254,
           18,
           335,
           107,
           210,
           47.2,
           320,
           339,
           146,
           122,
           58,
           38,
           60,
           205,
           322,
           300,
           55,
           386,
           29.2,
           22.5,
           54,
           1490,
           289,
           200
          ],
          "sizemode": "area",
          "sizeref": 8,
          "symbol": "circle"
         },
         "mode": "markers",
         "name": "OK",
         "showlegend": true,
         "type": "scattergl",
         "x": [
          33.89372077,
          34.0117736,
          34.21259464,
          34.4242583,
          34.44259136,
          34.5051,
          34.5062,
          34.58259,
          34.6953387,
          34.7822935,
          34.79694444,
          35.21886667,
          35.36366175,
          35.4068611,
          35.51866557,
          35.6867163,
          35.75284599,
          35.7569967,
          35.75754675,
          35.91916667,
          36.23536148,
          36.2450352,
          36.25976197,
          36.29031748,
          36.29427778,
          36.48368309,
          36.5091933,
          36.8057972,
          36.8085861,
          36.86391896,
          36.87507,
          36.95951265,
          36.995
         ],
         "xaxis": "x",
         "y": [
          66,
          120,
          51.8,
          122,
          86,
          238,
          436,
          396,
          237,
          254,
          18,
          335,
          107,
          210,
          47.2,
          320,
          339,
          146,
          122,
          58,
          38,
          60,
          205,
          322,
          300,
          55,
          386,
          29.2,
          22.5,
          54,
          1490,
          289,
          200
         ],
         "yaxis": "y"
        },
        {
         "customdata": [
          [
           350002090054400
          ],
          [
           350034086422800
          ],
          [
           350124090072200
          ],
          [
           350234085181200
          ],
          [
           350406089444401
          ],
          [
           350432090015101
          ],
          [
           350506089483101
          ],
          [
           350514089553700
          ],
          [
           350658089560100
          ],
          [
           350724089555600
          ],
          [
           350735089593300
          ],
          [
           350750085045802
          ],
          [
           350810089430801
          ],
          [
           350811089430901
          ],
          [
           350857089591401
          ],
          [
           350900089482300
          ],
          [
           350910090015102
          ],
          [
           350914090010601
          ],
          [
           351100089523600
          ],
          [
           351115085025001
          ],
          [
           351146085122701
          ],
          [
           351248085131601
          ],
          [
           351249085110101
          ],
          [
           351428085003600
          ],
          [
           351435090005200
          ],
          [
           351439089572301
          ],
          [
           352042089523401
          ],
          [
           352042089523402
          ],
          [
           352042089523403
          ],
          [
           352226089330102
          ],
          [
           352515086011702
          ],
          [
           353232089115601
          ],
          [
           353839089493500
          ],
          [
           353922083345600
          ],
          [
           360020087573300
          ],
          [
           360521085432600
          ],
          [
           360543084343101
          ],
          [
           360835086441100
          ]
         ],
         "hovertemplate": "state=TN<br>Latitude=%{x}<br>Well Depth=%{marker.size}<br>site_id=%{customdata[0]}<extra></extra>",
         "legendgroup": "TN",
         "marker": {
          "color": "#00cc96",
          "size": [
           334,
           106.5,
           553,
           250,
           278,
           265,
           309,
           91,
           1282,
           499,
           488,
           72.96,
           540,
           1083,
           59,
           382,
           1381,
           742,
           319,
           150,
           308,
           162,
           223,
           262,
           434,
           529,
           18,
           69,
           115,
           370,
           127,
           296,
           879,
           220,
           187,
           175,
           394,
           262
          ],
          "sizemode": "area",
          "sizeref": 8,
          "symbol": "circle"
         },
         "mode": "markers",
         "name": "TN",
         "showlegend": true,
         "type": "scattergl",
         "x": [
          35.00120445,
          35.0095298,
          35.02342645,
          35.04312967,
          35.06842476,
          35.07592455,
          35.085091,
          35.08731306,
          35.11620137,
          35.12342345,
          35.1264789,
          35.13062839,
          35.13620096,
          35.1364787,
          35.149534,
          35.1500833,
          35.15286748,
          35.15397849,
          35.18370004,
          35.18738889,
          35.1961811,
          35.2134027,
          35.21368098,
          35.241544,
          35.24369894,
          35.2442544,
          35.3450855,
          35.3450855,
          35.3450855,
          35.37425086,
          35.42091157,
          35.54213889,
          35.64380556,
          35.65620264,
          36.00561629,
          36.08913889,
          36.09535377,
          36.1431128
         ],
         "xaxis": "x",
         "y": [
          334,
          106.5,
          553,
          250,
          278,
          265,
          309,
          91,
          1282,
          499,
          488,
          72.96,
          540,
          1083,
          59,
          382,
          1381,
          742,
          319,
          150,
          308,
          162,
          223,
          262,
          434,
          529,
          18,
          69,
          115,
          370,
          127,
          296,
          879,
          220,
          187,
          175,
          394,
          262
         ],
         "yaxis": "y"
        },
        {
         "customdata": [
          [
           360252090173201
          ],
          [
           360252090173202
          ],
          [
           360425089485001
          ],
          [
           361145089394101
          ],
          [
           362718089552301
          ],
          [
           362955089581801
          ],
          [
           363236094290301
          ],
          [
           363436092391001
          ],
          [
           363442090364301
          ],
          [
           363551090152801
          ],
          [
           363728093150401
          ],
          [
           363855093134701
          ],
          [
           364006093200301
          ],
          [
           364059093520001
          ],
          [
           364313094121101
          ],
          [
           364324091515001
          ],
          [
           364453093543601
          ],
          [
           364453093543602
          ],
          [
           364643089212301
          ],
          [
           364818094185301
          ],
          [
           364818094185302
          ],
          [
           365319089331001
          ],
          [
           365415093342301
          ],
          [
           365451093555501
          ],
          [
           365559092030001
          ],
          [
           365602092395101
          ],
          [
           365644094001301
          ],
          [
           365645093431601
          ],
          [
           365654091001301
          ],
          [
           365949091421401
          ],
          [
           370005093122401
          ],
          [
           370224094320201
          ],
          [
           370236093174401
          ],
          [
           370248090042601
          ],
          [
           370354093325901
          ],
          [
           370539093494001
          ],
          [
           370539093494002
          ],
          [
           370600094223501
          ],
          [
           370624092244701
          ],
          [
           370655093035301
          ],
          [
           370828094274101
          ],
          [
           370907093144101
          ],
          [
           371036094171301
          ],
          [
           371125089445301
          ],
          [
           371435093134701
          ],
          [
           371548093144701
          ],
          [
           371548093144702
          ],
          [
           371558093181901
          ],
          [
           371800092094801
          ],
          [
           371801093260401
          ],
          [
           372022092542201
          ],
          [
           372153091322301
          ],
          [
           372202094370201
          ],
          [
           372202094370202
          ],
          [
           372338094052801
          ],
          [
           372521089362401
          ],
          [
           372715090510701
          ],
          [
           372853091061801
          ],
          [
           372958094161001
          ],
          [
           373056091063801
          ],
          [
           373210090180601
          ],
          [
           373559090082901
          ],
          [
           373620093470301
          ],
          [
           373653091330101
          ],
          [
           373701093151601
          ],
          [
           373905091071001
          ],
          [
           373906092385201
          ],
          [
           373955091065901
          ],
          [
           374254094524501
          ],
          [
           374515090255601
          ],
          [
           374649090242601
          ],
          [
           375259093181401
          ],
          [
           375306090125301
          ],
          [
           375429092300701
          ],
          [
           375617090465401
          ],
          [
           375625091480401
          ],
          [
           375749091475001
          ],
          [
           375907091432201
          ],
          [
           380038092442701
          ],
          [
           380229093464701
          ],
          [
           380322091142601
          ],
          [
           380501090335501
          ],
          [
           380545094213501
          ],
          [
           380717092395401
          ],
          [
           380900091153901
          ],
          [
           381045091564801
          ],
          [
           381217091104501
          ],
          [
           381405090260301
          ],
          [
           381641093214601
          ],
          [
           381652093215501
          ],
          [
           382100090592801
          ],
          [
           382726093121601
          ],
          [
           382745091275701
          ],
          [
           382748093595101
          ],
          [
           382836091502301
          ],
          [
           383031090384101
          ],
          [
           383226092054001
          ],
          [
           383302090420201
          ],
          [
           383550092094201
          ],
          [
           383628090411901
          ],
          [
           383644091124901
          ],
          [
           383906090511401
          ],
          [
           383929092464901
          ],
          [
           384147093101901
          ],
          [
           384258091243001
          ],
          [
           384455093201001
          ],
          [
           384534093431101
          ],
          [
           384545093331601
          ],
          [
           384713091474301
          ],
          [
           384737090372001
          ],
          [
           384832093192501
          ],
          [
           384846090510301
          ],
          [
           384849090092001
          ],
          [
           384917091594401
          ],
          [
           385428091265001
          ],
          [
           385432091343201
          ],
          [
           385718092234201
          ],
          [
           385837090594701
          ],
          [
           385845090583801
          ],
          [
           385853092592801
          ],
          [
           390150090542801
          ],
          [
           390207092570801
          ],
          [
           390651092125101
          ],
          [
           390750093233401
          ],
          [
           390945091494001
          ],
          [
           390945094234001
          ],
          [
           391149092072901
          ],
          [
           391222093185501
          ],
          [
           391236094170201
          ],
          [
           391825091285101
          ],
          [
           392045093302401
          ],
          [
           392147090541901
          ],
          [
           392321092153901
          ],
          [
           392336094550403
          ],
          [
           393218095032601
          ],
          [
           393544093075601
          ],
          [
           394013093400201
          ],
          [
           394156092030201
          ],
          [
           394201093181101
          ],
          [
           395043091262601
          ],
          [
           395355095051601
          ],
          [
           400105093591601
          ],
          [
           400251094485901
          ],
          [
           400458093582001
          ],
          [
           401057091494501
          ],
          [
           401444093442001
          ],
          [
           401920092130301
          ],
          [
           402356091344001
          ],
          [
           402657093470201
          ],
          [
           403055094364701
          ],
          [
           403301094492301
          ],
          [
           403452092292901
          ],
          [
           403501091420401
          ]
         ],
         "hovertemplate": "state=MO<br>Latitude=%{x}<br>Well Depth=%{marker.size}<br>site_id=%{customdata[0]}<extra></extra>",
         "legendgroup": "MO",
         "marker": {
          "color": "#ab63fa",
          "size": [
           118,
           1641,
           131,
           1388,
           1330,
           130,
           850,
           264,
           65,
           81,
           1400,
           1002,
           910,
           1200,
           346,
           1605,
           304,
           803,
           118,
           344,
           696,
           145,
           1120,
           1475,
           780,
           1300,
           1160,
           1425,
           56,
           1150,
           688,
           1570,
           1252,
           75,
           804,
           624,
           204,
           1747,
           1221,
           1635,
           1015,
           685,
           1825,
           75,
           565,
           100,
           600,
           1401,
           481,
           626,
           1340,
           425,
           404,
           657,
           893,
           1800,
           575,
           270,
           981,
           170,
           590,
           1526,
           265,
           355,
           200,
           310,
           405,
           640,
           75,
           325,
           495,
           298,
           985,
           910,
           1100,
           650,
           450,
           800,
           1100,
           875,
           255,
           1500,
           800,
           830,
           625,
           935,
           810,
           1084,
           151,
           1406,
           255,
           503,
           400,
           246,
           1080,
           820,
           475,
           445,
           95,
           540,
           1075,
           201,
           750,
           330,
           80.06,
           456,
           1001,
           840,
           705,
           860,
           1410,
           1337,
           104,
           1190,
           1030,
           405,
           1353,
           1470,
           813,
           70,
           875,
           230,
           1045,
           110,
           610,
           121,
           1650,
           136.5,
           35.6,
           700,
           71,
           650,
           260,
           105,
           83,
           52,
           82,
           82,
           65,
           85,
           38.7,
           92,
           43,
           166,
           300,
           140,
           86,
           150,
           43,
           41,
           28,
           27,
           175
          ],
          "sizemode": "area",
          "sizeref": 8,
          "symbol": "circle"
         },
         "mode": "markers",
         "name": "MO",
         "showlegend": true,
         "type": "scattergl",
         "x": [
          36.049,
          36.049,
          36.07352778,
          36.19588889,
          36.4551111,
          36.4995,
          36.54269444,
          36.57563889,
          36.5792222,
          36.5984722,
          36.62452778,
          36.6488611,
          36.66816667,
          36.67955556,
          36.7205833,
          36.74644444,
          36.7480833,
          36.7480833,
          36.7794722,
          36.80491667,
          36.80491667,
          36.8882222,
          36.90416667,
          36.9140833,
          36.9330833,
          36.93402778,
          36.94552778,
          36.94369444,
          36.94841667,
          36.99688889,
          37.00069444,
          37.03938889,
          37.0431111,
          37.0459722,
          37.0648333,
          37.0942222,
          37.09419444,
          37.1000833,
          37.1066111,
          37.11541667,
          37.1411111,
          37.15188889,
          37.17652778,
          37.1905833,
          37.24141667,
          37.2632222,
          37.2632222,
          37.2988611,
          37.30004894,
          37.30038889,
          37.33977778,
          37.3646111,
          37.3672222,
          37.36725,
          37.39394444,
          37.42241667,
          37.45421474,
          37.4813246,
          37.4998333,
          37.5155745,
          37.53552778,
          37.59927778,
          37.60575,
          37.61466667,
          37.61594444,
          37.65171299,
          37.6480833,
          37.66532407,
          39.7155833,
          37.75402335,
          37.78016667,
          37.8829722,
          37.88502778,
          37.9083333,
          37.93816667,
          37.9403191,
          37.9636524,
          37.98615285,
          38.01016667,
          38.0416967,
          38.0561111,
          38.0835833,
          38.0948611,
          38.12163889,
          38.15002778,
          38.17916667,
          38.20469444,
          38.22402778,
          38.2779722,
          38.28088889,
          38.35025,
          38.4573333,
          38.46194444,
          38.4635,
          38.47688889,
          38.50919444,
          38.5406111,
          38.5505,
          38.59713889,
          38.60794444,
          38.6122222,
          38.65171885,
          38.6579722,
          38.6964722,
          38.71615639,
          38.7481111,
          38.75916667,
          38.76263889,
          38.78666667,
          38.7935,
          38.8076111,
          38.8133333,
          38.81294444,
          38.8211111,
          38.90777778,
          38.90888889,
          38.955,
          38.9771111,
          38.97913889,
          38.98138889,
          39.03055556,
          39.03530148,
          39.11416667,
          39.1306111,
          39.1625399,
          39.16250406,
          39.19694444,
          39.206,
          39.21000399,
          39.30694444,
          39.34569444,
          39.3628611,
          39.38920499,
          39.3933611,
          39.5380833,
          39.59555556,
          39.6704722,
          39.69869444,
          39.7000833,
          39.84532346,
          39.8986067,
          40.0182222,
          40.04769444,
          40.0829722,
          40.1833611,
          40.2456111,
          40.32225,
          40.3972649,
          40.44902778,
          40.51519444,
          40.55027778,
          40.58091667,
          40.5836111
         ],
         "xaxis": "x",
         "y": [
          118,
          1641,
          131,
          1388,
          1330,
          130,
          850,
          264,
          65,
          81,
          1400,
          1002,
          910,
          1200,
          346,
          1605,
          304,
          803,
          118,
          344,
          696,
          145,
          1120,
          1475,
          780,
          1300,
          1160,
          1425,
          56,
          1150,
          688,
          1570,
          1252,
          75,
          804,
          624,
          204,
          1747,
          1221,
          1635,
          1015,
          685,
          1825,
          75,
          565,
          100,
          600,
          1401,
          481,
          626,
          1340,
          425,
          404,
          657,
          893,
          1800,
          575,
          270,
          981,
          170,
          590,
          1526,
          265,
          355,
          200,
          310,
          405,
          640,
          75,
          325,
          495,
          298,
          985,
          910,
          1100,
          650,
          450,
          800,
          1100,
          875,
          255,
          1500,
          800,
          830,
          625,
          935,
          810,
          1084,
          151,
          1406,
          255,
          503,
          400,
          246,
          1080,
          820,
          475,
          445,
          95,
          540,
          1075,
          201,
          750,
          330,
          80.06,
          456,
          1001,
          840,
          705,
          860,
          1410,
          1337,
          104,
          1190,
          1030,
          405,
          1353,
          1470,
          813,
          70,
          875,
          230,
          1045,
          110,
          610,
          121,
          1650,
          136.5,
          35.6,
          700,
          71,
          650,
          260,
          105,
          83,
          52,
          82,
          82,
          65,
          85,
          38.7,
          92,
          43,
          166,
          300,
          140,
          86,
          150,
          43,
          41,
          28,
          27,
          175
         ],
         "yaxis": "y"
        },
        {
         "customdata": [
          [
           360349115100001
          ],
          [
           361232115061001
          ],
          [
           361400115040901
          ],
          [
           361410115142601
          ],
          [
           361410115142602
          ],
          [
           361410115142603
          ],
          [
           361456115111001
          ],
          [
           361626115090701
          ],
          [
           361704115121901
          ],
          [
           362417116163600
          ],
          [
           362529116171100
          ],
          [
           363213116133800
          ],
          [
           363308114553001
          ],
          [
           363503115385701
          ],
          [
           364528116232201
          ],
          [
           364650114432001
          ],
          [
           364743114533101
          ],
          [
           371151116294104
          ],
          [
           371247116284502
          ],
          [
           371312116283801
          ],
          [
           371425116251902
          ],
          [
           372639114520901
          ],
          [
           374215114453101
          ],
          [
           380531114534201
          ],
          [
           380758115204601
          ],
          [
           385521114503601
          ],
          [
           393310114475001
          ],
          [
           394036116183401
          ],
          [
           404901118223601
          ],
          [
           412910117321001
          ]
         ],
         "hovertemplate": "state=NV<br>Latitude=%{x}<br>Well Depth=%{marker.size}<br>site_id=%{customdata[0]}<extra></extra>",
         "legendgroup": "NV",
         "marker": {
          "color": "#FFA15A",
          "size": [
           355,
           1230,
           1000,
           697,
           467,
           320,
           650,
           1300,
           650,
           586,
           200,
           678,
           920,
           447,
           1138,
           478,
           669,
           2991,
           2920,
           2374,
           2834,
           1195,
           1000,
           2395,
           1837,
           948,
           122,
           139,
           152,
           17
          ],
          "sizemode": "area",
          "sizeref": 8,
          "symbol": "circle"
         },
         "mode": "markers",
         "name": "NV",
         "showlegend": true,
         "type": "scattergl",
         "x": [
          36.06608374,
          36.2158034,
          36.23330368,
          36.236078,
          36.236078,
          36.236078,
          36.24857874,
          36.281079,
          36.28441149,
          36.405625,
          36.42467828,
          36.5370025,
          36.5526722,
          36.58416389,
          36.75773044,
          36.7807333,
          36.79566667,
          37.19749199,
          37.2129893,
          37.2199976,
          37.24025414,
          37.4441298,
          37.7041303,
          38.0919722,
          38.1374509,
          38.9224442,
          39.5527147,
          39.67718056,
          40.81684739,
          41.4860077
         ],
         "xaxis": "x",
         "y": [
          355,
          1230,
          1000,
          697,
          467,
          320,
          650,
          1300,
          650,
          586,
          200,
          678,
          920,
          447,
          1138,
          478,
          669,
          2991,
          2920,
          2374,
          2834,
          1195,
          1000,
          2395,
          1837,
          948,
          122,
          139,
          152,
          17
         ],
         "yaxis": "y"
        },
        {
         "customdata": [
          [
           380616075380701
          ],
          [
           381956076275301
          ],
          [
           382038075065901
          ],
          [
           382215075041903
          ],
          [
           382325075063302
          ],
          [
           382407076260301
          ],
          [
           382443075033501
          ],
          [
           382549076260101
          ],
          [
           382635075030603
          ],
          [
           383239076354201
          ],
          [
           383746076482901
          ],
          [
           384333076394701
          ],
          [
           392045076512501
          ],
          [
           392931076410301
          ],
          [
           393733077274801
          ],
          [
           393851077343001
          ],
          [
           394008077005601
          ]
         ],
         "hovertemplate": "state=MD<br>Latitude=%{x}<br>Well Depth=%{marker.size}<br>site_id=%{customdata[0]}<extra></extra>",
         "legendgroup": "MD",
         "marker": {
          "color": "#19d3f3",
          "size": [
           15,
           494,
           243,
           500,
           420,
           698,
           353,
           590,
           478,
           570,
           24.5,
           320,
           250,
           300,
           189,
           200,
           310
          ],
          "sizemode": "area",
          "sizeref": 8,
          "symbol": "circle"
         },
         "mode": "markers",
         "name": "MD",
         "showlegend": true,
         "type": "scattergl",
         "x": [
          38.10525,
          38.3323611,
          38.3439722,
          38.3709722,
          38.3908333,
          38.40225,
          38.41277778,
          38.43325,
          38.44241667,
          38.54355556,
          38.62991667,
          38.7261111,
          39.346525,
          39.4926,
          39.62593114,
          39.64746389,
          39.66898968
         ],
         "xaxis": "x",
         "y": [
          15,
          494,
          243,
          500,
          420,
          698,
          353,
          590,
          478,
          570,
          24.5,
          320,
          250,
          300,
          189,
          200,
          310
         ],
         "yaxis": "y"
        },
        {
         "customdata": [
          [
           380626087344401
          ],
          [
           382156085382401
          ],
          [
           382323086044501
          ],
          [
           383012086124501
          ],
          [
           383247087361001
          ],
          [
           383659086545901
          ],
          [
           384949085251901
          ],
          [
           384951087202501
          ],
          [
           385601085365701
          ],
          [
           390950085553501
          ],
          [
           391035085560401
          ],
          [
           391627085534401
          ],
          [
           392022085371801
          ],
          [
           392820087242601
          ],
          [
           393423086161001
          ],
          [
           393619087043001
          ],
          [
           393855086120701
          ],
          [
           393943085490901
          ],
          [
           394025086400801
          ],
          [
           394426085080601
          ],
          [
           400247086482101
          ],
          [
           400532086183901
          ],
          [
           400541085213701
          ],
          [
           401532085085301
          ],
          [
           402322085481901
          ],
          [
           402734087033401
          ],
          [
           402734087033402
          ],
          [
           402851087213501
          ],
          [
           403407086175701
          ],
          [
           403836085374401
          ],
          [
           403948085414601
          ],
          [
           404331085064701
          ],
          [
           404858085284301
          ],
          [
           405105087173301
          ],
          [
           405829086175801
          ],
          [
           405902087141501
          ],
          [
           405959087282901
          ],
          [
           405959087282902
          ],
          [
           410235087305901
          ],
          [
           410249087011201
          ],
          [
           410337085264201
          ],
          [
           410426084495201
          ],
          [
           410428087231501
          ],
          [
           410428087231502
          ],
          [
           410739086365201
          ],
          [
           410809087580801
          ],
          [
           410917087285801
          ],
          [
           410932084561101
          ],
          [
           411038087284701
          ],
          [
           411922085221801
          ],
          [
           412350086512801
          ],
          [
           413106085232701
          ],
          [
           413121085481301
          ],
          [
           413139086341401
          ],
          [
           413434086434701
          ],
          [
           413559087270301
          ],
          [
           414318085200601
          ]
         ],
         "hovertemplate": "state=IN<br>Latitude=%{x}<br>Well Depth=%{marker.size}<br>site_id=%{customdata[0]}<extra></extra>",
         "legendgroup": "IN",
         "marker": {
          "color": "#FF6692",
          "size": [
           70,
           100.65,
           93,
           142.53,
           53,
           143,
           200,
           137,
           180,
           49,
           111,
           93,
           47.3,
           70,
           64,
           155,
           66,
           150,
           85,
           49,
           111,
           171.8,
           91,
           54,
           35,
           212.54,
           64,
           310,
           130,
           198.02,
           117.87,
           79,
           148.31,
           80,
           102,
           150,
           150,
           44.72,
           150,
           300,
           191,
           97,
           150,
           45,
           105,
           130,
           150,
           84,
           82,
           149,
           32,
           44,
           62,
           104,
           77,
           23,
           86
          ],
          "sizemode": "area",
          "sizeref": 8,
          "symbol": "circle"
         },
         "mode": "markers",
         "name": "IN",
         "showlegend": true,
         "type": "scattergl",
         "x": [
          38.1072654,
          38.36544444,
          38.3897852,
          38.50339189,
          38.54643626,
          38.6164397,
          38.83061346,
          38.83087935,
          38.93366619,
          39.16394069,
          39.1764406,
          39.27421786,
          39.3394946,
          39.4717033,
          39.57310258,
          39.6053201,
          39.6486569,
          39.66198975,
          39.67365756,
          39.74115774,
          40.04643094,
          40.0922608,
          40.0947222,
          40.25893208,
          40.3894833,
          40.45947936,
          40.45947936,
          40.4808697,
          40.56864927,
          40.64337565,
          40.66337535,
          40.7253244,
          40.8161565,
          40.85138056,
          40.9747637,
          40.9839253,
          40.99975577,
          40.99975577,
          41.04308907,
          41.04698308,
          41.0594909,
          41.0739379,
          41.0744789,
          41.0744789,
          41.12754108,
          41.13615024,
          41.15475669,
          41.15913056,
          41.17725686,
          41.32266667,
          41.39726319,
          41.51893879,
          41.522827,
          41.5278221,
          41.5761539,
          41.59975796,
          41.72171706
         ],
         "xaxis": "x",
         "y": [
          70,
          100.65,
          93,
          142.53,
          53,
          143,
          200,
          137,
          180,
          49,
          111,
          93,
          47.3,
          70,
          64,
          155,
          66,
          150,
          85,
          49,
          111,
          171.8,
          91,
          54,
          35,
          212.54,
          64,
          310,
          130,
          198.02,
          117.87,
          79,
          148.31,
          80,
          102,
          150,
          150,
          44.72,
          150,
          300,
          191,
          97,
          150,
          45,
          105,
          130,
          150,
          84,
          82,
          149,
          32,
          44,
          62,
          104,
          77,
          23,
          86
         ],
         "yaxis": "y"
        },
        {
         "customdata": [
          [
           382323104200701
          ],
          [
           391730102422000
          ],
          [
           393902103554000
          ],
          [
           393902103554001
          ],
          [
           393902103554003
          ],
          [
           395136108210004
          ]
         ],
         "hovertemplate": "state=CO<br>Latitude=%{x}<br>Well Depth=%{marker.size}<br>site_id=%{customdata[0]}<extra></extra>",
         "legendgroup": "CO",
         "marker": {
          "color": "#B6E880",
          "size": [
           90,
           160,
           27.5,
           59.94,
           30,
           249.5
          ],
          "sizemode": "area",
          "sizeref": 8,
          "symbol": "circle"
         },
         "mode": "markers",
         "name": "CO",
         "showlegend": true,
         "type": "scattergl",
         "x": [
          38.3896722,
          39.29166047,
          39.65055556,
          39.65055556,
          39.65055556,
          39.8601333
         ],
         "xaxis": "x",
         "y": [
          90,
          160,
          27.5,
          59.94,
          30,
          249.5
         ],
         "yaxis": "y"
        },
        {
         "customdata": [
          [
           385041075395602
          ]
         ],
         "hovertemplate": "state=DE<br>Latitude=%{x}<br>Well Depth=%{marker.size}<br>site_id=%{customdata[0]}<extra></extra>",
         "legendgroup": "DE",
         "marker": {
          "color": "#FF97FF",
          "size": [
           20
          ],
          "sizemode": "area",
          "sizeref": 8,
          "symbol": "circle"
         },
         "mode": "markers",
         "name": "DE",
         "showlegend": true,
         "type": "scattergl",
         "x": [
          38.8452222
         ],
         "xaxis": "x",
         "y": [
          20
         ],
         "yaxis": "y"
        },
        {
         "customdata": [
          [
           385252076572801
          ]
         ],
         "hovertemplate": "state=DC<br>Latitude=%{x}<br>Well Depth=%{marker.size}<br>site_id=%{customdata[0]}<extra></extra>",
         "legendgroup": "DC",
         "marker": {
          "color": "#FECB52",
          "size": [
           265
          ],
          "sizemode": "area",
          "sizeref": 8,
          "symbol": "circle"
         },
         "mode": "markers",
         "name": "DC",
         "showlegend": true,
         "type": "scattergl",
         "x": [
          38.88119444
         ],
         "xaxis": "x",
         "y": [
          265
         ],
         "yaxis": "y"
        },
        {
         "customdata": [
          [
           385607074555201
          ],
          [
           385709074512801
          ],
          [
           385804074574201
          ],
          [
           390002074541002
          ],
          [
           390012074472001
          ],
          [
           390156074533401
          ],
          [
           390211074505502
          ],
          [
           390422074544701
          ],
          [
           390425074544601
          ],
          [
           390608074483801
          ],
          [
           391145074520401
          ],
          [
           391621074435401
          ],
          [
           391827074371001
          ],
          [
           391828075120902
          ],
          [
           392017074300201
          ],
          [
           392032074300801
          ],
          [
           392153074250101
          ],
          [
           392232074234403
          ],
          [
           392512074521206
          ],
          [
           392731075092401
          ],
          [
           392732075092401
          ],
          [
           392733075092401
          ],
          [
           392754074270101
          ],
          [
           392920074570001
          ],
          [
           393055075083501
          ],
          [
           393115074191001
          ],
          [
           393232074263901
          ],
          [
           393232074263903
          ],
          [
           393246075012701
          ],
          [
           393333074442401
          ],
          [
           393348075275701
          ],
          [
           393749074550901
          ],
          [
           394037075191501
          ],
          [
           394106074362501
          ],
          [
           394119075062701
          ],
          [
           394215074561701
          ],
          [
           394215074561702
          ],
          [
           394215074561703
          ],
          [
           394221075072201
          ],
          [
           394236075272101
          ],
          [
           394256075101001
          ],
          [
           394336074161201
          ],
          [
           394354075025901
          ],
          [
           394422074430903
          ],
          [
           394440074593101
          ],
          [
           394452074281901
          ],
          [
           394513074280601
          ],
          [
           394652075100401
          ],
          [
           394652075100402
          ],
          [
           394742074142002
          ],
          [
           394800074524601
          ],
          [
           394808075172401
          ],
          [
           394808075172402
          ],
          [
           394808075172404
          ],
          [
           394829074053503
          ],
          [
           394904074253601
          ],
          [
           394922074563301
          ],
          [
           394922074563302
          ],
          [
           394942075131701
          ],
          [
           394957075053001
          ],
          [
           395028074104401
          ],
          [
           395034074112101
          ],
          [
           395122074301701
          ],
          [
           395122074301702
          ],
          [
           395150074284201
          ],
          [
           395206075111801
          ],
          [
           395229074571201
          ],
          [
           395229074571202
          ],
          [
           395232075094201
          ],
          [
           395309074352101
          ],
          [
           395309074352102
          ],
          [
           395315074494601
          ],
          [
           395524074502501
          ],
          [
           395524074502502
          ],
          [
           395525074502505
          ],
          [
           395525074502601
          ],
          [
           395609074124001
          ],
          [
           395928074502701
          ],
          [
           395930074142101
          ],
          [
           400010074521601
          ],
          [
           400120074265401
          ],
          [
           400148074352001
          ],
          [
           400148074352101
          ],
          [
           400210074031001
          ],
          [
           400210074031002
          ],
          [
           400232074213201
          ],
          [
           400242074422301
          ],
          [
           400416074270101
          ],
          [
           400416074270103
          ],
          [
           400711074020201
          ],
          [
           400832074082101
          ],
          [
           401105074120201
          ],
          [
           401105074120202
          ],
          [
           401105074120203
          ],
          [
           401105074120204
          ],
          [
           401105074120205
          ],
          [
           401229074290001
          ],
          [
           401542074053001
          ],
          [
           401552074501801
          ],
          [
           401753074483501
          ],
          [
           401804074432601
          ],
          [
           401834074515501
          ],
          [
           401906074151401
          ],
          [
           402109074301301
          ],
          [
           402109074301302
          ],
          [
           402138074435801
          ],
          [
           402143074185201
          ],
          [
           402151074525301
          ],
          [
           402208074145201
          ],
          [
           402350073583901
          ],
          [
           402426074001901
          ],
          [
           402512074414301
          ],
          [
           402553074271701
          ],
          [
           402644074563601
          ],
          [
           403119074290301
          ],
          [
           403200074420601
          ],
          [
           403300074202901
          ],
          [
           403455074514801
          ],
          [
           403517074452501
          ],
          [
           403719075091801
          ],
          [
           404014074585401
          ],
          [
           404106074171901
          ],
          [
           404455074203202
          ],
          [
           404639074230001
          ],
          [
           404712074454701
          ],
          [
           404934074400501
          ],
          [
           405027074232301
          ],
          [
           405414074354201
          ],
          [
           405531074361901
          ],
          [
           405535074073701
          ],
          [
           405613074430901
          ],
          [
           405808074583001
          ],
          [
           410005074473801
          ],
          [
           410155074060201
          ],
          [
           410207074270001
          ],
          [
           410431074395801
          ],
          [
           410449074483301
          ],
          [
           410804074424401
          ],
          [
           410914074540401
          ],
          [
           410928074522801
          ]
         ],
         "hovertemplate": "state=NJ<br>Latitude=%{x}<br>Well Depth=%{marker.size}<br>site_id=%{customdata[0]}<extra></extra>",
         "legendgroup": "NJ",
         "marker": {
          "color": "#636efa",
          "size": [
           293,
           903,
           250,
           510,
           965,
           43,
           26,
           709,
           210,
           230,
           11,
           22.5,
           680,
           375,
           997.4,
           755,
           842,
           71,
           2093,
           47,
           138,
           376,
           570,
           81,
           1025,
           880,
           575,
           93,
           154,
           275,
           709,
           15,
           672,
           25,
           338,
           1505,
           849,
           530,
           36,
           51,
           33,
           415,
           54,
           17,
           76,
           12,
           41,
           313,
           777.2,
           316,
           355,
           295,
           155,
           56,
           2756,
           1441,
           1092,
           717,
           327,
           670,
           422,
           20,
           2117,
           170,
           33,
           221,
           562,
           147,
           276,
           920,
           635,
           180,
           410,
           263,
           750,
           1145,
           1146,
           14,
           1480,
           441,
           75,
           55,
           20,
           906,
           1369,
           38,
           615,
           427,
           267,
           614,
           633,
           1360.5,
           100.2,
           323.7,
           499,
           907.2,
           18.5,
           327,
           300,
           300,
           200,
           225,
           215,
           203,
           104,
           99,
           11,
           299,
           680,
           278,
           360,
           40,
           21,
           21,
           200,
           36,
           34.2,
           175,
           101,
           12,
           380,
           290,
           84,
           110,
           118,
           200,
           89,
           100,
           98,
           505,
           100,
           294,
           500,
           175,
           120,
           143,
           148,
           80,
           95,
           55
          ],
          "sizemode": "area",
          "sizeref": 8,
          "symbol": "circle"
         },
         "mode": "markers",
         "name": "NJ",
         "showlegend": true,
         "type": "scattergl",
         "x": [
          38.9353903,
          38.95261277,
          38.96789028,
          39.00066829,
          39.0034464,
          39.0323352,
          39.036502,
          39.072891,
          39.07372435,
          39.1031692,
          39.1959475,
          39.2726149,
          39.30733785,
          39.30817,
          39.33817188,
          39.34233857,
          39.3644722,
          39.3956718,
          39.4206712,
          39.45900397,
          39.45900397,
          39.45900397,
          39.4651173,
          39.48900475,
          39.51539299,
          39.52095107,
          39.4442836,
          39.4442836,
          39.54400446,
          39.55928348,
          39.5636962,
          39.63105556,
          39.6771415,
          39.6851181,
          39.68872569,
          39.7042823,
          39.7042823,
          39.7042823,
          39.70594775,
          39.71058586,
          39.71738889,
          39.72675,
          39.73178139,
          39.73956215,
          39.74455949,
          39.74789698,
          39.75373028,
          39.78122488,
          39.78122488,
          39.79567487,
          39.80000425,
          39.80233544,
          39.80233544,
          39.80233544,
          39.80817526,
          39.81789618,
          39.8228923,
          39.8228923,
          39.82844665,
          39.8326137,
          39.841,
          39.8428968,
          39.8562286,
          39.8562286,
          39.86456196,
          39.86813889,
          39.87483599,
          39.87483599,
          39.8765021,
          39.88594948,
          39.88594948,
          39.88766965,
          39.9234467,
          39.9234467,
          39.92372449,
          39.9234467,
          39.93595145,
          39.9912232,
          39.99150646,
          40.0028897,
          40.0223375,
          40.03011354,
          40.0301135,
          40.0363611,
          40.0364502,
          40.04372666,
          40.04527778,
          40.07066978,
          40.07066978,
          40.11983727,
          40.142892,
          40.18483529,
          40.18483529,
          40.18483529,
          40.18483529,
          40.18483529,
          40.20816658,
          40.2617783,
          40.26483028,
          40.29816305,
          40.30121878,
          40.31038498,
          40.32177635,
          40.35260754,
          40.35260754,
          40.36066208,
          40.3620529,
          40.36427285,
          40.3689976,
          40.39733124,
          40.40733107,
          40.4201055,
          40.43205038,
          40.44566016,
          40.5189928,
          40.53325,
          40.5500833,
          40.57732477,
          40.5881582,
          40.6220448,
          40.67044444,
          40.685102,
          40.74871186,
          40.7776003,
          40.7867665,
          40.8178774,
          40.8409329,
          40.90370996,
          40.92537639,
          40.92648748,
          40.9370428,
          40.96898645,
          41.00370868,
          41.03204145,
          41.03537519,
          41.0803747,
          41.08037446,
          41.13454085,
          41.1539843,
          41.1578732
         ],
         "xaxis": "x",
         "y": [
          293,
          903,
          250,
          510,
          965,
          43,
          26,
          709,
          210,
          230,
          11,
          22.5,
          680,
          375,
          997.4,
          755,
          842,
          71,
          2093,
          47,
          138,
          376,
          570,
          81,
          1025,
          880,
          575,
          93,
          154,
          275,
          709,
          15,
          672,
          25,
          338,
          1505,
          849,
          530,
          36,
          51,
          33,
          415,
          54,
          17,
          76,
          12,
          41,
          313,
          777.2,
          316,
          355,
          295,
          155,
          56,
          2756,
          1441,
          1092,
          717,
          327,
          670,
          422,
          20,
          2117,
          170,
          33,
          221,
          562,
          147,
          276,
          920,
          635,
          180,
          410,
          263,
          750,
          1145,
          1146,
          14,
          1480,
          441,
          75,
          55,
          20,
          906,
          1369,
          38,
          615,
          427,
          267,
          614,
          633,
          1360.5,
          100.2,
          323.7,
          499,
          907.2,
          18.5,
          327,
          300,
          300,
          200,
          225,
          215,
          203,
          104,
          99,
          11,
          299,
          680,
          278,
          360,
          40,
          21,
          21,
          200,
          36,
          34.2,
          175,
          101,
          12,
          380,
          290,
          84,
          110,
          118,
          200,
          89,
          100,
          98,
          505,
          100,
          294,
          500,
          175,
          120,
          143,
          148,
          80,
          95,
          55
         ],
         "yaxis": "y"
        },
        {
         "customdata": [
          [
           393541083001100
          ],
          [
           395058083002400
          ],
          [
           395131082592400
          ],
          [
           400949083480100
          ],
          [
           403923082325500
          ],
          [
           411138081172500
          ],
          [
           413547083481500
          ]
         ],
         "hovertemplate": "state=OH<br>Latitude=%{x}<br>Well Depth=%{marker.size}<br>site_id=%{customdata[0]}<extra></extra>",
         "legendgroup": "OH",
         "marker": {
          "color": "#EF553B",
          "size": [
           28,
           85,
           36.5,
           28.7,
           18.9,
           17.5,
           18.7
          ],
          "sizemode": "area",
          "sizeref": 8,
          "symbol": "circle"
         },
         "mode": "markers",
         "name": "OH",
         "showlegend": true,
         "type": "scattergl",
         "x": [
          39.59478435,
          39.8495,
          39.8586748,
          40.16366739,
          40.6564472,
          41.1939451,
          41.5964407
         ],
         "xaxis": "x",
         "y": [
          28,
          85,
          36.5,
          28.7,
          18.9,
          17.5,
          18.7
         ],
         "yaxis": "y"
        },
        {
         "customdata": [
          [
           394430077225001
          ],
          [
           394655080014301
          ],
          [
           394755078135001
          ],
          [
           394843079351401
          ],
          [
           395322077365301
          ],
          [
           395342075102101
          ],
          [
           395450075485401
          ],
          [
           395512075293701
          ],
          [
           395846077040601
          ],
          [
           395920079021501
          ],
          [
           400008079142801
          ],
          [
           400209077183301
          ],
          [
           400217078281901
          ],
          [
           400229075104601
          ],
          [
           400233080261301
          ],
          [
           400808075210401
          ],
          [
           400916076492301
          ],
          [
           401157075032001
          ],
          [
           401310075181702
          ],
          [
           401637076071501
          ],
          [
           401733075171401
          ],
          [
           401843078075401
          ],
          [
           402118076462201
          ],
          [
           402138079031802
          ],
          [
           402207076180801
          ],
          [
           402255076422001
          ],
          [
           402411077374801
          ],
          [
           402452078271301
          ],
          [
           402615075530501
          ],
          [
           402643075150501
          ],
          [
           402735077100901
          ],
          [
           402750078452201
          ],
          [
           403006080252301
          ],
          [
           403429075392401
          ],
          [
           403734080063001
          ],
          [
           403939076591001
          ],
          [
           404140077354001
          ],
          [
           404239076362001
          ],
          [
           404518077575501
          ],
          [
           404556077525101
          ],
          [
           404708076070701
          ],
          [
           404745075184001
          ],
          [
           405320078483901
          ],
          [
           405344079380201
          ],
          [
           405928077115501
          ],
          [
           410123075425401
          ],
          [
           410501079524401
          ],
          [
           410538080280801
          ],
          [
           410627078313601
          ],
          [
           410705076334901
          ],
          [
           410727076402901
          ],
          [
           410940074583401
          ],
          [
           411223075234901
          ],
          [
           411424077462201
          ],
          [
           411734078522101
          ],
          [
           411756076162701
          ],
          [
           411833075133601
          ],
          [
           411958079540202
          ],
          [
           412020079133901
          ],
          [
           412427076594401
          ],
          [
           412458078324601
          ],
          [
           412732078034201
          ],
          [
           412739080104201
          ],
          [
           412823079030601
          ],
          [
           412826076083301
          ],
          [
           413026076352901
          ],
          [
           413346075421301
          ],
          [
           413542080245002
          ],
          [
           414159079213601
          ],
          [
           414330076280501
          ],
          [
           414333075153201
          ],
          [
           414513077333701
          ],
          [
           414640077493801
          ],
          [
           415323077451301
          ],
          [
           415607080044601
          ]
         ],
         "hovertemplate": "state=PA<br>Latitude=%{x}<br>Well Depth=%{marker.size}<br>site_id=%{customdata[0]}<extra></extra>",
         "legendgroup": "PA",
         "marker": {
          "color": "#00cc96",
          "size": [
           234,
           104,
           122,
           100,
           202,
           100,
           33.5,
           300,
           99.5,
           121,
           450,
           44,
           150,
           18.6,
           133,
           486,
           182,
           395,
           600,
           135,
           500,
           105,
           225,
           110,
           37,
           141,
           110,
           150,
           318,
           116,
           150,
           142,
           101,
           184,
           100,
           100,
           200,
           156,
           130,
           345,
           242,
           218,
           140,
           152.5,
           115,
           125,
           89,
           150,
           150,
           241,
           203,
           799,
           98,
           75,
           152,
           167,
           150,
           215,
           130,
           200,
           340,
           102,
           120,
           110,
           122,
           50,
           202,
           100,
           105,
           115,
           52,
           78,
           110,
           175,
           82
          ],
          "sizemode": "area",
          "sizeref": 8,
          "symbol": "circle"
         },
         "mode": "markers",
         "name": "PA",
         "showlegend": true,
         "type": "scattergl",
         "x": [
          39.7416111,
          39.78213889,
          39.7986111,
          39.8125,
          39.8893611,
          39.8951131,
          39.9137222,
          39.9200833,
          39.97927778,
          39.9888333,
          40.00141667,
          40.03527778,
          40.0376111,
          40.0414722,
          40.0425,
          40.13616667,
          40.1549722,
          40.19913889,
          40.21955079,
          40.27702778,
          40.2927222,
          40.31230556,
          40.35508826,
          40.3604722,
          40.36875,
          40.382,
          40.40302778,
          40.4145,
          40.4374722,
          40.4451111,
          40.46044444,
          40.4625833,
          40.5015,
          40.5751111,
          40.62619444,
          40.6612222,
          40.69477778,
          40.71080556,
          40.75544444,
          40.76563889,
          40.78575,
          40.796,
          40.88988889,
          40.89566667,
          40.99013889,
          41.02319444,
          41.0838333,
          41.09369444,
          41.10744444,
          41.11766667,
          41.12413889,
          41.16141667,
          41.20669444,
          41.2402222,
          41.2935,
          41.29941667,
          41.30919444,
          41.3315833,
          41.33677778,
          41.40791667,
          41.41619444,
          41.45880556,
          41.46088889,
          41.4734722,
          41.47438889,
          41.50705556,
          41.56291667,
          41.5953333,
          41.6994722,
          41.72341667,
          41.7252222,
          41.7533333,
          41.77705556,
          41.89005556,
          41.93466667
         ],
         "xaxis": "x",
         "y": [
          234,
          104,
          122,
          100,
          202,
          100,
          33.5,
          300,
          99.5,
          121,
          450,
          44,
          150,
          18.6,
          133,
          486,
          182,
          395,
          600,
          135,
          500,
          105,
          225,
          110,
          37,
          141,
          110,
          150,
          318,
          116,
          150,
          142,
          101,
          184,
          100,
          100,
          200,
          156,
          130,
          345,
          242,
          218,
          140,
          152.5,
          115,
          125,
          89,
          150,
          150,
          241,
          203,
          799,
          98,
          75,
          152,
          167,
          150,
          215,
          130,
          200,
          340,
          102,
          120,
          110,
          122,
          50,
          202,
          100,
          105,
          115,
          52,
          78,
          110,
          175,
          82
         ],
         "yaxis": "y"
        },
        {
         "customdata": [
          [
           400920099215501
          ],
          [
           401416099270601
          ],
          [
           401735098522701
          ],
          [
           401857099195201
          ],
          [
           402101099595001
          ],
          [
           402625098594501
          ],
          [
           403032096104801
          ],
          [
           403132099381001
          ],
          [
           403223096360601
          ],
          [
           403400096435501
          ],
          [
           423307099494501
          ],
          [
           424837099425201
          ]
         ],
         "hovertemplate": "state=NE<br>Latitude=%{x}<br>Well Depth=%{marker.size}<br>site_id=%{customdata[0]}<extra></extra>",
         "legendgroup": "NE",
         "marker": {
          "color": "#ab63fa",
          "size": [
           170,
           257,
           265,
           315,
           211.6,
           210,
           106,
           241,
           260,
           293,
           52,
           240
          ],
          "sizemode": "area",
          "sizeref": 8,
          "symbol": "circle"
         },
         "mode": "markers",
         "name": "NE",
         "showlegend": true,
         "type": "scattergl",
         "x": [
          40.1555664,
          40.23778817,
          40.29306924,
          40.3158444,
          40.350284,
          40.4402914,
          40.5088888,
          40.52556319,
          40.5397228,
          40.56666856,
          42.5519436,
          42.81027777
         ],
         "xaxis": "x",
         "y": [
          170,
          257,
          265,
          315,
          211.6,
          210,
          106,
          241,
          260,
          293,
          52,
          240
         ],
         "yaxis": "y"
        },
        {
         "customdata": [
          [
           405451091483301
          ],
          [
           410057095075101
          ],
          [
           414315091252002
          ],
          [
           415439093094801
          ],
          [
           415501096081201
          ],
          [
           420014091442701
          ],
          [
           420212095235701
          ],
          [
           430203091501201
          ],
          [
           430510093425101
          ]
         ],
         "hovertemplate": "state=IA<br>Latitude=%{x}<br>Well Depth=%{marker.size}<br>site_id=%{customdata[0]}<extra></extra>",
         "legendgroup": "IA",
         "marker": {
          "color": "#FFA15A",
          "size": [
           23,
           40,
           82.5,
           38.5,
           45,
           42.5,
           48,
           23,
           23.9
          ],
          "sizemode": "area",
          "sizeref": 8,
          "symbol": "circle"
         },
         "mode": "markers",
         "name": "IA",
         "showlegend": true,
         "type": "scattergl",
         "x": [
          40.91416667,
          41.0158248,
          41.7211284,
          41.9108333,
          41.9169324,
          42.0038876,
          42.03666667,
          43.03416667,
          43.0861111
         ],
         "xaxis": "x",
         "y": [
          23,
          40,
          82.5,
          38.5,
          45,
          42.5,
          48,
          23,
          23.9
         ],
         "yaxis": "y"
        },
        {
         "customdata": [
          [
           410233104093201
          ],
          [
           410233104093203
          ],
          [
           410508105003801
          ],
          [
           433551110443501
          ],
          [
           433603110443501
          ],
          [
           433604110443402
          ],
          [
           433604110443403
          ],
          [
           433613110443501
          ],
          [
           433615110440001
          ],
          [
           433641110441501
          ]
         ],
         "hovertemplate": "state=WY<br>Latitude=%{x}<br>Well Depth=%{marker.size}<br>site_id=%{customdata[0]}<extra></extra>",
         "legendgroup": "WY",
         "marker": {
          "color": "#19d3f3",
          "size": [
           837,
           132.1,
           122.38,
           59.45,
           60.23,
           94.45,
           64,
           59,
           60.36,
           70
          ],
          "sizemode": "area",
          "sizeref": 8,
          "symbol": "circle"
         },
         "mode": "markers",
         "name": "WY",
         "showlegend": true,
         "type": "scattergl",
         "x": [
          41.04244444,
          41.04255556,
          41.08538889,
          43.5974143,
          43.60073657,
          43.60116667,
          43.60118056,
          43.60346716,
          43.6040424,
          43.6118333
         ],
         "xaxis": "x",
         "y": [
          837,
          132.1,
          122.38,
          59.45,
          60.23,
          94.45,
          64,
          59,
          60.36,
          70
         ],
         "yaxis": "y"
        },
        {
         "customdata": [
          [
           410628073413301
          ],
          [
           412429073165101
          ],
          [
           412825072410501
          ],
          [
           412916073121701
          ],
          [
           413535072253701
          ],
          [
           414240072033201
          ],
          [
           414741072134501
          ],
          [
           414831072173002
          ]
         ],
         "hovertemplate": "state=CT<br>Latitude=%{x}<br>Well Depth=%{marker.size}<br>site_id=%{customdata[0]}<extra></extra>",
         "legendgroup": "CT",
         "marker": {
          "color": "#FF6692",
          "size": [
           350,
           33,
           22.5,
           82,
           16.5,
           26,
           22,
           444
          ],
          "sizemode": "area",
          "sizeref": 8,
          "symbol": "circle"
         },
         "mode": "markers",
         "name": "CT",
         "showlegend": true,
         "type": "scattergl",
         "x": [
          41.10788889,
          41.40820556,
          41.47270556,
          41.48787368,
          41.5931333,
          41.71101667,
          41.7950222,
          41.8085333
         ],
         "xaxis": "x",
         "y": [
          350,
          33,
          22.5,
          82,
          16.5,
          26,
          22,
          444
         ],
         "yaxis": "y"
        },
        {
         "customdata": [
          [
           410853073554001
          ],
          [
           411421073481202
          ],
          [
           411802073593001
          ],
          [
           412149073445601
          ],
          [
           412637074362301
          ],
          [
           412714073331301
          ],
          [
           413428074085701
          ],
          [
           414128073475201
          ],
          [
           414429074052001
          ],
          [
           414525074360601
          ],
          [
           414737073563301
          ],
          [
           414948074035001
          ],
          [
           420326079295801
          ],
          [
           420530078445201
          ],
          [
           420828076484601
          ],
          [
           420829076484801
          ],
          [
           421138075511301
          ],
          [
           421157075535401
          ],
          [
           421213076313301
          ],
          [
           421512077472801
          ],
          [
           421544078021301
          ],
          [
           421556075281602
          ],
          [
           421746074180201
          ],
          [
           421903074152301
          ],
          [
           421948074483701
          ],
          [
           421948074483702
          ],
          [
           422241073274601
          ],
          [
           422323076190301
          ],
          [
           422445077203301
          ],
          [
           422622073410901
          ],
          [
           422702079005101
          ],
          [
           422710076462901
          ],
          [
           422902076475801
          ],
          [
           422920076275301
          ],
          [
           423143076582601
          ],
          [
           423530074191701
          ],
          [
           423534073423401
          ],
          [
           423743078070802
          ],
          [
           423827076035901
          ],
          [
           424017074301501
          ],
          [
           424115073495301
          ],
          [
           424136075025101
          ],
          [
           424158076251901
          ],
          [
           424311073423901
          ],
          [
           424347076530201
          ],
          [
           424347076530202
          ],
          [
           424452076081902
          ],
          [
           424859073585501
          ],
          [
           425048073472501
          ],
          [
           425448076350002
          ],
          [
           425511074254001
          ],
          [
           425704078360601
          ],
          [
           425803077151201
          ],
          [
           425821076461301
          ],
          [
           425833077503901
          ],
          [
           425840077133901
          ],
          [
           425846075504501
          ],
          [
           425913078085501
          ],
          [
           430056075354102
          ],
          [
           430121074523001
          ],
          [
           430146078101301
          ],
          [
           430243076180401
          ],
          [
           430243076180402
          ],
          [
           430252077283402
          ],
          [
           430311077051501
          ],
          [
           430327073475401
          ],
          [
           430739078502701
          ],
          [
           430924078241301
          ],
          [
           430930074290301
          ],
          [
           431030073192101
          ],
          [
           431045078160401
          ],
          [
           431227075233301
          ],
          [
           431308078544501
          ],
          [
           431359075235501
          ],
          [
           431841074573201
          ],
          [
           432148076225101
          ],
          [
           432148076225102
          ],
          [
           432832074122201
          ],
          [
           433001073474701
          ],
          [
           433112075091501
          ],
          [
           433258073440201
          ],
          [
           435253073440701
          ],
          [
           440114075453701
          ],
          [
           440939075191301
          ],
          [
           441214075542101
          ],
          [
           441644073315101
          ],
          [
           444904074455201
          ],
          [
           445052073350201
          ],
          [
           445216074593001
          ],
          [
           445511074103901
          ],
          [
           445511074103902
          ],
          [
           445805073380501
          ]
         ],
         "hovertemplate": "state=NY<br>Latitude=%{x}<br>Well Depth=%{marker.size}<br>site_id=%{customdata[0]}<extra></extra>",
         "legendgroup": "NY",
         "marker": {
          "color": "#B6E880",
          "size": [
           153,
           24,
           60,
           655,
           33,
           14,
           49,
           24.5,
           220,
           37,
           126,
           41,
           30.2,
           52.8,
           39.2,
           34.1,
           47,
           252,
           53,
           20,
           29.5,
           13,
           25,
           352,
           27,
           147,
           360,
           85,
           15,
           29.5,
           350,
           26,
           99,
           72,
           19.5,
           19.5,
           79,
           20.3,
           37.2,
           148,
           28.8,
           15,
           28,
           46,
           3.5,
           56.6,
           25,
           25,
           14,
           44,
           48,
           18,
           20,
           33.8,
           25.5,
           139,
           170,
           75,
           15,
           97,
           74.6,
           160,
           210,
           14.5,
           28.8,
           290,
           39,
           90,
           14.9,
           15,
           53,
           52,
           23,
           35.2,
           58,
           83,
           30,
           16,
           35.5,
           31,
           231,
           26.7,
           45.3,
           45,
           23,
           300,
           11.4,
           78,
           179,
           37,
           116,
           6
          ],
          "sizemode": "area",
          "sizeref": 8,
          "symbol": "circle"
         },
         "mode": "markers",
         "name": "NY",
         "showlegend": true,
         "type": "scattergl",
         "x": [
          41.148,
          41.2393611,
          41.3006494,
          41.3637222,
          41.4436111,
          41.4541111,
          41.5743611,
          41.6913333,
          41.74155556,
          41.75675,
          41.79370429,
          41.83,
          42.05744444,
          42.0918333,
          42.1411111,
          42.1414634,
          42.19396475,
          42.19924216,
          42.20352778,
          42.2533333,
          42.2622222,
          42.2653611,
          42.29616667,
          42.31758396,
          42.32991667,
          42.32994444,
          42.37805556,
          42.38966667,
          42.41257085,
          42.4395833,
          42.45044444,
          42.4528501,
          42.4838333,
          42.48888889,
          42.52880556,
          42.5918333,
          42.5928579,
          42.62867339,
          42.6408333,
          42.6713611,
          42.6874722,
          42.69340779,
          42.69952778,
          42.71980556,
          42.7297222,
          42.7297222,
          42.74777778,
          42.81638889,
          42.84638889,
          42.9133333,
          42.91975,
          42.95280278,
          42.9675,
          42.9725,
          42.97580556,
          42.9778411,
          42.97938889,
          42.987,
          43.0156241,
          43.02244444,
          43.02963889,
          43.0453441,
          43.0453441,
          43.048,
          43.0530833,
          43.0576111,
          43.12777778,
          43.15677778,
          43.15825,
          43.17494444,
          43.17916667,
          43.2075,
          43.21894444,
          43.23294444,
          43.31141667,
          43.3633333,
          43.3633333,
          43.47580556,
          43.50044444,
          43.5203333,
          43.54941667,
          43.8814491,
          44.02052778,
          44.1608333,
          44.20394444,
          44.2788611,
          44.8178312,
          44.848,
          44.87116167,
          44.91974017,
          44.91971239,
          44.9680833
         ],
         "xaxis": "x",
         "y": [
          153,
          24,
          60,
          655,
          33,
          14,
          49,
          24.5,
          220,
          37,
          126,
          41,
          30.2,
          52.8,
          39.2,
          34.1,
          47,
          252,
          53,
          20,
          29.5,
          13,
          25,
          352,
          27,
          147,
          360,
          85,
          15,
          29.5,
          350,
          26,
          99,
          72,
          19.5,
          19.5,
          79,
          20.3,
          37.2,
          148,
          28.8,
          15,
          28,
          46,
          3.5,
          56.6,
          25,
          25,
          14,
          44,
          48,
          18,
          20,
          33.8,
          25.5,
          139,
          170,
          75,
          15,
          97,
          74.6,
          160,
          210,
          14.5,
          28.8,
          290,
          39,
          90,
          14.9,
          15,
          53,
          52,
          23,
          35.2,
          58,
          83,
          30,
          16,
          35.5,
          31,
          231,
          26.7,
          45.3,
          45,
          23,
          300,
          11.4,
          78,
          179,
          37,
          116,
          6
         ],
         "yaxis": "y"
        },
        {
         "customdata": [
          [
           412154071462901
          ],
          [
           412844071422802
          ],
          [
           412918071321001
          ],
          [
           412932071374302
          ],
          [
           413252071323601
          ],
          [
           413358071433801
          ]
         ],
         "hovertemplate": "state=RI<br>Latitude=%{x}<br>Well Depth=%{marker.size}<br>site_id=%{customdata[0]}<extra></extra>",
         "legendgroup": "RI",
         "marker": {
          "color": "#FF97FF",
          "size": [
           16,
           54,
           34,
           40,
           25.1,
           40
          ],
          "sizemode": "area",
          "sizeref": 8,
          "symbol": "circle"
         },
         "mode": "markers",
         "name": "RI",
         "showlegend": true,
         "type": "scattergl",
         "x": [
          41.36509999,
          41.47898869,
          41.48843449,
          41.49232259,
          41.5478786,
          41.56621059
         ],
         "xaxis": "x",
         "y": [
          16,
          54,
          34,
          40,
          25.1,
          40
         ],
         "yaxis": "y"
        },
        {
         "customdata": [
          [
           413801070322703
          ],
          [
           414101070011001
          ],
          [
           414124070311401
          ],
          [
           414125070265901
          ],
          [
           414129070361401
          ],
          [
           414139070311501
          ],
          [
           414159070310501
          ],
          [
           414219070313601
          ],
          [
           414630070014901
          ],
          [
           414632070014901
          ],
          [
           415228070554601
          ],
          [
           415354069585201
          ],
          [
           415453070434901
          ],
          [
           420206070045901
          ],
          [
           420305072581401
          ],
          [
           420316070433501
          ],
          [
           420321070433502
          ],
          [
           420350073193601
          ],
          [
           420544071173701
          ],
          [
           420545071174001
          ],
          [
           421853071220501
          ],
          [
           422103072241102
          ],
          [
           422341071464901
          ],
          [
           422745073112001
          ],
          [
           422812071244401
          ],
          [
           422906072124301
          ],
          [
           423058071025401
          ],
          [
           423115071032001
          ],
          [
           423401071093801
          ],
          [
           423506070491401
          ],
          [
           424520070562401
          ],
          [
           424841071004101
          ]
         ],
         "hovertemplate": "state=MA<br>Latitude=%{x}<br>Well Depth=%{marker.size}<br>site_id=%{customdata[0]}<extra></extra>",
         "legendgroup": "MA",
         "marker": {
          "color": "#FECB52",
          "size": [
           121.01,
           38.07,
           55,
           70.08,
           50,
           40,
           106.67,
           109,
           52,
           52.5,
           41,
           41.5,
           40,
           21.7,
           20.96,
           41.19,
           23.5,
           31.61,
           18.65,
           18.4,
           32.3,
           740,
           16.8,
           31.5,
           33.8,
           39,
           24.06,
           25.5,
           12,
           21.8,
           19.8,
           15.1
          ],
          "sizemode": "area",
          "sizeref": 8,
          "symbol": "circle"
         },
         "mode": "markers",
         "name": "MA",
         "showlegend": true,
         "type": "scattergl",
         "x": [
          41.6337972,
          41.6836111,
          41.69013249,
          41.69027778,
          41.6914953,
          41.6943657,
          41.6999823,
          41.705421,
          41.7751092,
          41.77555556,
          41.8745464,
          41.8983333,
          41.914925,
          42.03522778,
          42.05140278,
          42.05444444,
          42.0559358,
          42.06388889,
          42.09555556,
          42.09593186,
          42.3147222,
          42.35092399,
          42.3947833,
          42.46258478,
          42.47011389,
          42.485075,
          42.5161111,
          42.51674167,
          42.5668972,
          42.585,
          42.7553722,
          42.81160556
         ],
         "xaxis": "x",
         "y": [
          121.01,
          38.07,
          55,
          70.08,
          50,
          40,
          106.67,
          109,
          52,
          52.5,
          41,
          41.5,
          40,
          21.7,
          20.96,
          41.19,
          23.5,
          31.61,
          18.65,
          18.4,
          32.3,
          740,
          16.8,
          31.5,
          33.8,
          39,
          24.06,
          25.5,
          12,
          21.8,
          19.8,
          15.1
         ],
         "yaxis": "y"
        },
        {
         "customdata": [
          [
           420318121312201
          ],
          [
           420348121453601
          ],
          [
           423035121331401
          ],
          [
           430029121552101
          ],
          [
           430649121305201
          ],
          [
           434400121275801
          ],
          [
           442242121405501
          ],
          [
           452033122195901
          ],
          [
           452822122372001
          ],
          [
           452825122355501
          ],
          [
           452827122382401
          ],
          [
           452827122382402
          ],
          [
           452859122364701
          ],
          [
           452912122312801
          ]
         ],
         "hovertemplate": "state=OR<br>Latitude=%{x}<br>Well Depth=%{marker.size}<br>site_id=%{customdata[0]}<extra></extra>",
         "legendgroup": "OR",
         "marker": {
          "color": "#636efa",
          "size": [
           335,
           128,
           350,
           205,
           407,
           100,
           403,
           177,
           124,
           156,
           27,
           98,
           169,
           59
          ],
          "sizemode": "area",
          "sizeref": 8,
          "symbol": "circle"
         },
         "mode": "markers",
         "name": "OR",
         "showlegend": true,
         "type": "scattergl",
         "x": [
          42.0548333,
          42.0630833,
          42.5095833,
          43.00800288,
          43.11332948,
          43.73344537,
          44.37833889,
          45.36561808,
          45.47263889,
          45.4734305,
          45.473944,
          45.473919,
          45.48299417,
          45.48646389
         ],
         "xaxis": "x",
         "y": [
          335,
          128,
          350,
          205,
          407,
          100,
          403,
          177,
          124,
          156,
          27,
          98,
          169,
          59
         ],
         "yaxis": "y"
        },
        {
         "customdata": [
          [
           425024071413001
          ],
          [
           431120071284201
          ],
          [
           431540071452801
          ]
         ],
         "hovertemplate": "state=NH<br>Latitude=%{x}<br>Well Depth=%{marker.size}<br>site_id=%{customdata[0]}<extra></extra>",
         "legendgroup": "NH",
         "marker": {
          "color": "#EF553B",
          "size": [
           15,
           94,
           43
          ],
          "sizemode": "area",
          "sizeref": 8,
          "symbol": "circle"
         },
         "mode": "markers",
         "name": "NH",
         "showlegend": true,
         "type": "scattergl",
         "x": [
          42.84008596,
          43.18881944,
          43.261189
         ],
         "xaxis": "x",
         "y": [
          15,
          94,
          43
         ],
         "yaxis": "y"
        },
        {
         "customdata": [
          [
           432310070393301
          ],
          [
           434955070261401
          ],
          [
           435453070013601
          ],
          [
           440213070203201
          ],
          [
           440810069553601
          ],
          [
           440823070291501
          ],
          [
           440918069564001
          ],
          [
           441440068182701
          ],
          [
           441533069452401
          ],
          [
           441801069455501
          ],
          [
           442238068154101
          ],
          [
           442450068175201
          ],
          [
           442822069081301
          ],
          [
           443407069020901
          ],
          [
           443647070552302
          ],
          [
           443647070552303
          ],
          [
           443831070002601
          ],
          [
           444302070252401
          ],
          [
           444950068220602
          ],
          [
           445227067520101
          ],
          [
           445319068560101
          ],
          [
           450539070301301
          ],
          [
           450713067162801
          ],
          [
           451128070280301
          ],
          [
           452829069322101
          ],
          [
           453629068531801
          ],
          [
           463642069344601
          ],
          [
           464259067572901
          ],
          [
           471457068353001
          ]
         ],
         "hovertemplate": "state=ME<br>Latitude=%{x}<br>Well Depth=%{marker.size}<br>site_id=%{customdata[0]}<extra></extra>",
         "legendgroup": "ME",
         "marker": {
          "color": "#00cc96",
          "size": [
           39,
           22.5,
           101,
           290,
           404,
           39,
           62,
           175,
           20,
           160,
           98.2,
           97.8,
           27,
           33,
           23.6,
           29,
           35,
           150,
           47,
           30,
           101,
           21.8,
           150,
           22.9,
           24,
           30.5,
           83,
           40,
           50.8
          ],
          "sizemode": "area",
          "sizeref": 8,
          "symbol": "circle"
         },
         "mode": "markers",
         "name": "ME",
         "showlegend": true,
         "type": "scattergl",
         "x": [
          43.38619518,
          43.8320211,
          43.91480189,
          44.0370177,
          44.13812919,
          44.1397931,
          44.1550732,
          44.24452515,
          44.25923568,
          44.30027778,
          44.3772222,
          44.41388889,
          44.4728514,
          44.5686842,
          44.7797763,
          44.7787944,
          44.6420061,
          44.7172813,
          44.83201539,
          44.8742403,
          44.8886799,
          45.09422118,
          45.1203532,
          45.1911647,
          45.49060148,
          45.60810429,
          46.6116971,
          46.7164312,
          47.2492057
         ],
         "xaxis": "x",
         "y": [
          39,
          22.5,
          101,
          290,
          404,
          39,
          62,
          175,
          20,
          160,
          98.2,
          97.8,
          27,
          33,
          23.6,
          29,
          35,
          150,
          47,
          30,
          101,
          21.8,
          150,
          22.9,
          24,
          30.5,
          83,
          40,
          50.8
         ],
         "yaxis": "y"
        },
        {
         "customdata": [
          [
           440050094102801
          ],
          [
           443053094591001
          ],
          [
           443852092420901
          ],
          [
           443912092423501
          ],
          [
           444205092500001
          ],
          [
           444424095312301
          ],
          [
           444427093353903
          ],
          [
           444431095324101
          ],
          [
           444443095305001
          ],
          [
           444447095293501
          ],
          [
           450116093205301
          ],
          [
           450223093231801
          ],
          [
           450238093082501
          ],
          [
           452012093412701
          ],
          [
           455927095123101
          ],
          [
           473423095053301
          ],
          [
           473425095052302
          ],
          [
           473425095052602
          ],
          [
           473426095052401
          ],
          [
           473841096153101
          ],
          [
           473933096243701
          ],
          [
           473945096202401
          ],
          [
           473945096202402
          ],
          [
           474125096120602
          ],
          [
           474126096165301
          ],
          [
           474135096203001
          ],
          [
           474309096122001
          ],
          [
           474310096121801
          ],
          [
           474346096185501
          ],
          [
           474436096140801
          ],
          [
           474719096163100
          ],
          [
           474921093144001
          ]
         ],
         "hovertemplate": "state=MN<br>Latitude=%{x}<br>Well Depth=%{marker.size}<br>site_id=%{customdata[0]}<extra></extra>",
         "legendgroup": "MN",
         "marker": {
          "color": "#ab63fa",
          "size": [
           390,
           107,
           21.11,
           16.85,
           151,
           100,
           525,
           118,
           95,
           120,
           200,
           422,
           536,
           22.05,
           20.35,
           35.25,
           33.18,
           29.71,
           29.23,
           14.87,
           30.35,
           171,
           19.77,
           29.77,
           14.94,
           10.42,
           102,
           15.01,
           11.81,
           69,
           18.06,
           31.66
          ],
          "sizemode": "area",
          "sizeref": 8,
          "symbol": "circle"
         },
         "mode": "markers",
         "name": "MN",
         "showlegend": true,
         "type": "scattergl",
         "x": [
          44.01385187,
          44.5148111,
          44.64777778,
          44.6533333,
          44.70138889,
          44.73985556,
          44.74079615,
          44.74195556,
          44.74528056,
          44.74565556,
          45.02107586,
          45.0396867,
          45.0438546,
          45.3364583,
          45.99095278,
          47.5729111,
          47.57373056,
          47.57360278,
          47.5737111,
          47.6447,
          47.65925556,
          47.6624833,
          47.66249167,
          47.69030556,
          47.69038056,
          47.6929722,
          47.7190111,
          47.71901667,
          47.72943889,
          47.7432944,
          47.7889,
          47.82246667
         ],
         "xaxis": "x",
         "y": [
          390,
          107,
          21.11,
          16.85,
          151,
          100,
          525,
          118,
          95,
          120,
          200,
          422,
          536,
          22.05,
          20.35,
          35.25,
          33.18,
          29.71,
          29.23,
          14.87,
          30.35,
          171,
          19.77,
          29.77,
          14.94,
          10.42,
          102,
          15.01,
          11.81,
          69,
          18.06,
          31.66
         ],
         "yaxis": "y"
        },
        {
         "customdata": [
          [
           450524112380701
          ],
          [
           450937112393701
          ],
          [
           451746106301101
          ],
          [
           452416106413001
          ],
          [
           453107106110601
          ],
          [
           454043110005101
          ],
          [
           454302108392001
          ],
          [
           454809111095401
          ],
          [
           461518114090802
          ],
          [
           462641110561701
          ],
          [
           463750114033001
          ],
          [
           470049113035401
          ],
          [
           470946114013201
          ],
          [
           474005111583803
          ],
          [
           474251114385201
          ],
          [
           480034105195401
          ],
          [
           480621115244901
          ],
          [
           480746105080104
          ],
          [
           481713105052804
          ],
          [
           483318104105402
          ],
          [
           483650104084001
          ]
         ],
         "hovertemplate": "state=MT<br>Latitude=%{x}<br>Well Depth=%{marker.size}<br>site_id=%{customdata[0]}<extra></extra>",
         "legendgroup": "MT",
         "marker": {
          "color": "#FFA15A",
          "size": [
           217,
           47,
           67,
           348,
           68,
           13,
           13,
           101,
           40,
           107,
           50.5,
           206,
           398,
           47,
           377,
           180,
           10,
           65,
           36,
           143,
           130
          ],
          "sizemode": "area",
          "sizeref": 8,
          "symbol": "circle"
         },
         "mode": "markers",
         "name": "MT",
         "showlegend": true,
         "type": "scattergl",
         "x": [
          45.0899198,
          45.1601988,
          45.2961012,
          45.4044313,
          45.51860989,
          45.6785695,
          45.7171728,
          45.80242916,
          46.2554771,
          46.4446606,
          46.6315896,
          47.01355016,
          47.16270558,
          47.6680075,
          47.7141052,
          48.00936389,
          48.1058611,
          48.12946336,
          48.28696475,
          48.55502557,
          48.61391516
         ],
         "xaxis": "x",
         "y": [
          217,
          47,
          67,
          348,
          68,
          13,
          13,
          101,
          40,
          107,
          50.5,
          206,
          398,
          47,
          377,
          180,
          10,
          65,
          36,
          143,
          130
         ],
         "yaxis": "y"
        },
        {
         "customdata": [
          [
           461935118081501
          ],
          [
           465033122570202
          ],
          [
           473442118162201
          ],
          [
           474011117072901
          ]
         ],
         "hovertemplate": "state=WA<br>Latitude=%{x}<br>Well Depth=%{marker.size}<br>site_id=%{customdata[0]}<extra></extra>",
         "legendgroup": "WA",
         "marker": {
          "color": "#19d3f3",
          "size": [
           172.5,
           82,
           117,
           128.6
          ],
          "sizemode": "area",
          "sizeref": 8,
          "symbol": "circle"
         },
         "mode": "markers",
         "name": "WA",
         "showlegend": true,
         "type": "scattergl",
         "x": [
          46.32620556,
          46.84241389,
          47.5781861,
          47.66965
         ],
         "xaxis": "x",
         "y": [
          172.5,
          82,
          117,
          128.6
         ],
         "yaxis": "y"
        },
        {
         "customdata": [
          [
           475439116503401
          ]
         ],
         "hovertemplate": "state=ID<br>Latitude=%{x}<br>Well Depth=%{marker.size}<br>site_id=%{customdata[0]}<extra></extra>",
         "legendgroup": "ID",
         "marker": {
          "color": "#FF6692",
          "size": [
           448.56
          ],
          "sizemode": "area",
          "sizeref": 8,
          "symbol": "circle"
         },
         "mode": "markers",
         "name": "ID",
         "showlegend": true,
         "type": "scattergl",
         "x": [
          47.91065
         ],
         "xaxis": "x",
         "y": [
          448.56
         ],
         "yaxis": "y"
        }
       ],
       "layout": {
        "legend": {
         "itemsizing": "constant",
         "title": {
          "text": "state"
         },
         "tracegroupgap": 0
        },
        "template": {
         "data": {
          "bar": [
           {
            "error_x": {
             "color": "#2a3f5f"
            },
            "error_y": {
             "color": "#2a3f5f"
            },
            "marker": {
             "line": {
              "color": "#E5ECF6",
              "width": 0.5
             },
             "pattern": {
              "fillmode": "overlay",
              "size": 10,
              "solidity": 0.2
             }
            },
            "type": "bar"
           }
          ],
          "barpolar": [
           {
            "marker": {
             "line": {
              "color": "#E5ECF6",
              "width": 0.5
             },
             "pattern": {
              "fillmode": "overlay",
              "size": 10,
              "solidity": 0.2
             }
            },
            "type": "barpolar"
           }
          ],
          "carpet": [
           {
            "aaxis": {
             "endlinecolor": "#2a3f5f",
             "gridcolor": "white",
             "linecolor": "white",
             "minorgridcolor": "white",
             "startlinecolor": "#2a3f5f"
            },
            "baxis": {
             "endlinecolor": "#2a3f5f",
             "gridcolor": "white",
             "linecolor": "white",
             "minorgridcolor": "white",
             "startlinecolor": "#2a3f5f"
            },
            "type": "carpet"
           }
          ],
          "choropleth": [
           {
            "colorbar": {
             "outlinewidth": 0,
             "ticks": ""
            },
            "type": "choropleth"
           }
          ],
          "contour": [
           {
            "colorbar": {
             "outlinewidth": 0,
             "ticks": ""
            },
            "colorscale": [
             [
              0,
              "#0d0887"
             ],
             [
              0.1111111111111111,
              "#46039f"
             ],
             [
              0.2222222222222222,
              "#7201a8"
             ],
             [
              0.3333333333333333,
              "#9c179e"
             ],
             [
              0.4444444444444444,
              "#bd3786"
             ],
             [
              0.5555555555555556,
              "#d8576b"
             ],
             [
              0.6666666666666666,
              "#ed7953"
             ],
             [
              0.7777777777777778,
              "#fb9f3a"
             ],
             [
              0.8888888888888888,
              "#fdca26"
             ],
             [
              1,
              "#f0f921"
             ]
            ],
            "type": "contour"
           }
          ],
          "contourcarpet": [
           {
            "colorbar": {
             "outlinewidth": 0,
             "ticks": ""
            },
            "type": "contourcarpet"
           }
          ],
          "heatmap": [
           {
            "colorbar": {
             "outlinewidth": 0,
             "ticks": ""
            },
            "colorscale": [
             [
              0,
              "#0d0887"
             ],
             [
              0.1111111111111111,
              "#46039f"
             ],
             [
              0.2222222222222222,
              "#7201a8"
             ],
             [
              0.3333333333333333,
              "#9c179e"
             ],
             [
              0.4444444444444444,
              "#bd3786"
             ],
             [
              0.5555555555555556,
              "#d8576b"
             ],
             [
              0.6666666666666666,
              "#ed7953"
             ],
             [
              0.7777777777777778,
              "#fb9f3a"
             ],
             [
              0.8888888888888888,
              "#fdca26"
             ],
             [
              1,
              "#f0f921"
             ]
            ],
            "type": "heatmap"
           }
          ],
          "heatmapgl": [
           {
            "colorbar": {
             "outlinewidth": 0,
             "ticks": ""
            },
            "colorscale": [
             [
              0,
              "#0d0887"
             ],
             [
              0.1111111111111111,
              "#46039f"
             ],
             [
              0.2222222222222222,
              "#7201a8"
             ],
             [
              0.3333333333333333,
              "#9c179e"
             ],
             [
              0.4444444444444444,
              "#bd3786"
             ],
             [
              0.5555555555555556,
              "#d8576b"
             ],
             [
              0.6666666666666666,
              "#ed7953"
             ],
             [
              0.7777777777777778,
              "#fb9f3a"
             ],
             [
              0.8888888888888888,
              "#fdca26"
             ],
             [
              1,
              "#f0f921"
             ]
            ],
            "type": "heatmapgl"
           }
          ],
          "histogram": [
           {
            "marker": {
             "pattern": {
              "fillmode": "overlay",
              "size": 10,
              "solidity": 0.2
             }
            },
            "type": "histogram"
           }
          ],
          "histogram2d": [
           {
            "colorbar": {
             "outlinewidth": 0,
             "ticks": ""
            },
            "colorscale": [
             [
              0,
              "#0d0887"
             ],
             [
              0.1111111111111111,
              "#46039f"
             ],
             [
              0.2222222222222222,
              "#7201a8"
             ],
             [
              0.3333333333333333,
              "#9c179e"
             ],
             [
              0.4444444444444444,
              "#bd3786"
             ],
             [
              0.5555555555555556,
              "#d8576b"
             ],
             [
              0.6666666666666666,
              "#ed7953"
             ],
             [
              0.7777777777777778,
              "#fb9f3a"
             ],
             [
              0.8888888888888888,
              "#fdca26"
             ],
             [
              1,
              "#f0f921"
             ]
            ],
            "type": "histogram2d"
           }
          ],
          "histogram2dcontour": [
           {
            "colorbar": {
             "outlinewidth": 0,
             "ticks": ""
            },
            "colorscale": [
             [
              0,
              "#0d0887"
             ],
             [
              0.1111111111111111,
              "#46039f"
             ],
             [
              0.2222222222222222,
              "#7201a8"
             ],
             [
              0.3333333333333333,
              "#9c179e"
             ],
             [
              0.4444444444444444,
              "#bd3786"
             ],
             [
              0.5555555555555556,
              "#d8576b"
             ],
             [
              0.6666666666666666,
              "#ed7953"
             ],
             [
              0.7777777777777778,
              "#fb9f3a"
             ],
             [
              0.8888888888888888,
              "#fdca26"
             ],
             [
              1,
              "#f0f921"
             ]
            ],
            "type": "histogram2dcontour"
           }
          ],
          "mesh3d": [
           {
            "colorbar": {
             "outlinewidth": 0,
             "ticks": ""
            },
            "type": "mesh3d"
           }
          ],
          "parcoords": [
           {
            "line": {
             "colorbar": {
              "outlinewidth": 0,
              "ticks": ""
             }
            },
            "type": "parcoords"
           }
          ],
          "pie": [
           {
            "automargin": true,
            "type": "pie"
           }
          ],
          "scatter": [
           {
            "fillpattern": {
             "fillmode": "overlay",
             "size": 10,
             "solidity": 0.2
            },
            "type": "scatter"
           }
          ],
          "scatter3d": [
           {
            "line": {
             "colorbar": {
              "outlinewidth": 0,
              "ticks": ""
             }
            },
            "marker": {
             "colorbar": {
              "outlinewidth": 0,
              "ticks": ""
             }
            },
            "type": "scatter3d"
           }
          ],
          "scattercarpet": [
           {
            "marker": {
             "colorbar": {
              "outlinewidth": 0,
              "ticks": ""
             }
            },
            "type": "scattercarpet"
           }
          ],
          "scattergeo": [
           {
            "marker": {
             "colorbar": {
              "outlinewidth": 0,
              "ticks": ""
             }
            },
            "type": "scattergeo"
           }
          ],
          "scattergl": [
           {
            "marker": {
             "colorbar": {
              "outlinewidth": 0,
              "ticks": ""
             }
            },
            "type": "scattergl"
           }
          ],
          "scattermapbox": [
           {
            "marker": {
             "colorbar": {
              "outlinewidth": 0,
              "ticks": ""
             }
            },
            "type": "scattermapbox"
           }
          ],
          "scatterpolar": [
           {
            "marker": {
             "colorbar": {
              "outlinewidth": 0,
              "ticks": ""
             }
            },
            "type": "scatterpolar"
           }
          ],
          "scatterpolargl": [
           {
            "marker": {
             "colorbar": {
              "outlinewidth": 0,
              "ticks": ""
             }
            },
            "type": "scatterpolargl"
           }
          ],
          "scatterternary": [
           {
            "marker": {
             "colorbar": {
              "outlinewidth": 0,
              "ticks": ""
             }
            },
            "type": "scatterternary"
           }
          ],
          "surface": [
           {
            "colorbar": {
             "outlinewidth": 0,
             "ticks": ""
            },
            "colorscale": [
             [
              0,
              "#0d0887"
             ],
             [
              0.1111111111111111,
              "#46039f"
             ],
             [
              0.2222222222222222,
              "#7201a8"
             ],
             [
              0.3333333333333333,
              "#9c179e"
             ],
             [
              0.4444444444444444,
              "#bd3786"
             ],
             [
              0.5555555555555556,
              "#d8576b"
             ],
             [
              0.6666666666666666,
              "#ed7953"
             ],
             [
              0.7777777777777778,
              "#fb9f3a"
             ],
             [
              0.8888888888888888,
              "#fdca26"
             ],
             [
              1,
              "#f0f921"
             ]
            ],
            "type": "surface"
           }
          ],
          "table": [
           {
            "cells": {
             "fill": {
              "color": "#EBF0F8"
             },
             "line": {
              "color": "white"
             }
            },
            "header": {
             "fill": {
              "color": "#C8D4E3"
             },
             "line": {
              "color": "white"
             }
            },
            "type": "table"
           }
          ]
         },
         "layout": {
          "annotationdefaults": {
           "arrowcolor": "#2a3f5f",
           "arrowhead": 0,
           "arrowwidth": 1
          },
          "autotypenumbers": "strict",
          "coloraxis": {
           "colorbar": {
            "outlinewidth": 0,
            "ticks": ""
           }
          },
          "colorscale": {
           "diverging": [
            [
             0,
             "#8e0152"
            ],
            [
             0.1,
             "#c51b7d"
            ],
            [
             0.2,
             "#de77ae"
            ],
            [
             0.3,
             "#f1b6da"
            ],
            [
             0.4,
             "#fde0ef"
            ],
            [
             0.5,
             "#f7f7f7"
            ],
            [
             0.6,
             "#e6f5d0"
            ],
            [
             0.7,
             "#b8e186"
            ],
            [
             0.8,
             "#7fbc41"
            ],
            [
             0.9,
             "#4d9221"
            ],
            [
             1,
             "#276419"
            ]
           ],
           "sequential": [
            [
             0,
             "#0d0887"
            ],
            [
             0.1111111111111111,
             "#46039f"
            ],
            [
             0.2222222222222222,
             "#7201a8"
            ],
            [
             0.3333333333333333,
             "#9c179e"
            ],
            [
             0.4444444444444444,
             "#bd3786"
            ],
            [
             0.5555555555555556,
             "#d8576b"
            ],
            [
             0.6666666666666666,
             "#ed7953"
            ],
            [
             0.7777777777777778,
             "#fb9f3a"
            ],
            [
             0.8888888888888888,
             "#fdca26"
            ],
            [
             1,
             "#f0f921"
            ]
           ],
           "sequentialminus": [
            [
             0,
             "#0d0887"
            ],
            [
             0.1111111111111111,
             "#46039f"
            ],
            [
             0.2222222222222222,
             "#7201a8"
            ],
            [
             0.3333333333333333,
             "#9c179e"
            ],
            [
             0.4444444444444444,
             "#bd3786"
            ],
            [
             0.5555555555555556,
             "#d8576b"
            ],
            [
             0.6666666666666666,
             "#ed7953"
            ],
            [
             0.7777777777777778,
             "#fb9f3a"
            ],
            [
             0.8888888888888888,
             "#fdca26"
            ],
            [
             1,
             "#f0f921"
            ]
           ]
          },
          "colorway": [
           "#636efa",
           "#EF553B",
           "#00cc96",
           "#ab63fa",
           "#FFA15A",
           "#19d3f3",
           "#FF6692",
           "#B6E880",
           "#FF97FF",
           "#FECB52"
          ],
          "font": {
           "color": "#2a3f5f"
          },
          "geo": {
           "bgcolor": "white",
           "lakecolor": "white",
           "landcolor": "#E5ECF6",
           "showlakes": true,
           "showland": true,
           "subunitcolor": "white"
          },
          "hoverlabel": {
           "align": "left"
          },
          "hovermode": "closest",
          "mapbox": {
           "style": "light"
          },
          "paper_bgcolor": "white",
          "plot_bgcolor": "#E5ECF6",
          "polar": {
           "angularaxis": {
            "gridcolor": "white",
            "linecolor": "white",
            "ticks": ""
           },
           "bgcolor": "#E5ECF6",
           "radialaxis": {
            "gridcolor": "white",
            "linecolor": "white",
            "ticks": ""
           }
          },
          "scene": {
           "xaxis": {
            "backgroundcolor": "#E5ECF6",
            "gridcolor": "white",
            "gridwidth": 2,
            "linecolor": "white",
            "showbackground": true,
            "ticks": "",
            "zerolinecolor": "white"
           },
           "yaxis": {
            "backgroundcolor": "#E5ECF6",
            "gridcolor": "white",
            "gridwidth": 2,
            "linecolor": "white",
            "showbackground": true,
            "ticks": "",
            "zerolinecolor": "white"
           },
           "zaxis": {
            "backgroundcolor": "#E5ECF6",
            "gridcolor": "white",
            "gridwidth": 2,
            "linecolor": "white",
            "showbackground": true,
            "ticks": "",
            "zerolinecolor": "white"
           }
          },
          "shapedefaults": {
           "line": {
            "color": "#2a3f5f"
           }
          },
          "ternary": {
           "aaxis": {
            "gridcolor": "white",
            "linecolor": "white",
            "ticks": ""
           },
           "baxis": {
            "gridcolor": "white",
            "linecolor": "white",
            "ticks": ""
           },
           "bgcolor": "#E5ECF6",
           "caxis": {
            "gridcolor": "white",
            "linecolor": "white",
            "ticks": ""
           }
          },
          "title": {
           "x": 0.05
          },
          "xaxis": {
           "automargin": true,
           "gridcolor": "white",
           "linecolor": "white",
           "ticks": "",
           "title": {
            "standoff": 15
           },
           "zerolinecolor": "white",
           "zerolinewidth": 2
          },
          "yaxis": {
           "automargin": true,
           "gridcolor": "white",
           "linecolor": "white",
           "ticks": "",
           "title": {
            "standoff": 15
           },
           "zerolinecolor": "white",
           "zerolinewidth": 2
          }
         }
        },
        "title": {
         "text": "Well Depth with Respect to Latitude"
        },
        "xaxis": {
         "anchor": "y",
         "domain": [
          0,
          1
         ],
         "title": {
          "text": "Latitude"
         }
        },
        "yaxis": {
         "anchor": "x",
         "domain": [
          0,
          1
         ],
         "title": {
          "text": "Well Depth"
         }
        }
       }
      }
     },
     "metadata": {},
     "output_type": "display_data"
    }
   ],
   "source": [
    "\n",
    "# Drop rows with missing values in 'well_depth_va' and 'latitude'\n",
    "df = merged_data.dropna(subset=['well_depth_va', 'latitude'])\n",
    "\n",
    "# Plotting the data using Plotly scatter plot\n",
    "fig = px.scatter(df, x='latitude', y='well_depth_va', color='state',\n",
    "                 size='well_depth_va', hover_data=['site_id'],\n",
    "                 labels={'well_depth_va': 'Well Depth', 'latitude': 'Latitude'},\n",
    "                 title='Well Depth with Respect to Latitude')\n",
    "\n",
    "# Display the plot\n",
    "fig.show()\n"
   ]
  },
  {
   "cell_type": "code",
   "execution_count": 14,
   "metadata": {},
   "outputs": [
    {
     "data": {
      "application/vnd.plotly.v1+json": {
       "config": {
        "plotlyServerURL": "https://plot.ly"
       },
       "data": [
        {
         "geo": "geo",
         "hovertemplate": "<b>%{hovertext}</b><br><br>latitude=%{lat}<br>longitude=%{lon}<br>category=%{marker.color}<extra></extra>",
         "hovertext": [
          3200,
          1400,
          1075,
          1223,
          538,
          596.5,
          1562,
          290,
          229,
          3072,
          1050,
          300,
          920,
          2358,
          1943,
          49,
          1802,
          237,
          487,
          1152,
          346,
          32.5,
          2592,
          775,
          975,
          715,
          246,
          600,
          555,
          807,
          388,
          290,
          161,
          202,
          261,
          80,
          633,
          800,
          64,
          1736,
          1754,
          118,
          60,
          860,
          181,
          231,
          575,
          365,
          255,
          1500,
          2004,
          760,
          148,
          990,
          64.5,
          700,
          342,
          164,
          467,
          98.5,
          251,
          650,
          751,
          123,
          455,
          42.8,
          206,
          295,
          475,
          225,
          1856,
          759,
          1000,
          null,
          865,
          700,
          1158,
          982,
          2720,
          1400,
          1103,
          328,
          202,
          205,
          604,
          1003,
          785,
          1100,
          720,
          155,
          685,
          980,
          770,
          952,
          790,
          75,
          40,
          745,
          740,
          1000,
          750,
          48.5,
          26,
          200,
          200,
          175,
          1571,
          780,
          537,
          500,
          412,
          1910,
          390,
          417,
          225,
          39,
          555,
          435,
          160,
          123.67,
          444,
          208,
          32,
          36.5,
          73.5,
          125,
          583,
          137,
          93,
          134,
          320,
          690,
          131,
          32,
          177,
          272,
          620,
          28,
          612,
          140,
          138,
          14,
          15,
          150,
          170,
          200,
          170,
          172,
          345,
          203,
          882,
          418,
          218,
          22.5,
          68.5,
          180,
          450,
          310,
          2070,
          750,
          340,
          215,
          436,
          100,
          180,
          24,
          34.5,
          180,
          199,
          24,
          607,
          178,
          170,
          251,
          656,
          257,
          690,
          846,
          760,
          456,
          1501,
          351,
          12.79,
          20.79,
          594,
          21,
          181,
          650,
          385,
          553,
          870,
          466,
          94,
          430,
          96,
          53.5,
          178.5,
          383,
          50,
          18,
          22.8,
          345,
          123,
          25,
          802,
          17.6,
          372,
          433,
          340,
          789,
          384,
          151,
          425,
          441.25,
          1095,
          300,
          550,
          340,
          400,
          85,
          965,
          15,
          34,
          43,
          336,
          55,
          60,
          68,
          600,
          888,
          100,
          37,
          145,
          170,
          1546,
          348,
          62,
          102,
          536,
          33.5,
          500,
          406,
          344,
          1520,
          210,
          994,
          1030,
          619,
          214,
          780,
          442,
          885,
          34,
          330,
          212,
          1010,
          465,
          804,
          155,
          1000,
          307,
          120,
          40,
          210,
          524,
          239,
          808,
          790,
          300,
          202,
          332,
          50,
          640,
          185,
          870,
          310,
          110,
          40,
          650,
          34,
          215,
          1003,
          550,
          270,
          998,
          190,
          429,
          1555,
          170,
          295,
          1010,
          32,
          34.5,
          123,
          105,
          1685,
          26.65,
          860,
          210,
          616,
          1400,
          16.87,
          18.17,
          300.4,
          686,
          113,
          1780,
          525,
          46.5,
          148,
          359,
          120,
          360,
          53,
          219,
          620,
          721.2,
          149,
          74,
          2007,
          20.27,
          1045,
          null,
          null,
          null,
          null,
          null,
          null,
          15.7,
          750,
          736,
          434,
          105,
          91,
          342,
          982,
          562,
          210,
          156,
          705,
          31,
          1607,
          1045,
          95,
          170,
          929,
          293,
          411,
          701,
          740,
          668,
          540,
          30,
          455,
          100,
          605,
          509,
          213,
          200.25,
          120,
          42,
          70,
          785,
          748,
          82,
          620,
          231,
          535,
          425,
          250,
          497,
          110,
          344,
          998,
          60,
          830,
          500,
          97,
          129,
          255,
          193,
          41.45,
          110,
          203,
          466,
          252,
          341,
          122,
          168,
          257,
          416,
          542,
          237,
          438,
          356,
          97,
          660,
          56,
          38.5,
          202,
          66,
          620,
          625,
          55,
          345,
          26.15,
          102,
          15,
          200,
          74,
          21,
          158.3,
          125,
          139,
          120,
          743,
          140,
          480,
          535,
          255,
          185,
          695,
          51.8,
          350,
          370,
          252,
          399,
          113,
          83,
          300,
          122,
          248,
          86,
          40.4,
          300,
          238,
          436,
          336.5,
          90,
          112,
          100,
          396,
          235,
          80,
          240,
          534,
          22,
          398,
          345,
          1186,
          695,
          240,
          189,
          98,
          180,
          918,
          527,
          295,
          130,
          40,
          237,
          253,
          232,
          400,
          191,
          155.59,
          58,
          300,
          68,
          1200,
          710,
          275,
          240,
          161,
          345,
          535.2,
          126,
          254,
          18,
          15.4,
          433,
          225,
          321,
          72,
          144,
          500,
          72,
          301,
          1340,
          815,
          185,
          50,
          1630,
          1015,
          525,
          15,
          39,
          300,
          60,
          334,
          610,
          106.5,
          708,
          330,
          595,
          210,
          553,
          700,
          250,
          1290,
          868,
          370,
          765,
          1623,
          1025,
          500,
          90,
          278,
          575,
          419,
          265,
          309,
          91,
          1567,
          842,
          425,
          1455,
          1050,
          510,
          603,
          1095,
          689,
          433,
          328,
          254,
          173,
          1520,
          1045,
          705,
          1282,
          1020,
          582,
          93,
          340,
          499,
          488,
          72.96,
          540,
          1083,
          983,
          836,
          568,
          182,
          220,
          59,
          382,
          1308,
          799,
          1381,
          1644,
          928,
          210,
          742,
          265,
          180,
          null,
          null,
          319,
          null,
          null,
          1525,
          1193,
          608,
          150,
          83,
          24,
          145,
          130,
          308,
          1518,
          855,
          238,
          359,
          305,
          263,
          1069,
          162,
          223,
          335,
          151,
          1305,
          1025,
          535,
          262,
          434,
          529,
          1260,
          835,
          595,
          23,
          58,
          1190,
          320,
          10.4,
          80,
          123,
          18,
          69,
          115,
          107,
          370,
          18.4,
          604,
          210,
          127,
          555,
          155.9,
          165,
          47.2,
          28,
          48,
          400,
          113,
          10.9,
          296,
          1320,
          640,
          340,
          478,
          1910,
          1075,
          460,
          1700,
          1380,
          540,
          879,
          220,
          1952,
          1060,
          780,
          1295,
          24,
          320,
          45,
          197,
          1990,
          1320,
          450,
          232,
          39,
          28.6,
          460,
          1100,
          920,
          665,
          15.53,
          339,
          146,
          122,
          74,
          183,
          2440,
          1340,
          480,
          127.6,
          824,
          346,
          42,
          322,
          520,
          320,
          30.8,
          58,
          48,
          52,
          187,
          1683,
          118,
          1641,
          355,
          131,
          300,
          175,
          394,
          262,
          43,
          1388,
          2506,
          1230,
          400,
          1000,
          697,
          467,
          320,
          38,
          12,
          60,
          650,
          205,
          1300,
          650,
          322,
          300,
          12.6,
          38,
          586,
          200,
          1330,
          55,
          851,
          130,
          386,
          400,
          678,
          850,
          920,
          264,
          65,
          447,
          81,
          1400,
          1338,
          1002,
          910,
          1200,
          346,
          1605,
          868,
          304,
          803,
          1138,
          118,
          478,
          669,
          344,
          696,
          29.2,
          22.5,
          54,
          1490,
          200,
          145,
          202,
          1120,
          1475,
          780,
          1300,
          92.8,
          1160,
          1425,
          56,
          289,
          200,
          1150,
          688,
          1570,
          1252,
          75,
          804,
          624,
          204,
          1747,
          1221,
          1635,
          1015,
          685,
          1825,
          75,
          2991,
          2920,
          2374,
          2834,
          565,
          100,
          600,
          1401,
          481,
          626,
          1340,
          425,
          404,
          657,
          893,
          1800,
          1195,
          575,
          270,
          981,
          170,
          590,
          1526,
          265,
          355,
          200,
          877,
          310,
          405,
          315,
          640,
          1000,
          75,
          325,
          495,
          298,
          985,
          910,
          1100,
          650,
          450,
          800,
          1100,
          875,
          255,
          null,
          1500,
          2395,
          800,
          15,
          70,
          830,
          1837,
          625,
          935,
          810,
          1084,
          151,
          1406,
          494,
          243,
          255,
          100.65,
          500,
          93,
          90,
          420,
          698,
          353,
          590,
          478,
          503,
          400,
          246,
          1080,
          142.53,
          820,
          475,
          570,
          53,
          445,
          95,
          540,
          1075,
          143,
          24.5,
          201,
          750,
          330,
          80.06,
          320,
          null,
          456,
          1001,
          840,
          705,
          860,
          1410,
          1337,
          104,
          1190,
          200,
          137,
          20,
          265,
          1030,
          405,
          948,
          180,
          293,
          903,
          1353,
          250,
          1470,
          813,
          70,
          510,
          965,
          875,
          43,
          230,
          26,
          709,
          210,
          230,
          1045,
          110,
          610,
          121,
          49,
          111,
          11,
          1650,
          136.5,
          35.6,
          22.5,
          93,
          160,
          700,
          680,
          375,
          997.4,
          47.3,
          755,
          250,
          71,
          650,
          842,
          71,
          260,
          105,
          2093,
          47,
          138,
          376,
          570,
          70,
          81,
          300,
          1025,
          880,
          83,
          575,
          93,
          154,
          122,
          275,
          709,
          64,
          28,
          52,
          155,
          189,
          15,
          200,
          66,
          27.5,
          59.94,
          30,
          150,
          310,
          82,
          85,
          139,
          672,
          25,
          338,
          82,
          65,
          1505,
          849,
          530,
          36,
          51,
          33,
          415,
          54,
          17,
          49,
          234,
          76,
          12,
          41,
          313,
          777.2,
          104,
          316,
          122,
          355,
          295,
          155,
          56,
          2756,
          100,
          1441,
          1092,
          717,
          327,
          670,
          422,
          20,
          85,
          85,
          2117,
          170,
          36.5,
          249.5,
          33,
          221,
          562,
          147,
          276,
          920,
          635,
          180,
          202,
          100,
          38.7,
          33.5,
          300,
          410,
          263,
          750,
          1145,
          1146,
          99.5,
          121,
          14,
          1480,
          450,
          441,
          92,
          75,
          55,
          20,
          44,
          906,
          1369,
          150,
          18.6,
          38,
          133,
          615,
          111,
          43,
          427,
          267,
          166,
          171.8,
          91,
          614,
          486,
          633,
          182,
          170,
          28.7,
          300,
          1360.5,
          100.2,
          323.7,
          499,
          907.2,
          395,
          18.5,
          600,
          257,
          140,
          54,
          327,
          300,
          135,
          500,
          265,
          300,
          200,
          225,
          105,
          315,
          215,
          86,
          211.6,
          203,
          104,
          225,
          99,
          110,
          11,
          299,
          37,
          680,
          141,
          35,
          278,
          150,
          110,
          360,
          150,
          40,
          21,
          318,
          210,
          116,
          21,
          43,
          212.54,
          64,
          150,
          142,
          310,
          101,
          106,
          41,
          200,
          241,
          36,
          260,
          34.2,
          28,
          293,
          130,
          184,
          27,
          175,
          175,
          101,
          12,
          100,
          198.02,
          18.9,
          100,
          117.87,
          380,
          290,
          200,
          156,
          79,
          84,
          130,
          345,
          110,
          242,
          118,
          218,
          148.31,
          152,
          200,
          89,
          80,
          140,
          152.5,
          100,
          23,
          98,
          505,
          100,
          null,
          294,
          102,
          150,
          115,
          150,
          44.72,
          500,
          40,
          125,
          175,
          120,
          837,
          132.1,
          150,
          300,
          191,
          97,
          150,
          45,
          143,
          148,
          89,
          122.38,
          150,
          150,
          350,
          241,
          203,
          105,
          80,
          130,
          153,
          95,
          150,
          55,
          84,
          799,
          82,
          17.5,
          98,
          24,
          75,
          152,
          167,
          60,
          150,
          149,
          215,
          130,
          655,
          16,
          32,
          200,
          33,
          340,
          33,
          14,
          102,
          120,
          110,
          22.5,
          122,
          54,
          17,
          82,
          34,
          40,
          50,
          44,
          62,
          104,
          25.1,
          202,
          40,
          49,
          77,
          16.5,
          100,
          18.7,
          23,
          121.01,
          38.07,
          55,
          70.08,
          24.5,
          50,
          40,
          106.67,
          105,
          109,
          26,
          82.5,
          86,
          115,
          52,
          220,
          78,
          37,
          52,
          52.5,
          110,
          126,
          22,
          444,
          41,
          80,
          null,
          41,
          175,
          41.5,
          38.5,
          40,
          45,
          313,
          82,
          42.5,
          21.7,
          48,
          20.96,
          41.19,
          335,
          23.5,
          30.2,
          128,
          31.61,
          52.8,
          18.65,
          18.4,
          39.2,
          34.1,
          47,
          252,
          53,
          20,
          29.5,
          13,
          25,
          32.3,
          352,
          27,
          147,
          740,
          360,
          85,
          16.8,
          15,
          29.5,
          350,
          26,
          31.5,
          33.8,
          99,
          39,
          72,
          350,
          24.06,
          25.5,
          19.5,
          52,
          12,
          21.8,
          19.5,
          79,
          20.3,
          37.2,
          148,
          28.8,
          15,
          28,
          46,
          3.5,
          56.6,
          25,
          19.8,
          240,
          15.1,
          25,
          15,
          14,
          44,
          48,
          18,
          20,
          33.8,
          25.5,
          139,
          170,
          75,
          205,
          15,
          97,
          74.6,
          23,
          160,
          210,
          14.5,
          28.8,
          290,
          23.9,
          407,
          39,
          90,
          14.9,
          15,
          53,
          94,
          52,
          23,
          35.2,
          43,
          58,
          83,
          30,
          39,
          16,
          35.5,
          31,
          231,
          59.45,
          60.23,
          94.45,
          64,
          59,
          60.36,
          70,
          100,
          22.5,
          26.7,
          101,
          null,
          390,
          45.3,
          290,
          null,
          404,
          39,
          62,
          45,
          23,
          175,
          20,
          300,
          160,
          null,
          98.2,
          403,
          97.8,
          null,
          27,
          107,
          33,
          23.6,
          29,
          35,
          21.11,
          16.85,
          151,
          150,
          100,
          525,
          118,
          95,
          120,
          11.4,
          47,
          78,
          179,
          30,
          101,
          37,
          116,
          6,
          200,
          422,
          536,
          217,
          21.8,
          150,
          47,
          22.9,
          67,
          22.05,
          177,
          348,
          124,
          156,
          27,
          98,
          24,
          169,
          59,
          68,
          30.5,
          13,
          13,
          101,
          20.35,
          40,
          172.5,
          107,
          83,
          50.5,
          40,
          82,
          206,
          398,
          50.8,
          35.25,
          33.18,
          29.71,
          29.23,
          117,
          14.87,
          30.35,
          171,
          19.77,
          47,
          128.6,
          29.77,
          14.94,
          10.42,
          377,
          102,
          15.01,
          11.81,
          69,
          18.06,
          31.66,
          448.56,
          180,
          10,
          65,
          36,
          143,
          130
         ],
         "lat": [
          29.16577778,
          29.1935729,
          29.418289,
          29.43245515,
          29.43856519,
          29.49527778,
          29.5162169,
          29.53411853,
          29.54777778,
          29.56341667,
          29.5735009,
          29.58777778,
          29.60293056,
          29.727,
          29.7275,
          29.79083333,
          29.79069444,
          29.79083333,
          29.79138889,
          29.8172222,
          29.8677972,
          29.91216286,
          29.91388889,
          29.9479816,
          29.98299439,
          30.05632209,
          30.14,
          30.14694444,
          30.2036111,
          30.20777778,
          30.21033889,
          30.21666667,
          30.25138889,
          30.30888889,
          30.33027778,
          30.33027778,
          30.39880955,
          30.4054757,
          30.40477778,
          30.43741316,
          30.44333333,
          30.4436111,
          30.4436111,
          30.44519075,
          30.52816667,
          30.6890861,
          30.7205696,
          30.73523613,
          30.73523613,
          30.735,
          30.735,
          30.75345795,
          30.7867738,
          30.79912457,
          30.8018611,
          30.82883445,
          30.8310354,
          30.83852975,
          30.8765799,
          30.89713236,
          30.96185375,
          31.069675,
          31.0731111,
          31.07435,
          31.07462917,
          31.07462917,
          31.08546255,
          31.10080556,
          31.10778647,
          31.11435034,
          31.11855604,
          31.13634196,
          31.13634196,
          31.13634147,
          31.13713545,
          31.1385919,
          31.13959186,
          31.1387863,
          31.14305556,
          31.14305556,
          31.15053627,
          31.15050849,
          31.15050849,
          31.1506111,
          31.1517861,
          31.15698039,
          31.15698039,
          31.15717459,
          31.15717459,
          31.15717459,
          31.1586111,
          31.16067494,
          31.1607027,
          31.1687301,
          31.1687912,
          31.1690707,
          31.1690707,
          31.1699524,
          31.17277778,
          31.17277778,
          31.17452778,
          31.18315833,
          31.22211494,
          31.22657034,
          31.23351466,
          31.24830556,
          31.24883333,
          31.24838889,
          31.24888889,
          31.2585606,
          31.2585606,
          31.27606074,
          31.28661664,
          31.30073555,
          31.30073555,
          31.30073555,
          31.31939346,
          31.31939346,
          31.31939346,
          31.3456576,
          31.35434004,
          31.3582351,
          31.36890556,
          31.3707,
          31.37070278,
          31.3773996,
          31.4130018,
          31.43825,
          31.44523056,
          31.4451861,
          31.4485094,
          31.4485094,
          31.45128818,
          31.45138889,
          31.44905556,
          31.45310278,
          31.4535188,
          31.4546722,
          31.4735062,
          31.4735062,
          31.48156424,
          31.4832611,
          31.48331944,
          31.48730556,
          31.4963611,
          31.49758333,
          31.50013889,
          31.50538889,
          31.50878774,
          31.5116111,
          31.5182311,
          31.5182311,
          31.5182311,
          31.5196,
          31.51913889,
          31.52608333,
          31.52962404,
          31.5465649,
          31.54799668,
          31.54799668,
          31.54799668,
          31.54799668,
          31.53183343,
          31.55055556,
          31.554,
          31.5534288,
          31.5534288,
          31.5534288,
          31.5534288,
          31.5534288,
          31.5601664,
          31.5807296,
          31.58934126,
          31.59183919,
          31.59239473,
          31.59350695,
          31.59322918,
          31.5937847,
          31.59767424,
          31.60072148,
          31.60371389,
          31.6060078,
          31.6119,
          31.6118972,
          31.61715799,
          31.62744444,
          31.63572859,
          31.63628357,
          31.63656135,
          31.63994184,
          31.64854994,
          31.65794094,
          31.6646131,
          31.6646131,
          31.68527778,
          31.69561667,
          31.69558889,
          31.70293945,
          31.713525,
          31.72146944,
          31.7216861,
          31.72517307,
          31.72517307,
          31.72517307,
          31.7288271,
          31.75269444,
          31.7693304,
          31.76933266,
          31.8536111,
          31.87076688,
          31.8976661,
          31.89738834,
          31.89909949,
          31.91194444,
          31.912,
          31.95371338,
          31.95878374,
          31.95878374,
          31.9852145,
          31.9852145,
          31.98591464,
          31.99742964,
          31.99831944,
          32.00099587,
          32.00604155,
          32.01099567,
          32.01349558,
          32.01877319,
          32.02299175,
          32.02438054,
          32.02438054,
          32.02438054,
          32.02438054,
          32.03,
          32.03076877,
          32.0341019,
          32.0341019,
          32.0341019,
          32.04046536,
          32.0678222,
          32.0760416,
          32.09187268,
          32.1063171,
          32.1063171,
          32.1213141,
          32.13186697,
          32.14591115,
          32.14631848,
          32.15298539,
          32.16229965,
          32.16826274,
          32.18285477,
          32.1849722,
          32.1862753,
          32.17659547,
          32.1992434,
          32.20229888,
          32.2113062,
          32.2113062,
          32.21740776,
          32.22565144,
          32.22565144,
          32.2258111,
          32.23298085,
          32.24825816,
          32.24853593,
          32.25479775,
          32.2631313,
          32.26436797,
          32.26770186,
          32.29453824,
          32.29474167,
          32.294816,
          32.29519648,
          32.29519648,
          32.2959269,
          32.2959269,
          32.29594167,
          32.2962047,
          32.3166361,
          32.3286111,
          32.3359065,
          32.3420917,
          32.3465278,
          32.34924019,
          32.3761111,
          32.3768572,
          32.3793221,
          32.3847222,
          32.3897222,
          32.39423868,
          32.41691667,
          32.42798333,
          32.4518351,
          32.4632465,
          32.50766764,
          32.51305556,
          32.52322514,
          32.52322514,
          32.5507037,
          32.5872916,
          32.63456389,
          32.6543472,
          32.6675595,
          32.69486847,
          32.69795546,
          32.70266185,
          32.7072958,
          32.71077075,
          32.71347869,
          32.717659,
          32.72350874,
          32.73606147,
          32.73888889,
          32.7392611,
          32.74732214,
          32.74964153,
          32.7569218,
          32.7711111,
          32.7915653,
          32.834425,
          32.87577778,
          32.9136472,
          32.9224722,
          32.9271611,
          32.92722778,
          32.93608889,
          32.9361361,
          32.97138889,
          32.98015426,
          33.00069578,
          33.0385039,
          33.04221944,
          33.04655887,
          33.04766604,
          33.096819,
          33.09709679,
          33.096819,
          33.10688889,
          33.14886389,
          33.14956478,
          33.1729471,
          33.17876466,
          33.17904245,
          33.17904244,
          33.17876466,
          33.17904244,
          33.17904244,
          33.17904244,
          33.1954861,
          33.2128,
          33.24415556,
          33.2651142,
          33.25713889,
          33.3137354,
          33.3279218,
          33.32955556,
          33.35855556,
          33.37255556,
          33.37252778,
          33.3731722,
          33.3661083,
          33.39959219,
          33.40683424,
          33.42453056,
          33.43600128,
          33.43764,
          33.43791779,
          33.4379178,
          33.4470973,
          33.4690229,
          33.47416667,
          33.50595587,
          33.52169068,
          33.53455757,
          33.53725089,
          33.54236825,
          33.54236826,
          33.54236826,
          33.54236825,
          33.54236826,
          33.5475,
          33.55500556,
          33.62011838,
          33.64945975,
          33.66108687,
          33.70205245,
          33.7058333,
          33.7345415,
          33.73072137,
          33.79656134,
          33.8304336,
          33.83147049,
          33.8496144,
          33.86211035,
          33.88238056,
          33.89305556,
          33.89277778,
          33.89305556,
          33.8934575,
          33.89372077,
          33.9214906,
          33.9340461,
          33.9368472,
          33.9372222,
          33.9371111,
          33.9411111,
          33.94138889,
          33.94194444,
          33.94194444,
          33.94194444,
          33.98027778,
          33.9881111,
          33.99149186,
          34.0117736,
          34.03483478,
          34.07138889,
          34.0881927,
          34.13515595,
          34.1467489,
          34.1723314,
          34.19571369,
          34.21259464,
          34.2348767,
          34.32037135,
          34.35451059,
          34.3575949,
          34.36010637,
          34.4111111,
          34.41113056,
          34.4242583,
          34.43066055,
          34.44259136,
          34.45509537,
          34.4895323,
          34.5051,
          34.5062,
          34.513375,
          34.5181111,
          34.5194333,
          34.56919118,
          34.58259,
          34.6025,
          34.61155449,
          34.61138889,
          34.61155449,
          34.61138889,
          34.62066938,
          34.62654693,
          34.6313833,
          34.6313833,
          34.64716667,
          34.64777778,
          34.6743043,
          34.67638889,
          34.69166667,
          34.69305556,
          34.69305556,
          34.69305556,
          34.6933333,
          34.6953387,
          34.700996,
          34.71805556,
          34.7206503,
          34.7233333,
          34.7241957,
          34.7259722,
          34.726,
          34.7383333,
          34.74185,
          34.74185,
          34.74185,
          34.755,
          34.7622222,
          34.76224304,
          34.7808333,
          34.7813333,
          34.7822935,
          34.79694444,
          34.84777778,
          34.8475927,
          34.8626279,
          34.89506144,
          34.90119444,
          34.9035333,
          34.93418918,
          34.93599444,
          34.93591944,
          34.94729167,
          34.94729167,
          34.94729167,
          34.94729167,
          34.9662583,
          34.9662583,
          34.9662583,
          34.97,
          34.97055556,
          34.97516667,
          34.97519444,
          35.00120445,
          35.0005776,
          35.0095298,
          35.0158611,
          35.0158611,
          35.01659444,
          35.01659444,
          35.02342645,
          35.0270894,
          35.04312967,
          35.0456361,
          35.0456361,
          35.0456361,
          35.0489722,
          35.0506333,
          35.0506333,
          35.0624111,
          35.0662333,
          35.06842476,
          35.07055556,
          35.07405556,
          35.07592455,
          35.085091,
          35.08731306,
          35.0930222,
          35.0930222,
          35.0930222,
          35.09531389,
          35.09531389,
          35.09531389,
          35.10445827,
          35.11000556,
          35.11000556,
          35.11000556,
          35.11000556,
          35.11000556,
          35.11000556,
          35.114775,
          35.114775,
          35.114775,
          35.11620137,
          35.1179861,
          35.1179861,
          35.1179861,
          35.1228083,
          35.12342345,
          35.1264789,
          35.13062839,
          35.13620096,
          35.1364787,
          35.1429861,
          35.1429861,
          35.1429861,
          35.1429861,
          35.14829167,
          35.149534,
          35.1500833,
          35.15256667,
          35.15256667,
          35.15286748,
          35.15273889,
          35.15273889,
          35.15273889,
          35.15397849,
          35.1551314,
          35.1651861,
          35.16640267,
          35.17279,
          35.18370004,
          35.1839778,
          35.1870333,
          35.1866083,
          35.1866083,
          35.1866083,
          35.18738889,
          35.18805556,
          35.18916667,
          35.19055556,
          35.192,
          35.1961811,
          35.20005278,
          35.20005278,
          35.20005278,
          35.20005278,
          35.20005278,
          35.20005278,
          35.20390096,
          35.2134027,
          35.21368098,
          35.21886667,
          35.23175,
          35.23254235,
          35.23254235,
          35.23254235,
          35.241544,
          35.24369894,
          35.2442544,
          35.25423056,
          35.25423056,
          35.25423056,
          35.2858333,
          35.30277778,
          35.3054972,
          35.3054972,
          35.3097222,
          35.33680556,
          35.33680556,
          35.3450855,
          35.3450855,
          35.3450855,
          35.36366175,
          35.37425086,
          35.38777778,
          35.3947833,
          35.4068611,
          35.42091157,
          35.4886111,
          35.45716667,
          35.4969722,
          35.51866557,
          35.52638889,
          35.52666667,
          35.52666667,
          35.52693889,
          35.5383333,
          35.54213889,
          35.5633333,
          35.5633333,
          35.5633333,
          35.60152778,
          35.64,
          35.64,
          35.64,
          35.64027778,
          35.64027778,
          35.64027778,
          35.64380556,
          35.65620264,
          35.6625312,
          35.6625312,
          35.6625312,
          35.6814175,
          35.6827833,
          35.6867163,
          35.6926111,
          35.6926111,
          35.70777778,
          35.70777778,
          35.70777778,
          35.7172222,
          35.7172222,
          35.7208333,
          35.7208333,
          35.7225,
          35.7225,
          35.7225,
          35.73888889,
          35.75284599,
          35.7569967,
          35.75754675,
          35.77105,
          35.77105,
          35.79194444,
          35.79194444,
          35.79194444,
          35.82102778,
          35.83335929,
          35.83335929,
          35.84197778,
          35.8420833,
          35.85555556,
          35.85555556,
          35.89981944,
          35.91916667,
          35.9086111,
          35.99569167,
          36.00561629,
          36.014168,
          36.049,
          36.049,
          36.06608374,
          36.07352778,
          36.08194444,
          36.08913889,
          36.09535377,
          36.1431128,
          36.16977778,
          36.19588889,
          36.20777575,
          36.2158034,
          36.21888889,
          36.23330368,
          36.236078,
          36.236078,
          36.236078,
          36.23536148,
          36.23916667,
          36.2450352,
          36.24857874,
          36.25976197,
          36.281079,
          36.28441149,
          36.29031748,
          36.29427778,
          36.3083333,
          36.37527778,
          36.405625,
          36.42467828,
          36.4551111,
          36.48368309,
          36.4908336,
          36.4995,
          36.5091933,
          36.52805329,
          36.5370025,
          36.54269444,
          36.5526722,
          36.57563889,
          36.5792222,
          36.58416389,
          36.5984722,
          36.62452778,
          36.6472218,
          36.6488611,
          36.66816667,
          36.67955556,
          36.7205833,
          36.74644444,
          36.7272213,
          36.7480833,
          36.7480833,
          36.75773044,
          36.7794722,
          36.7807333,
          36.79566667,
          36.80491667,
          36.80491667,
          36.8057972,
          36.8085861,
          36.86391896,
          36.87507,
          36.87665209,
          36.8882222,
          36.9008185,
          36.90416667,
          36.9140833,
          36.9330833,
          36.93402778,
          36.9338738,
          36.94552778,
          36.94369444,
          36.94841667,
          36.95951265,
          36.995,
          36.99688889,
          37.00069444,
          37.03938889,
          37.0431111,
          37.0459722,
          37.0648333,
          37.0942222,
          37.09419444,
          37.1000833,
          37.1066111,
          37.11541667,
          37.1411111,
          37.15188889,
          37.17652778,
          37.1905833,
          37.19749199,
          37.2129893,
          37.2199976,
          37.24025414,
          37.24141667,
          37.2632222,
          37.2632222,
          37.2988611,
          37.30004894,
          37.30038889,
          37.33977778,
          37.3646111,
          37.3672222,
          37.36725,
          37.39394444,
          37.42241667,
          37.4441298,
          37.45421474,
          37.4813246,
          37.4998333,
          37.5155745,
          37.53552778,
          37.59927778,
          37.60575,
          37.61466667,
          37.61594444,
          37.64687799,
          37.65171299,
          37.6480833,
          37.65826627,
          37.66532407,
          37.7041303,
          39.7155833,
          37.75402335,
          37.78016667,
          37.8829722,
          37.88502778,
          37.9083333,
          37.93816667,
          37.9403191,
          37.9636524,
          37.98615285,
          38.01016667,
          38.0416967,
          38.0561111,
          38.07627778,
          38.0835833,
          38.0919722,
          38.0948611,
          38.10525,
          38.1072654,
          38.12163889,
          38.1374509,
          38.15002778,
          38.17916667,
          38.20469444,
          38.22402778,
          38.2779722,
          38.28088889,
          38.3323611,
          38.3439722,
          38.35025,
          38.36544444,
          38.3709722,
          38.3897852,
          38.3896722,
          38.3908333,
          38.40225,
          38.41277778,
          38.43325,
          38.44241667,
          38.4573333,
          38.46194444,
          38.4635,
          38.47688889,
          38.50339189,
          38.50919444,
          38.5406111,
          38.54355556,
          38.54643626,
          38.5505,
          38.59713889,
          38.60794444,
          38.6122222,
          38.6164397,
          38.62991667,
          38.65171885,
          38.6579722,
          38.6964722,
          38.71615639,
          38.7261111,
          38.7375151,
          38.7481111,
          38.75916667,
          38.76263889,
          38.78666667,
          38.7935,
          38.8076111,
          38.8133333,
          38.81294444,
          38.8211111,
          38.83061346,
          38.83087935,
          38.8452222,
          38.88119444,
          38.90777778,
          38.90888889,
          38.9224442,
          38.93366619,
          38.9353903,
          38.95261277,
          38.955,
          38.96789028,
          38.9771111,
          38.97913889,
          38.98138889,
          39.00066829,
          39.0034464,
          39.03055556,
          39.0323352,
          39.03530148,
          39.036502,
          39.072891,
          39.07372435,
          39.1031692,
          39.11416667,
          39.1306111,
          39.1625399,
          39.16250406,
          39.16394069,
          39.1764406,
          39.1959475,
          39.19694444,
          39.206,
          39.21000399,
          39.2726149,
          39.27421786,
          39.29166047,
          39.30694444,
          39.30733785,
          39.30817,
          39.33817188,
          39.3394946,
          39.34233857,
          39.346525,
          39.34569444,
          39.3628611,
          39.3644722,
          39.3956718,
          39.38920499,
          39.3933611,
          39.4206712,
          39.45900397,
          39.45900397,
          39.45900397,
          39.4651173,
          39.4717033,
          39.48900475,
          39.4926,
          39.51539299,
          39.52095107,
          39.5380833,
          39.4442836,
          39.4442836,
          39.54400446,
          39.5527147,
          39.55928348,
          39.5636962,
          39.57310258,
          39.59478435,
          39.59555556,
          39.6053201,
          39.62593114,
          39.63105556,
          39.64746389,
          39.6486569,
          39.65055556,
          39.65055556,
          39.65055556,
          39.66198975,
          39.66898968,
          39.6704722,
          39.67365756,
          39.67718056,
          39.6771415,
          39.6851181,
          39.68872569,
          39.69869444,
          39.7000833,
          39.7042823,
          39.7042823,
          39.7042823,
          39.70594775,
          39.71058586,
          39.71738889,
          39.72675,
          39.73178139,
          39.73956215,
          39.74115774,
          39.7416111,
          39.74455949,
          39.74789698,
          39.75373028,
          39.78122488,
          39.78122488,
          39.78213889,
          39.79567487,
          39.7986111,
          39.80000425,
          39.80233544,
          39.80233544,
          39.80233544,
          39.80817526,
          39.8125,
          39.81789618,
          39.8228923,
          39.8228923,
          39.82844665,
          39.8326137,
          39.841,
          39.8428968,
          39.84532346,
          39.8495,
          39.8562286,
          39.8562286,
          39.8586748,
          39.8601333,
          39.86456196,
          39.86813889,
          39.87483599,
          39.87483599,
          39.8765021,
          39.88594948,
          39.88594948,
          39.88766965,
          39.8893611,
          39.8951131,
          39.8986067,
          39.9137222,
          39.9200833,
          39.9234467,
          39.9234467,
          39.92372449,
          39.9234467,
          39.93595145,
          39.97927778,
          39.9888333,
          39.9912232,
          39.99150646,
          40.00141667,
          40.0028897,
          40.0182222,
          40.0223375,
          40.03011354,
          40.0301135,
          40.03527778,
          40.0363611,
          40.0364502,
          40.0376111,
          40.0414722,
          40.04372666,
          40.0425,
          40.04527778,
          40.04643094,
          40.04769444,
          40.07066978,
          40.07066978,
          40.0829722,
          40.0922608,
          40.0947222,
          40.11983727,
          40.13616667,
          40.142892,
          40.1549722,
          40.1555664,
          40.16366739,
          40.1833611,
          40.18483529,
          40.18483529,
          40.18483529,
          40.18483529,
          40.18483529,
          40.19913889,
          40.20816658,
          40.21955079,
          40.23778817,
          40.2456111,
          40.25893208,
          40.2617783,
          40.26483028,
          40.27702778,
          40.2927222,
          40.29306924,
          40.29816305,
          40.30121878,
          40.31038498,
          40.31230556,
          40.3158444,
          40.32177635,
          40.32225,
          40.350284,
          40.35260754,
          40.35260754,
          40.35508826,
          40.36066208,
          40.3604722,
          40.3620529,
          40.36427285,
          40.36875,
          40.3689976,
          40.382,
          40.3894833,
          40.39733124,
          40.3972649,
          40.40302778,
          40.40733107,
          40.4145,
          40.4201055,
          40.43205038,
          40.4374722,
          40.4402914,
          40.4451111,
          40.44566016,
          40.44902778,
          40.45947936,
          40.45947936,
          40.46044444,
          40.4625833,
          40.4808697,
          40.5015,
          40.5088888,
          40.51519444,
          40.5189928,
          40.52556319,
          40.53325,
          40.5397228,
          40.5500833,
          40.55027778,
          40.56666856,
          40.56864927,
          40.5751111,
          40.58091667,
          40.57732477,
          40.5836111,
          40.5881582,
          40.6220448,
          40.62619444,
          40.64337565,
          40.6564472,
          40.6612222,
          40.66337535,
          40.67044444,
          40.685102,
          40.69477778,
          40.71080556,
          40.7253244,
          40.74871186,
          40.75544444,
          40.76563889,
          40.7776003,
          40.78575,
          40.7867665,
          40.796,
          40.8161565,
          40.81684739,
          40.8178774,
          40.8409329,
          40.85138056,
          40.88988889,
          40.89566667,
          40.90370996,
          40.91416667,
          40.92537639,
          40.92648748,
          40.9370428,
          40.95999535,
          40.96898645,
          40.9747637,
          40.9839253,
          40.99013889,
          40.99975577,
          40.99975577,
          41.00370868,
          41.0158248,
          41.02319444,
          41.03204145,
          41.03537519,
          41.04244444,
          41.04255556,
          41.04308907,
          41.04698308,
          41.0594909,
          41.0739379,
          41.0744789,
          41.0744789,
          41.0803747,
          41.08037446,
          41.0838333,
          41.08538889,
          41.09369444,
          41.10744444,
          41.10788889,
          41.11766667,
          41.12413889,
          41.12754108,
          41.13454085,
          41.13615024,
          41.148,
          41.1539843,
          41.15475669,
          41.1578732,
          41.15913056,
          41.16141667,
          41.17725686,
          41.1939451,
          41.20669444,
          41.2393611,
          41.2402222,
          41.2935,
          41.29941667,
          41.3006494,
          41.30919444,
          41.32266667,
          41.3315833,
          41.33677778,
          41.3637222,
          41.36509999,
          41.39726319,
          41.40791667,
          41.40820556,
          41.41619444,
          41.4436111,
          41.4541111,
          41.45880556,
          41.46088889,
          41.4734722,
          41.47270556,
          41.47438889,
          41.47898869,
          41.4860077,
          41.48787368,
          41.48843449,
          41.49232259,
          41.50705556,
          41.51893879,
          41.522827,
          41.5278221,
          41.5478786,
          41.56291667,
          41.56621059,
          41.5743611,
          41.5761539,
          41.5931333,
          41.5953333,
          41.5964407,
          41.59975796,
          41.6337972,
          41.6836111,
          41.69013249,
          41.69027778,
          41.6913333,
          41.6914953,
          41.6943657,
          41.6999823,
          41.6994722,
          41.705421,
          41.71101667,
          41.7211284,
          41.72171706,
          41.72341667,
          41.7252222,
          41.74155556,
          41.7533333,
          41.75675,
          41.7751092,
          41.77555556,
          41.77705556,
          41.79370429,
          41.7950222,
          41.8085333,
          41.83,
          41.85125,
          41.86388889,
          41.8745464,
          41.89005556,
          41.8983333,
          41.9108333,
          41.914925,
          41.9169324,
          41.92930556,
          41.93466667,
          42.0038876,
          42.03522778,
          42.03666667,
          42.05140278,
          42.05444444,
          42.0548333,
          42.0559358,
          42.05744444,
          42.0630833,
          42.06388889,
          42.0918333,
          42.09555556,
          42.09593186,
          42.1411111,
          42.1414634,
          42.19396475,
          42.19924216,
          42.20352778,
          42.2533333,
          42.2622222,
          42.2653611,
          42.29616667,
          42.3147222,
          42.31758396,
          42.32991667,
          42.32994444,
          42.35092399,
          42.37805556,
          42.38966667,
          42.3947833,
          42.41257085,
          42.4395833,
          42.45044444,
          42.4528501,
          42.46258478,
          42.47011389,
          42.4838333,
          42.485075,
          42.48888889,
          42.5095833,
          42.5161111,
          42.51674167,
          42.52880556,
          42.5519436,
          42.5668972,
          42.585,
          42.5918333,
          42.5928579,
          42.62867339,
          42.6408333,
          42.6713611,
          42.6874722,
          42.69340779,
          42.69952778,
          42.71980556,
          42.7297222,
          42.7297222,
          42.74777778,
          42.7553722,
          42.81027777,
          42.81160556,
          42.81638889,
          42.84008596,
          42.84638889,
          42.9133333,
          42.91975,
          42.95280278,
          42.9675,
          42.9725,
          42.97580556,
          42.9778411,
          42.97938889,
          42.987,
          43.00800288,
          43.0156241,
          43.02244444,
          43.02963889,
          43.03416667,
          43.0453441,
          43.0453441,
          43.048,
          43.0530833,
          43.0576111,
          43.0861111,
          43.11332948,
          43.12777778,
          43.15677778,
          43.15825,
          43.17494444,
          43.17916667,
          43.18881944,
          43.2075,
          43.21894444,
          43.23294444,
          43.261189,
          43.31141667,
          43.3633333,
          43.3633333,
          43.38619518,
          43.47580556,
          43.50044444,
          43.5203333,
          43.54941667,
          43.5974143,
          43.60073657,
          43.60116667,
          43.60118056,
          43.60346716,
          43.6040424,
          43.6118333,
          43.73344537,
          43.8320211,
          43.8814491,
          43.91480189,
          43.9839636,
          44.01385187,
          44.02052778,
          44.0370177,
          44.1117349,
          44.13812919,
          44.1397931,
          44.1550732,
          44.1608333,
          44.20394444,
          44.24452515,
          44.25923568,
          44.2788611,
          44.30027778,
          44.37590109,
          44.3772222,
          44.37833889,
          44.41388889,
          44.42089815,
          44.4728514,
          44.5148111,
          44.5686842,
          44.7797763,
          44.7787944,
          44.6420061,
          44.64777778,
          44.6533333,
          44.70138889,
          44.7172813,
          44.73985556,
          44.74079615,
          44.74195556,
          44.74528056,
          44.74565556,
          44.8178312,
          44.83201539,
          44.848,
          44.87116167,
          44.8742403,
          44.8886799,
          44.91974017,
          44.91971239,
          44.9680833,
          45.02107586,
          45.0396867,
          45.0438546,
          45.0899198,
          45.09422118,
          45.1203532,
          45.1601988,
          45.1911647,
          45.2961012,
          45.3364583,
          45.36561808,
          45.4044313,
          45.47263889,
          45.4734305,
          45.473944,
          45.473919,
          45.49060148,
          45.48299417,
          45.48646389,
          45.51860989,
          45.60810429,
          45.6785695,
          45.7171728,
          45.80242916,
          45.99095278,
          46.2554771,
          46.32620556,
          46.4446606,
          46.6116971,
          46.6315896,
          46.7164312,
          46.84241389,
          47.01355016,
          47.16270558,
          47.2492057,
          47.5729111,
          47.57373056,
          47.57360278,
          47.5737111,
          47.5781861,
          47.6447,
          47.65925556,
          47.6624833,
          47.66249167,
          47.6680075,
          47.66965,
          47.69030556,
          47.69038056,
          47.6929722,
          47.7141052,
          47.7190111,
          47.71901667,
          47.72943889,
          47.7432944,
          47.7889,
          47.82246667,
          47.91065,
          48.00936389,
          48.1058611,
          48.12946336,
          48.28696475,
          48.55502557,
          48.61391516
         ],
         "legendgroup": "",
         "lon": [
          -98.9394111,
          -99.6328298,
          -98.428071,
          -98.4355713,
          -99.2833738,
          -98.5955556,
          -98.1849959,
          -99.1101102,
          -98.6355556,
          -95.1189444,
          -98.2299359,
          -98.5486111,
          -98.2575083,
          -95.4507778,
          -95.4513889,
          -95.5866667,
          -95.5861389,
          -95.5866667,
          -95.3338889,
          -95.3697222,
          -99.5671889,
          -97.9286162,
          -95.145,
          -90.0336819,
          -97.8719488,
          -93.757389,
          -95.4630556,
          -95.2425,
          -93.3213889,
          -95.4575,
          -97.7815833,
          -92.98,
          -95.5769444,
          -92.3966667,
          -95.4836111,
          -95.4836111,
          -88.900864,
          -88.9928119,
          -87.8483611,
          -91.1417728,
          -91.1438889,
          -95.7080556,
          -95.7080556,
          -91.142884,
          -95.5639167,
          -92.4418003,
          -81.5497629,
          -81.5512076,
          -81.5512076,
          -81.55138889,
          -81.55138889,
          -81.5767091,
          -84.666014,
          -81.5195404,
          -84.6781111,
          -82.3604055,
          -83.2826519,
          -93.4204466,
          -84.2143457,
          -84.89853519,
          -84.5960262,
          -81.5774722,
          -81.4141944,
          -84.9863169,
          -84.5179683,
          -84.5179683,
          -84.43935489,
          -81.7100278,
          -81.541296,
          -84.6788066,
          -82.2654027,
          -81.4909336,
          -81.4909336,
          -81.5428798,
          -83.4340495,
          -81.4933781,
          -81.49476709,
          -81.4946837,
          -81.4958333,
          -81.4958333,
          -81.4785167,
          -81.4787111,
          -81.4787111,
          -81.4784444,
          -81.491656,
          -81.4977953,
          -81.4977675,
          -81.5226016,
          -81.5226016,
          -81.5226016,
          -81.4861111,
          -81.48079469,
          -81.4807391,
          -81.50440678,
          -81.50440678,
          -84.8315892,
          -84.8315892,
          -81.4917675,
          -81.5127778,
          -81.5127778,
          -81.4832778,
          -81.4827111,
          -86.25995,
          -84.5218575,
          -84.49852349,
          -81.3515,
          -81.3514167,
          -81.3514722,
          -81.35138889,
          -81.6106615,
          -81.6106615,
          -81.5442708,
          -81.4748242,
          -84.3229643,
          -84.3229643,
          -84.3229643,
          -81.4695466,
          -81.4695466,
          -81.4695466,
          -110.239245,
          -89.326729,
          -84.1157379,
          -110.1192944,
          -110.1221389,
          -110.1221194,
          -84.654639,
          -81.4531583,
          -84.1850278,
          -110.1109222,
          -110.1109278,
          -84.3501878,
          -84.3501878,
          -84.121017,
          -84.6841667,
          -84.2676111,
          -83.49183889,
          -83.49238558,
          -110.1099306,
          -84.9210357,
          -84.920758,
          -84.4640786,
          -110.1186889,
          -110.1199667,
          -84.2583333,
          -84.1561111,
          -84.2215278,
          -84.1674167,
          -84.1795278,
          -84.0162937,
          -84.2091944,
          -84.111851,
          -84.111851,
          -84.111851,
          -110.1296389,
          -110.1317528,
          -84.1695556,
          -83.8210092,
          -84.0137936,
          -81.7265014,
          -81.7265014,
          -81.7265014,
          -81.7265014,
          -91.3703918,
          -84.1997222,
          -110.1457194,
          -110.1403562,
          -110.1403562,
          -110.1403562,
          -110.1409118,
          -110.1409118,
          -91.3915038,
          -84.1549077,
          -84.0860173,
          -84.3426893,
          -84.34213369,
          -84.17490819,
          -84.17490819,
          -84.1746304,
          -84.1065734,
          -91.3395577,
          -110.2715944,
          -84.0690725,
          -110.1674778,
          -110.1674778,
          -81.9092815,
          -110.1753944,
          -84.1599081,
          -84.2135205,
          -84.2135205,
          -81.2614883,
          -81.6009436,
          -89.175058,
          -84.6040841,
          -84.6043619,
          -88.6575,
          -110.1805139,
          -110.1805278,
          -89.1456126,
          -110.1837167,
          -110.1933028,
          -110.1924889,
          -84.0140711,
          -84.0140711,
          -84.0140711,
          -81.4217736,
          -110.2024111,
          -84.7951993,
          -84.51852859,
          -81.20388889,
          -81.39788719,
          -84.3235233,
          -84.32241218,
          -81.3617762,
          -81.31638889,
          -81.3162778,
          -106.605825,
          -83.9062866,
          -83.9062866,
          -81.0198337,
          -81.0198337,
          -110.902311,
          -81.269834,
          -106.6516694,
          -84.4013023,
          -81.2131674,
          -84.3988023,
          -84.4001912,
          -84.4021357,
          -80.8503882,
          -80.853166,
          -80.853166,
          -80.853166,
          -80.8534438,
          -83.8522222,
          -80.90149979,
          -80.9031665,
          -80.9031665,
          -80.9031665,
          -82.5012421,
          -106.6495,
          -81.0740008,
          -81.14705669,
          -81.110112,
          -81.110112,
          -81.2595575,
          -81.6117788,
          -110.9206454,
          -80.839276,
          -80.7887199,
          -111.2164894,
          -80.7406638,
          -110.9431463,
          -106.7393528,
          -83.7740645,
          -80.72677489,
          -110.8881443,
          -110.8964779,
          -81.6873341,
          -81.6873341,
          -82.4098501,
          -106.7441681,
          -106.7441681,
          -106.7440583,
          -80.6770526,
          -80.6984413,
          -80.69899689,
          -110.9556471,
          -111.2451023,
          -80.819275,
          -80.7226078,
          -106.8033379,
          -106.8034111,
          -106.8033379,
          -81.3967778,
          -81.3967778,
          -106.8230608,
          -106.8230608,
          -106.8230917,
          -106.8230608,
          -106.8420111,
          -81.25388889,
          -111.3223284,
          -84.9860416,
          -86.3619149,
          -111.2306587,
          -81.3166667,
          -81.3192763,
          -83.4835102,
          -90.8769444,
          -106.5302778,
          -111.2839943,
          -85.9199167,
          -106.8809333,
          -83.0576486,
          -80.734273,
          -83.045426,
          -90.8122222,
          -81.85428058,
          -81.85428058,
          -83.4426761,
          -111.303443,
          -107.0452583,
          -107.0550972,
          -114.3998647,
          -92.651539,
          -80.8509405,
          -82.7170813,
          -114.9311211,
          -114.943969,
          -114.8348635,
          -114.8017674,
          -114.7703241,
          -114.8946222,
          -90.5872194,
          -114.806701,
          -114.8640457,
          -114.8722155,
          -114.8359526,
          -90.6305556,
          -79.9284212,
          -107.3033333,
          -82.2208333,
          -109.6986944,
          -109.6917972,
          -109.7234194,
          -109.723425,
          -109.7163778,
          -109.7163167,
          -90.7783333,
          -82.8020821,
          -92.74988069,
          -80.1350903,
          -90.9883306,
          -79.5672912,
          -80.5975999,
          -81.6528889,
          -81.6528889,
          -81.6528889,
          -91.9245722,
          -92.8490222,
          -84.2079754,
          -80.03786119,
          -81.3145509,
          -81.3139953,
          -81.3142731,
          -81.3145509,
          -81.3142731,
          -81.3142731,
          -81.3142731,
          -92.6846861,
          -92.6527167,
          -92.6914472,
          -84.282146,
          -81.9625,
          -89.1808992,
          -81.7428898,
          -82.0492778,
          -82.02613889,
          -81.9795278,
          -81.9795278,
          -91.0754472,
          -91.0397194,
          -81.4220507,
          -79.2881071,
          -82.0095806,
          -79.1761565,
          -81.7701112,
          -81.770389,
          -81.77011119,
          -81.1234328,
          -83.0170949,
          -90.7380556,
          -89.3439587,
          -114.5432735,
          -87.5461171,
          -114.8991372,
          -81.4856612,
          -81.4853834,
          -81.4853834,
          -81.4856612,
          -81.4853834,
          -90.5438889,
          -90.2558417,
          -88.6461586,
          -114.4891207,
          -114.6883017,
          -84.4299279,
          -89.7408333,
          -102.6957599,
          -79.5220044,
          -78.731407,
          -80.6289758,
          -101.8440602,
          -79.0572591,
          -79.3303281,
          -91.2582333,
          -78.5890278,
          -78.5891667,
          -78.5886111,
          -82.3626269,
          -94.7532696,
          -84.2777007,
          -80.3464693,
          -84.52505,
          -84.0186111,
          -84.0185,
          -78.1986111,
          -78.1986111,
          -78.0097222,
          -78.0097222,
          -78.0097222,
          -78.0952778,
          -90.9261667,
          -87.0361154,
          -95.0885608,
          -83.2237633,
          -78.1448611,
          -81.6701067,
          -79.9417329,
          -102.6582647,
          -83.337934,
          -79.58005729999999,
          -96.8977863,
          -80.1834032,
          -84.54798559,
          -101.7585133,
          -84.1426925,
          -89.5306376,
          -80.7441667,
          -80.7444111,
          -96.8261207,
          -89.5245262,
          -96.8291766,
          -87.4822464,
          -84.8543843,
          -96.9376,
          -96.9498,
          -93.0511417,
          -80.2894167,
          -90.7726333,
          -111.8537624,
          -96.6794522,
          -77.28638889,
          -77.4832994,
          -77.48277778,
          -77.4832994,
          -77.4830556,
          -82.4820722,
          -79.689226,
          -106.7184556,
          -106.7184556,
          -111.7685,
          -111.7675,
          -81.4150965,
          -77.4275,
          -77.3508333,
          -77.3516667,
          -77.3516667,
          -77.3516667,
          -77.3516667,
          -99.9353796,
          -77.3052355,
          -77.3919444,
          -83.7254559,
          -76.7533333,
          -114.5259207,
          -80.8433333,
          -80.8433333,
          -77.4575,
          -106.6623778,
          -106.6623778,
          -106.6623778,
          -79.4672222,
          -79.4436111,
          -112.0479362,
          -91.5975,
          -91.6409444,
          -98.0542095,
          -98.5841667,
          -78.0209722,
          -83.0715404,
          -81.8412127,
          -102.5277094,
          -85.2662222,
          -91.8261833,
          -110.7515242,
          -80.6975722,
          -80.6975361,
          -106.6999278,
          -106.6999278,
          -106.6999278,
          -106.6999278,
          -106.6116861,
          -106.6116861,
          -106.6116861,
          -77.5033333,
          -79.5283333,
          -81.05875,
          -81.0588056,
          -90.0962039,
          -110.599298,
          -86.7077763,
          -106.6173167,
          -106.6173167,
          -106.6827472,
          -106.6827472,
          -90.122871,
          -81.0328545,
          -85.303291,
          -106.7507528,
          -106.7507528,
          -106.7507528,
          -106.6533194,
          -106.6839472,
          -106.6839472,
          -90.216725,
          -106.4310833,
          -89.74563989,
          -104.8141667,
          -112.6971667,
          -90.0309245,
          -89.8086969,
          -89.9264775,
          -106.5970278,
          -106.5970278,
          -106.5970278,
          -106.5660806,
          -106.5660806,
          -106.5660806,
          -112.7329563,
          -106.6946222,
          -106.6946222,
          -106.6946222,
          -106.6946222,
          -106.6946222,
          -106.6946222,
          -106.5218222,
          -106.5218222,
          -106.5218222,
          -89.9336997,
          -106.6512722,
          -106.6512722,
          -106.6512722,
          -106.3534306,
          -89.9311996,
          -89.9923122,
          -85.0827298,
          -89.7189719,
          -89.7192497,
          -106.6654444,
          -106.6654444,
          -106.6654444,
          -106.6654444,
          -106.3499306,
          -89.98731189,
          -89.8061111,
          -106.5794917,
          -106.5794917,
          -90.030924,
          -106.6965194,
          -106.6965194,
          -106.6965194,
          -90.0184237,
          -81.4425872,
          -106.357425,
          -110.9404179,
          -111.1056994,
          -89.8778645,
          -89.9742558,
          -89.9753669,
          -106.5532111,
          -106.5532111,
          -106.5532111,
          -85.0475,
          -83.91388889,
          -83.91388889,
          -79.50388889,
          -79.46475,
          -85.20745709,
          -106.6690056,
          -106.6690056,
          -106.6690056,
          -106.6690056,
          -106.6690056,
          -106.6690056,
          -111.0398646,
          -85.2210689,
          -85.1835677,
          -98.5709806,
          -92.3898611,
          -106.5422468,
          -106.5422468,
          -106.5422468,
          -85.00995119,
          -90.0128674,
          -89.956477,
          -106.6851389,
          -106.6851389,
          -106.6851389,
          -82.7280556,
          -82.6283333,
          -106.559925,
          -106.559925,
          -78.2727778,
          -81.2620694,
          -81.2620694,
          -89.87619669,
          -89.87619669,
          -89.87619669,
          -99.2056408,
          -89.5506322,
          -82.8122222,
          -90.3585139,
          -98.5711556,
          -86.0213743,
          -83.45638889,
          -90.8753611,
          -105.2453889,
          -97.7605999,
          -80.8783333,
          -80.8783333,
          -80.8783333,
          -105.2467,
          -77.26138889,
          -89.1989444,
          -106.0475,
          -106.0475,
          -106.0475,
          -90.8519444,
          -106.0691667,
          -106.0691667,
          -106.0691667,
          -105.9963889,
          -105.9963889,
          -105.9963889,
          -89.8259444,
          -83.58211068,
          -105.963077,
          -105.963077,
          -105.963077,
          -106.3666945,
          -80.6070472,
          -98.7186918,
          -82.0729444,
          -82.0729444,
          -106.0802778,
          -106.0802778,
          -106.0802778,
          -81.7255556,
          -81.7255556,
          -78.5005556,
          -78.5005556,
          -105.9602778,
          -105.9602778,
          -105.9602778,
          -76.77527778,
          -96.6808515,
          -97.4064278,
          -99.7851107,
          -81.1473472,
          -81.1473472,
          -106.1222222,
          -106.1222222,
          -106.1222222,
          -90.8568056,
          -106.1583583,
          -106.1583583,
          -81.4090667,
          -81.4090833,
          -105.9941667,
          -105.9941667,
          -80.5547806,
          -96.5119444,
          -79.0580556,
          -79.0260472,
          -87.9591985,
          -110.51208,
          -90.2922778,
          -90.2922778,
          -115.171942,
          -89.8135556,
          -81.88388889,
          -85.72388889,
          -84.5752167,
          -86.736387,
          -79.9982778,
          -89.6613056,
          -110.4106903,
          -115.1052794,
          -80.4922222,
          -115.0700015,
          -115.241394,
          -115.241394,
          -115.241394,
          -94.7538369,
          -77.1869444,
          -98.1581216,
          -115.1886157,
          -99.7834515,
          -115.159449,
          -115.2047278,
          -99.5331678,
          -99.5425556,
          -76.27527778,
          -79.6855556,
          -116.2777972,
          -116.2883732,
          -89.9230278,
          -96.3186245,
          -109.9481727,
          -89.9718889,
          -101.7357184,
          -110.59903,
          -116.2279809,
          -94.4846667,
          -114.9245444,
          -92.6530278,
          -90.6129444,
          -115.6491,
          -90.2603889,
          -93.2516944,
          -110.1706835,
          -93.2296667,
          -93.3339167,
          -93.8693333,
          -94.2051667,
          -91.8785,
          -110.263188,
          -93.9100556,
          -93.9101111,
          -116.3903264,
          -89.3560278,
          -114.7227389,
          -114.8928056,
          -94.3148056,
          -94.31475,
          -98.2470833,
          -98.200675,
          -98.6823074,
          -94.867455,
          -112.7410368,
          -89.55275,
          -112.758538,
          -93.573,
          -93.9319722,
          -92.05,
          -92.6642778,
          -112.7679839,
          -94.0035278,
          -93.7201667,
          -91.0037222,
          -94.8577305,
          -94.845,
          -91.7034167,
          -93.2073889,
          -94.5334722,
          -93.2950833,
          -90.0747222,
          -93.5498056,
          -93.8278333,
          -93.8278889,
          -94.3763333,
          -92.4131667,
          -93.0650833,
          -94.4611944,
          -93.2446111,
          -94.2870278,
          -89.7479167,
          -116.4956507,
          -116.4800029,
          -116.4780668,
          -116.4228224,
          -93.2317778,
          -93.2465,
          -93.2465,
          -93.3056389,
          -92.163493,
          -93.4343333,
          -92.9064167,
          -91.5400833,
          -94.6173889,
          -94.6173611,
          -94.0913333,
          -89.6066944,
          -114.8700068,
          -90.8520666,
          -91.1056279,
          -94.2694444,
          -91.1112118,
          -90.3017778,
          -90.1417778,
          -93.7840833,
          -91.5503889,
          -93.2542778,
          -118.8592982,
          -91.119771,
          -92.6476667,
          -118.8220754,
          -91.1165213,
          -114.7594485,
          -94.8799444,
          -90.4328173,
          -90.4073889,
          -93.3039167,
          -90.2148889,
          -92.5019167,
          -90.7821944,
          -91.8012697,
          -91.7973811,
          -91.7229353,
          -92.741,
          -93.7799339,
          -91.2405556,
          -90.4695556,
          -90.5654444,
          -114.9048889,
          -94.3603611,
          -75.6363611,
          -87.5789077,
          -92.6651944,
          -115.3397482,
          -91.26075,
          -91.9466667,
          -91.1794444,
          -90.3964167,
          -93.3627778,
          -93.3653056,
          -76.4646111,
          -75.1159167,
          -90.9903889,
          -85.64,
          -75.07175,
          -86.0791402,
          -104.3358167,
          -75.1090556,
          -76.4346111,
          -75.05975,
          -76.4369444,
          -75.0511111,
          -93.2044444,
          -91.4661111,
          -93.9984722,
          -91.8397222,
          -86.21248019,
          -90.6443889,
          -92.0946389,
          -76.5946667,
          -87.6028019,
          -90.7005556,
          -92.1618611,
          -90.7089444,
          -91.2133333,
          -86.9163908,
          -76.8074444,
          -90.8540233,
          -92.7801389,
          -93.1718333,
          -91.4084946,
          -76.66338889,
          -93.3171523,
          -93.3360833,
          -93.7196389,
          -93.5545,
          -91.7952778,
          -90.6221667,
          -93.3233611,
          -90.8505556,
          -90.1524167,
          -91.9955556,
          -85.4213486,
          -87.34029449,
          -75.6656944,
          -76.95777778,
          -91.4475,
          -91.5755556,
          -114.8441793,
          -85.6158002,
          -74.9318399,
          -74.85739168,
          -92.395,
          -74.9612859,
          -90.9960833,
          -90.9766667,
          -92.9911111,
          -74.9023939,
          -74.788499,
          -90.9077778,
          -74.8923933,
          -92.9524147,
          -74.8482243,
          -74.912672,
          -74.9123942,
          -74.81016668,
          -92.2138889,
          -93.3927778,
          -91.8279464,
          -94.3946728,
          -85.92637769,
          -85.9344344,
          -74.8673916,
          -92.1247222,
          -93.3152778,
          -94.2841142,
          -74.7312737,
          -85.8955466,
          -102.7002039,
          -91.4805556,
          -74.6187687,
          -75.201854,
          -74.5001523,
          -85.6216425,
          -74.501819,
          -76.8562056,
          -93.5064167,
          -90.9053056,
          -74.41602778,
          -74.6251579,
          -92.261011,
          -94.9179167,
          -74.8710023,
          -75.15768338,
          -75.15768338,
          -75.15768338,
          -74.44987219,
          -87.4091869,
          -74.94961658,
          -76.6846306,
          -75.1426818,
          -74.31903298,
          -95.0568056,
          -74.54182078,
          -74.54182078,
          -75.0118401,
          -114.7980753,
          -74.7401622,
          -75.46467008,
          -86.2694347,
          -83.0029605,
          -93.1322222,
          -87.0750138,
          -77.4630433,
          -74.9201667,
          -77.57481389,
          -86.2019326,
          -103.9277778,
          -103.9277778,
          -103.9277778,
          -85.8191462,
          -77.01525958,
          -93.6671389,
          -86.6688927,
          -116.3113,
          -75.3203558,
          -74.6059886,
          -75.10711999,
          -92.051,
          -93.3033333,
          -74.93766569,
          -74.93766569,
          -74.93766569,
          -75.1223984,
          -75.45669539,
          -75.1701111,
          -74.2694722,
          -75.0493369,
          -74.7187696,
          -85.1357976,
          -77.3805833,
          -74.9915549,
          -74.4715388,
          -74.4679276,
          -75.1674007,
          -75.1674007,
          -80.0285278,
          -74.237919,
          -78.2305833,
          -74.87908,
          -75.2896307,
          -75.2896307,
          -75.2896307,
          -74.0926354,
          -79.5872222,
          -74.4262598,
          -74.9412766,
          -74.9412766,
          -75.2210152,
          -75.09128449,
          -74.1784722,
          -74.1887509,
          -91.4407073,
          -83.0068611,
          -74.50431859,
          -74.50431859,
          -82.9899049,
          -108.3509556,
          -74.4795955,
          -75.18813889,
          -74.9529444,
          -74.9529444,
          -75.1635113,
          -74.588766,
          -74.588766,
          -74.829385,
          -77.6146111,
          -75.1721229,
          -95.088029,
          -75.8141944,
          -75.4930556,
          -74.8398858,
          -74.8398858,
          -74.8398858,
          -74.8398858,
          -74.2106973,
          -77.0691667,
          -79.0375,
          -74.840442,
          -74.23847688,
          -79.2391111,
          -74.870721,
          -93.98775,
          -74.4479288,
          -74.58848899,
          -74.58876678,
          -77.3080833,
          -74.0523611,
          -74.05230308,
          -78.4719167,
          -75.1793333,
          -74.3573702,
          -80.4368333,
          -74.70638889,
          -86.80584,
          -94.8163056,
          -74.450151,
          -74.450151,
          -93.9724722,
          -86.3108292,
          -85.3583333,
          -74.03347,
          -75.3506944,
          -74.14236318,
          -76.8229167,
          -99.3656542,
          -83.80021,
          -91.8297778,
          -74.2001434,
          -74.2001434,
          -74.2001434,
          -74.2001434,
          -74.2001434,
          -75.0503333,
          -74.4829298,
          -75.3043429,
          -99.4520472,
          -93.7394722,
          -85.1480245,
          -74.09125138,
          -74.8362747,
          -76.1206667,
          -75.2866667,
          -98.8745226,
          -74.80932958,
          -74.7234936,
          -74.85377538,
          -78.13125,
          -99.3314866,
          -74.25764558,
          -92.2173889,
          -99.9976282,
          -74.5032087,
          -74.502931,
          -76.7724703,
          -74.732383,
          -79.0558333,
          -74.3132028,
          -74.8809986,
          -76.3017222,
          -74.2473674,
          -76.70575,
          -85.805258,
          -73.9770822,
          -91.5787702,
          -77.62988889,
          -74.0048608,
          -78.45338889,
          -74.694882,
          -74.4548742,
          -75.88425,
          -98.9961948,
          -75.2504444,
          -74.9429452,
          -93.7837778,
          -87.0594572,
          -87.0594572,
          -77.1686944,
          -78.7590556,
          -87.3597384,
          -80.4221944,
          -96.1802866,
          -94.6129722,
          -74.46959738,
          -99.6365008,
          -74.7018056,
          -96.601963,
          -74.3415,
          -94.8231389,
          -96.7322441,
          -86.299163,
          -75.6562222,
          -92.49175,
          -74.86044348,
          -91.7011111,
          -74.7565514,
          -75.1546189,
          -80.10838889,
          -85.6288664,
          -82.5485023,
          -76.9855556,
          -85.696091,
          -74.98177778,
          -74.28820318,
          -77.5939444,
          -76.6054722,
          -85.1130251,
          -74.3418166,
          -77.96625,
          -77.8806944,
          -74.3829292,
          -76.1184722,
          -74.7626639,
          -75.3110556,
          -85.478586,
          -118.3776518,
          -74.6809948,
          -74.3893185,
          -87.2927611,
          -78.81188889,
          -79.6339167,
          -74.5921035,
          -91.8091667,
          -74.6048819,
          -74.1268095,
          -74.7187745,
          -101.7085057,
          -74.9746172,
          -86.299445,
          -87.2375258,
          -77.1977222,
          -87.474753,
          -87.474753,
          -74.7901663,
          -95.1308217,
          -75.7184722,
          -74.10014209,
          -74.4495994,
          -104.1589167,
          -104.1589167,
          -87.5164212,
          -87.020022,
          -85.4452549,
          -84.8310735,
          -87.4289201,
          -87.4289201,
          -74.6584955,
          -74.8098893,
          -79.8791111,
          -105.0105,
          -80.4686944,
          -78.5264722,
          -73.69238889,
          -76.5635,
          -76.6746111,
          -86.6144553,
          -74.7118307,
          -86.96891049,
          -73.9276944,
          -74.8840582,
          -87.4828111,
          -74.8740579,
          -84.9363972,
          -74.9761944,
          -87.4797559,
          -81.2901049,
          -75.3966111,
          -73.80327778,
          -77.77277778,
          -78.8723056,
          -76.2745,
          -73.9912515,
          -75.2268611,
          -85.3720833,
          -79.9002222,
          -79.2255278,
          -73.74875,
          -71.7742336,
          -86.8578005,
          -76.99475,
          -73.28055,
          -78.5451944,
          -74.60638889,
          -73.5533611,
          -78.0617778,
          -80.1784167,
          -79.0508333,
          -72.6839083,
          -76.1417222,
          -71.7072888,
          -117.5370736,
          -73.2042801,
          -71.5356159,
          -71.6281194,
          -76.59025,
          -85.3910902,
          -85.80388109,
          -86.5694607,
          -71.5428388,
          -75.7037222,
          -71.72673449,
          -74.14927778,
          -86.7297445,
          -72.4264222,
          -80.41375,
          -83.8041064,
          -87.4508738,
          -70.5406759,
          -70.0194444,
          -70.5201282,
          -70.4497222,
          -73.7976111,
          -70.60336388,
          -70.5204421,
          -70.5177476,
          -79.3599444,
          -70.5260006,
          -72.0591667,
          -91.4223891,
          -85.3349772,
          -76.4687222,
          -75.2585833,
          -74.08888889,
          -77.5602222,
          -74.6013611,
          -70.02973997,
          -70.03027778,
          -77.8273056,
          -73.9420816,
          -72.2286361,
          -72.2921056,
          -74.06388889,
          -121.3926944,
          -78.36775,
          -70.9289297,
          -75.7533056,
          -69.9811111,
          -93.1633333,
          -70.7297667,
          -96.1369606,
          -121.3495,
          -80.079,
          -91.7410152,
          -70.0825722,
          -95.3991667,
          -72.97067778,
          -70.72638889,
          -121.523861,
          -70.72587198,
          -79.4991944,
          -121.7611389,
          -73.3266667,
          -78.7475278,
          -71.2936111,
          -71.2939439,
          -76.81277778,
          -76.8130116,
          -75.85325,
          -75.89797408,
          -76.5259444,
          -77.7911111,
          -78.0369444,
          -75.4708056,
          -74.3005833,
          -71.3680556,
          -74.2559763,
          -74.8101944,
          -74.8101667,
          -72.4025847,
          -73.46277778,
          -76.3175,
          -71.77985278,
          -77.3422032,
          -73.6858056,
          -79.0142778,
          -76.77439779,
          -73.1884366,
          -71.4118806,
          -76.7993333,
          -72.2114361,
          -76.4647222,
          -121.5549444,
          -71.0483333,
          -71.04846389,
          -76.974,
          -99.8295678,
          -71.1599667,
          -70.8205556,
          -74.32138889,
          -73.7090083,
          -78.1186201,
          -76.06638889,
          -74.5041667,
          -73.83138889,
          -75.04710349,
          -76.4216111,
          -73.71088889,
          -76.88388889,
          -76.88388889,
          -76.1386111,
          -70.93948889,
          -99.7148384,
          -71.0116222,
          -73.9819444,
          -71.6911839,
          -73.7908056,
          -76.5833333,
          -74.4279167,
          -78.6031667,
          -77.2533333,
          -76.7703333,
          -77.8440833,
          -77.2272029,
          -75.84575,
          -78.1481944,
          -121.9237384,
          -75.5943461,
          -74.8750833,
          -78.1704444,
          -91.8366667,
          -76.300763,
          -76.300763,
          -77.47575,
          -77.0867222,
          -73.79752778,
          -93.7141667,
          -121.5154387,
          -78.841,
          -78.40363889,
          -74.4841667,
          -73.3219444,
          -78.2680278,
          -71.47836389,
          -75.3925,
          -78.9122222,
          -75.3985,
          -71.7573003,
          -74.9589167,
          -76.3808333,
          -76.3808333,
          -70.65866619,
          -74.20577778,
          -73.7964167,
          -75.1539722,
          -73.7339722,
          -110.7437613,
          -110.7437391,
          -110.7426389,
          -110.7426611,
          -110.7438059,
          -110.7339749,
          -110.7372222,
          -121.4671059,
          -70.43672039,
          -73.7348522,
          -70.026162,
          -70.28644289,
          -94.17468,
          -75.7603333,
          -70.3417221,
          -70.9756253,
          -69.9261605,
          -70.4870029,
          -69.9439387,
          -75.32027778,
          -75.9058611,
          -68.3069606,
          -69.75615499,
          -73.53088889,
          -69.76527778,
          -69.818103,
          -68.26138889,
          -121.6831278,
          -68.29777778,
          -70.8022921,
          -69.1364277,
          -94.9861694,
          -69.03531538,
          -70.9225736,
          -70.9212194,
          -70.0067256,
          -92.7027778,
          -92.71,
          -92.8336111,
          -70.4228435,
          -95.5229694,
          -93.5944006,
          -95.5447389,
          -95.5136889,
          -95.4931444,
          -74.7640799,
          -68.36585489,
          -73.584,
          -74.99131549,
          -67.8663922,
          -68.9330941,
          -74.1771757,
          -74.1771201,
          -73.6346944,
          -93.3482838,
          -93.388563,
          -93.1404995,
          -112.6361282,
          -70.50312327,
          -67.2738802,
          -112.661131,
          -70.467012,
          -106.5036486,
          -93.6906944,
          -122.3341982,
          -106.6922659,
          -122.6233333,
          -122.5998016,
          -122.641186,
          -122.641211,
          -69.6645006,
          -122.6142188,
          -122.5260889,
          -106.1855677,
          -68.8878186,
          -111.0150295,
          -108.6562513,
          -111.1657858,
          -95.2068444,
          -114.1550942,
          -118.1385583,
          -110.9388243,
          -69.57839099,
          -114.062051,
          -67.957526,
          -122.9600389,
          -113.0658893,
          -114.0264957,
          -68.5911576,
          -95.092825,
          -95.0896778,
          -95.090875,
          -95.0903917,
          -118.2749083,
          -96.2586083,
          -96.4104111,
          -96.3400722,
          -96.3400667,
          -111.978058,
          -117.1268944,
          -96.2016278,
          -96.2812889,
          -96.3417361,
          -114.6487412,
          -96.2056889,
          -96.2056806,
          -96.315225,
          -96.2354417,
          -96.276125,
          -93.2440694,
          -116.8438167,
          -105.3310083,
          -115.4135833,
          -105.1341458,
          -105.0916445,
          -104.1821634,
          -104.1449395
         ],
         "marker": {
          "color": [
           0,
           3,
           0,
           0,
           3,
           3,
           0,
           3,
           3,
           3,
           3,
           3,
           3,
           2,
           3,
           0,
           3,
           2,
           2,
           2,
           3,
           0,
           3,
           2,
           2,
           2,
           2,
           3,
           2,
           2,
           3,
           3,
           2,
           3,
           2,
           2,
           2,
           1,
           1,
           2,
           2,
           1,
           1,
           2,
           2,
           3,
           0,
           0,
           0,
           0,
           0,
           1,
           0,
           0,
           0,
           3,
           3,
           2,
           2,
           0,
           3,
           0,
           0,
           3,
           3,
           3,
           3,
           0,
           0,
           0,
           3,
           0,
           0,
           0,
           2,
           0,
           0,
           0,
           0,
           0,
           0,
           0,
           0,
           0,
           0,
           0,
           1,
           0,
           0,
           1,
           0,
           0,
           0,
           0,
           0,
           0,
           0,
           1,
           0,
           0,
           0,
           0,
           1,
           1,
           null,
           1,
           0,
           1,
           1,
           0,
           0,
           1,
           1,
           3,
           3,
           1,
           1,
           1,
           1,
           3,
           null,
           3,
           1,
           0,
           0,
           0,
           0,
           null,
           1,
           1,
           0,
           3,
           1,
           0,
           0,
           3,
           3,
           1,
           2,
           2,
           1,
           1,
           0,
           0,
           0,
           null,
           0,
           null,
           3,
           0,
           3,
           3,
           null,
           0,
           0,
           0,
           3,
           3,
           0,
           3,
           3,
           2,
           2,
           0,
           0,
           0,
           1,
           1,
           1,
           0,
           2,
           3,
           0,
           1,
           2,
           3,
           3,
           3,
           3,
           2,
           3,
           3,
           1,
           1,
           3,
           0,
           0,
           3,
           3,
           0,
           3,
           2,
           0,
           2,
           1,
           1,
           1,
           2,
           1,
           0,
           0,
           0,
           0,
           0,
           1,
           0,
           3,
           3,
           3,
           0,
           3,
           3,
           null,
           0,
           0,
           3,
           2,
           1,
           2,
           0,
           null,
           1,
           1,
           1,
           2,
           1,
           1,
           2,
           1,
           null,
           0,
           0,
           1,
           3,
           2,
           1,
           0,
           1,
           3,
           1,
           2,
           2,
           2,
           2,
           1,
           3,
           2,
           0,
           0,
           2,
           0,
           2,
           1,
           2,
           1,
           2,
           2,
           2,
           0,
           3,
           3,
           3,
           null,
           0,
           1,
           0,
           2,
           2,
           0,
           0,
           3,
           3,
           3,
           1,
           3,
           3,
           0,
           1,
           3,
           1,
           2,
           2,
           2,
           1,
           null,
           1,
           0,
           3,
           1,
           3,
           null,
           1,
           1,
           1,
           0,
           3,
           1,
           3,
           3,
           2,
           2,
           1,
           0,
           2,
           2,
           3,
           3,
           3,
           0,
           3,
           3,
           3,
           3,
           1,
           3,
           3,
           3,
           3,
           1,
           3,
           0,
           3,
           3,
           3,
           3,
           3,
           3,
           3,
           1,
           3,
           2,
           3,
           1,
           1,
           3,
           0,
           0,
           0,
           2,
           2,
           1,
           2,
           0,
           null,
           null,
           0,
           3,
           3,
           3,
           2,
           2,
           2,
           0,
           2,
           1,
           2,
           2,
           2,
           null,
           null,
           1,
           1,
           3,
           3,
           1,
           3,
           2,
           2,
           2,
           1,
           1,
           0,
           2,
           0,
           2,
           2,
           0,
           3,
           null,
           0,
           0,
           1,
           1,
           3,
           3,
           2,
           1,
           1,
           3,
           3,
           2,
           0,
           3,
           3,
           3,
           1,
           2,
           0,
           0,
           2,
           1,
           0,
           2,
           1,
           1,
           1,
           0,
           0,
           1,
           1,
           0,
           1,
           1,
           1,
           2,
           0,
           0,
           0,
           3,
           3,
           0,
           2,
           1,
           1,
           0,
           3,
           0,
           3,
           2,
           2,
           0,
           2,
           null,
           0,
           1,
           3,
           1,
           2,
           1,
           1,
           0,
           3,
           0,
           3,
           3,
           3,
           0,
           1,
           0,
           3,
           3,
           3,
           3,
           2,
           0,
           3,
           0,
           0,
           1,
           1,
           1,
           1,
           0,
           1,
           0,
           3,
           0,
           0,
           1,
           3,
           3,
           3,
           0,
           0,
           2,
           2,
           2,
           2,
           1,
           0,
           1,
           2,
           2,
           0,
           null,
           2,
           1,
           3,
           1,
           1,
           1,
           1,
           2,
           2,
           2,
           0,
           1,
           1,
           1,
           3,
           2,
           1,
           2,
           2,
           1,
           1,
           2,
           0,
           0,
           2,
           2,
           2,
           1,
           1,
           1,
           0,
           3,
           2,
           3,
           2,
           2,
           2,
           2,
           2,
           2,
           2,
           2,
           2,
           2,
           2,
           2,
           2,
           2,
           2,
           2,
           2,
           2,
           2,
           2,
           3,
           null,
           null,
           1,
           3,
           2,
           2,
           0,
           3,
           3,
           1,
           1,
           1,
           1,
           3,
           1,
           2,
           2,
           2,
           3,
           2,
           2,
           2,
           2,
           3,
           3,
           3,
           3,
           3,
           0,
           0,
           2,
           2,
           2,
           1,
           0,
           1,
           2,
           2,
           2,
           2,
           2,
           2,
           2,
           2,
           2,
           3,
           0,
           3,
           3,
           1,
           2,
           2,
           2,
           0,
           2,
           2,
           3,
           3,
           2,
           0,
           0,
           3,
           1,
           0,
           null,
           null,
           1,
           0,
           0,
           1,
           2,
           1,
           1,
           3,
           1,
           1,
           3,
           2,
           1,
           1,
           1,
           0,
           3,
           0,
           0,
           3,
           3,
           3,
           3,
           2,
           2,
           3,
           3,
           3,
           3,
           2,
           1,
           3,
           2,
           2,
           3,
           1,
           1,
           0,
           0,
           3,
           3,
           3,
           0,
           1,
           1,
           1,
           3,
           3,
           3,
           0,
           2,
           3,
           3,
           null,
           null,
           2,
           2,
           3,
           2,
           1,
           1,
           0,
           0,
           1,
           1,
           1,
           null,
           3,
           2,
           2,
           2,
           0,
           0,
           2,
           0,
           0,
           2,
           1,
           3,
           1,
           0,
           2,
           1,
           0,
           2,
           2,
           2,
           2,
           1,
           1,
           1,
           3,
           2,
           2,
           3,
           0,
           3,
           0,
           1,
           1,
           2,
           0,
           1,
           3,
           0,
           3,
           2,
           3,
           3,
           3,
           1,
           0,
           2,
           1,
           2,
           2,
           2,
           3,
           2,
           3,
           2,
           3,
           3,
           2,
           2,
           0,
           3,
           3,
           2,
           3,
           0,
           1,
           0,
           2,
           2,
           0,
           3,
           1,
           2,
           2,
           2,
           3,
           2,
           2,
           1,
           1,
           0,
           2,
           3,
           3,
           2,
           0,
           2,
           3,
           2,
           1,
           2,
           2,
           3,
           2,
           2,
           0,
           3,
           3,
           3,
           2,
           2,
           0,
           2,
           2,
           2,
           2,
           2,
           2,
           2,
           3,
           3,
           2,
           2,
           1,
           2,
           3,
           3,
           3,
           2,
           3,
           3,
           2,
           1,
           3,
           2,
           3,
           2,
           2,
           0,
           2,
           2,
           3,
           2,
           1,
           3,
           3,
           2,
           3,
           2,
           2,
           2,
           2,
           2,
           2,
           2,
           1,
           1,
           3,
           3,
           3,
           2,
           2,
           3,
           1,
           3,
           2,
           0,
           2,
           0,
           1,
           0,
           0,
           1,
           2,
           1,
           2,
           1,
           2,
           2,
           3,
           3,
           3,
           3,
           2,
           2,
           0,
           2,
           0,
           3,
           3,
           0,
           1,
           2,
           2,
           2,
           0,
           2,
           3,
           3,
           3,
           3,
           2,
           3,
           3,
           3,
           0,
           3,
           0,
           1,
           0,
           2,
           3,
           3,
           2,
           3,
           0,
           null,
           3,
           1,
           3,
           3,
           0,
           2,
           3,
           2,
           0,
           2,
           0,
           1,
           1,
           0,
           3,
           2,
           2,
           null,
           1,
           1,
           1,
           3,
           3,
           0,
           1,
           0,
           2,
           2,
           2,
           3,
           2,
           0,
           2,
           1,
           0,
           2,
           3,
           0,
           2,
           0,
           2,
           0,
           0,
           3,
           3,
           3,
           0,
           3,
           2,
           0,
           1,
           3,
           0,
           1,
           0,
           3,
           null,
           0,
           0,
           0,
           1,
           0,
           0,
           3,
           1,
           0,
           0,
           0,
           0,
           0,
           0,
           1,
           3,
           2,
           0,
           3,
           1,
           0,
           2,
           2,
           3,
           0,
           0,
           0,
           1,
           0,
           0,
           0,
           2,
           1,
           0,
           0,
           2,
           2,
           0,
           0,
           3,
           3,
           1,
           0,
           1,
           0,
           1,
           3,
           2,
           2,
           3,
           2,
           0,
           0,
           0,
           null,
           3,
           0,
           0,
           2,
           0,
           1,
           2,
           2,
           2,
           3,
           2,
           0,
           3,
           1,
           0,
           0,
           0,
           2,
           3,
           2,
           2,
           1,
           0,
           0,
           0,
           3,
           0,
           2,
           2,
           3,
           0,
           0,
           0,
           3,
           3,
           1,
           0,
           0,
           3,
           3,
           3,
           0,
           2,
           0,
           3,
           3,
           2,
           3,
           0,
           3,
           0,
           2,
           0,
           3,
           3,
           3,
           3,
           3,
           3,
           0,
           0,
           3,
           2,
           1,
           0,
           2,
           1,
           0,
           1,
           2,
           1,
           0,
           2,
           2,
           2,
           1,
           1,
           2,
           null,
           1,
           1,
           1,
           1,
           1,
           1,
           0,
           2,
           1,
           1,
           1,
           2,
           1,
           2,
           0,
           1,
           1,
           2,
           3,
           2,
           0,
           0,
           2,
           0,
           0,
           0,
           0,
           1,
           1,
           0,
           0,
           2,
           1,
           2,
           0,
           0,
           2,
           0,
           3,
           1,
           1,
           3,
           0,
           1,
           0,
           3,
           0,
           1,
           2,
           0,
           1,
           null,
           1,
           0,
           null,
           2,
           2,
           3,
           null,
           3,
           0,
           3,
           2,
           1,
           0,
           1,
           1,
           0,
           1,
           1,
           1,
           1,
           1,
           2,
           1,
           0,
           0,
           null,
           3,
           1,
           1,
           1,
           1,
           0,
           1,
           3,
           null,
           3,
           0,
           null,
           3,
           0,
           1,
           3,
           1,
           1,
           2,
           0,
           0,
           0,
           1,
           0,
           0,
           1,
           1,
           1,
           1,
           1,
           1,
           1,
           null,
           1,
           0,
           1,
           1,
           3,
           1,
           0,
           1,
           0,
           1,
           3,
           0,
           1,
           0,
           0,
           2,
           1,
           0,
           1,
           1,
           0,
           1,
           1,
           0,
           1,
           1,
           0,
           1,
           1,
           0,
           1,
           1,
           1,
           1,
           1,
           2,
           0,
           1,
           1,
           0,
           3,
           0,
           1,
           1,
           0,
           1,
           2,
           1,
           1,
           1,
           2,
           3,
           2,
           0,
           0,
           1,
           0,
           1,
           1,
           1,
           1,
           1,
           0,
           0,
           2,
           0,
           0,
           1,
           3,
           3,
           0,
           3,
           0,
           0,
           1,
           0,
           0,
           1,
           1,
           1,
           0,
           1,
           1,
           3,
           0,
           0,
           3,
           1,
           0,
           1,
           0,
           1,
           0,
           1,
           3,
           1,
           0,
           0,
           1,
           1,
           1,
           0,
           0,
           0,
           0,
           1,
           1,
           0,
           1,
           1,
           0,
           0,
           1,
           1,
           1,
           0,
           0,
           0,
           0,
           0,
           1,
           null,
           1,
           1,
           1,
           2,
           1,
           1,
           null,
           1,
           0,
           0,
           0,
           0,
           0,
           0,
           0,
           2,
           0,
           1,
           1,
           1,
           1,
           1,
           1,
           0,
           1,
           0,
           0,
           3,
           0,
           3,
           0,
           2,
           1,
           1,
           0,
           1,
           0,
           1,
           2,
           0,
           3,
           0,
           2,
           1,
           0,
           0,
           0,
           2,
           1,
           1,
           1,
           0,
           0,
           0,
           1,
           0,
           1,
           0,
           2,
           3,
           3,
           3,
           3,
           3,
           3,
           3,
           0,
           1,
           0,
           0,
           0,
           3,
           0,
           1,
           0,
           1,
           0,
           2,
           0,
           0,
           1,
           0,
           1,
           0,
           0,
           0,
           2,
           0,
           1,
           1,
           2,
           1,
           1,
           1,
           1,
           0,
           1,
           2,
           0,
           2,
           3,
           1,
           2,
           2,
           0,
           0,
           1,
           1,
           0,
           0,
           1,
           1,
           0,
           0,
           3,
           3,
           3,
           0,
           0,
           1,
           0,
           1,
           0,
           3,
           2,
           3,
           2,
           1,
           0,
           0,
           2,
           3,
           0,
           0,
           1,
           0,
           1,
           0,
           0,
           3,
           2,
           0,
           0,
           1,
           0,
           2,
           2,
           0,
           1,
           1,
           1,
           1,
           3,
           0,
           0,
           0,
           0,
           0,
           3,
           1,
           1,
           0,
           3,
           0,
           0,
           1,
           0,
           0,
           0,
           3,
           3,
           1,
           3,
           0,
           0,
           0
          ],
          "coloraxis": "coloraxis",
          "symbol": "circle"
         },
         "mode": "markers",
         "name": "",
         "showlegend": false,
         "type": "scattergeo"
        }
       ],
       "layout": {
        "coloraxis": {
         "colorbar": {
          "title": {
           "text": "category"
          }
         },
         "colorscale": [
          [
           0,
           "#0d0887"
          ],
          [
           0.1111111111111111,
           "#46039f"
          ],
          [
           0.2222222222222222,
           "#7201a8"
          ],
          [
           0.3333333333333333,
           "#9c179e"
          ],
          [
           0.4444444444444444,
           "#bd3786"
          ],
          [
           0.5555555555555556,
           "#d8576b"
          ],
          [
           0.6666666666666666,
           "#ed7953"
          ],
          [
           0.7777777777777778,
           "#fb9f3a"
          ],
          [
           0.8888888888888888,
           "#fdca26"
          ],
          [
           1,
           "#f0f921"
          ]
         ]
        },
        "geo": {
         "center": {},
         "domain": {
          "x": [
           0,
           1
          ],
          "y": [
           0,
           1
          ]
         },
         "scope": "usa"
        },
        "legend": {
         "tracegroupgap": 0
        },
        "template": {
         "data": {
          "bar": [
           {
            "error_x": {
             "color": "#2a3f5f"
            },
            "error_y": {
             "color": "#2a3f5f"
            },
            "marker": {
             "line": {
              "color": "#E5ECF6",
              "width": 0.5
             },
             "pattern": {
              "fillmode": "overlay",
              "size": 10,
              "solidity": 0.2
             }
            },
            "type": "bar"
           }
          ],
          "barpolar": [
           {
            "marker": {
             "line": {
              "color": "#E5ECF6",
              "width": 0.5
             },
             "pattern": {
              "fillmode": "overlay",
              "size": 10,
              "solidity": 0.2
             }
            },
            "type": "barpolar"
           }
          ],
          "carpet": [
           {
            "aaxis": {
             "endlinecolor": "#2a3f5f",
             "gridcolor": "white",
             "linecolor": "white",
             "minorgridcolor": "white",
             "startlinecolor": "#2a3f5f"
            },
            "baxis": {
             "endlinecolor": "#2a3f5f",
             "gridcolor": "white",
             "linecolor": "white",
             "minorgridcolor": "white",
             "startlinecolor": "#2a3f5f"
            },
            "type": "carpet"
           }
          ],
          "choropleth": [
           {
            "colorbar": {
             "outlinewidth": 0,
             "ticks": ""
            },
            "type": "choropleth"
           }
          ],
          "contour": [
           {
            "colorbar": {
             "outlinewidth": 0,
             "ticks": ""
            },
            "colorscale": [
             [
              0,
              "#0d0887"
             ],
             [
              0.1111111111111111,
              "#46039f"
             ],
             [
              0.2222222222222222,
              "#7201a8"
             ],
             [
              0.3333333333333333,
              "#9c179e"
             ],
             [
              0.4444444444444444,
              "#bd3786"
             ],
             [
              0.5555555555555556,
              "#d8576b"
             ],
             [
              0.6666666666666666,
              "#ed7953"
             ],
             [
              0.7777777777777778,
              "#fb9f3a"
             ],
             [
              0.8888888888888888,
              "#fdca26"
             ],
             [
              1,
              "#f0f921"
             ]
            ],
            "type": "contour"
           }
          ],
          "contourcarpet": [
           {
            "colorbar": {
             "outlinewidth": 0,
             "ticks": ""
            },
            "type": "contourcarpet"
           }
          ],
          "heatmap": [
           {
            "colorbar": {
             "outlinewidth": 0,
             "ticks": ""
            },
            "colorscale": [
             [
              0,
              "#0d0887"
             ],
             [
              0.1111111111111111,
              "#46039f"
             ],
             [
              0.2222222222222222,
              "#7201a8"
             ],
             [
              0.3333333333333333,
              "#9c179e"
             ],
             [
              0.4444444444444444,
              "#bd3786"
             ],
             [
              0.5555555555555556,
              "#d8576b"
             ],
             [
              0.6666666666666666,
              "#ed7953"
             ],
             [
              0.7777777777777778,
              "#fb9f3a"
             ],
             [
              0.8888888888888888,
              "#fdca26"
             ],
             [
              1,
              "#f0f921"
             ]
            ],
            "type": "heatmap"
           }
          ],
          "heatmapgl": [
           {
            "colorbar": {
             "outlinewidth": 0,
             "ticks": ""
            },
            "colorscale": [
             [
              0,
              "#0d0887"
             ],
             [
              0.1111111111111111,
              "#46039f"
             ],
             [
              0.2222222222222222,
              "#7201a8"
             ],
             [
              0.3333333333333333,
              "#9c179e"
             ],
             [
              0.4444444444444444,
              "#bd3786"
             ],
             [
              0.5555555555555556,
              "#d8576b"
             ],
             [
              0.6666666666666666,
              "#ed7953"
             ],
             [
              0.7777777777777778,
              "#fb9f3a"
             ],
             [
              0.8888888888888888,
              "#fdca26"
             ],
             [
              1,
              "#f0f921"
             ]
            ],
            "type": "heatmapgl"
           }
          ],
          "histogram": [
           {
            "marker": {
             "pattern": {
              "fillmode": "overlay",
              "size": 10,
              "solidity": 0.2
             }
            },
            "type": "histogram"
           }
          ],
          "histogram2d": [
           {
            "colorbar": {
             "outlinewidth": 0,
             "ticks": ""
            },
            "colorscale": [
             [
              0,
              "#0d0887"
             ],
             [
              0.1111111111111111,
              "#46039f"
             ],
             [
              0.2222222222222222,
              "#7201a8"
             ],
             [
              0.3333333333333333,
              "#9c179e"
             ],
             [
              0.4444444444444444,
              "#bd3786"
             ],
             [
              0.5555555555555556,
              "#d8576b"
             ],
             [
              0.6666666666666666,
              "#ed7953"
             ],
             [
              0.7777777777777778,
              "#fb9f3a"
             ],
             [
              0.8888888888888888,
              "#fdca26"
             ],
             [
              1,
              "#f0f921"
             ]
            ],
            "type": "histogram2d"
           }
          ],
          "histogram2dcontour": [
           {
            "colorbar": {
             "outlinewidth": 0,
             "ticks": ""
            },
            "colorscale": [
             [
              0,
              "#0d0887"
             ],
             [
              0.1111111111111111,
              "#46039f"
             ],
             [
              0.2222222222222222,
              "#7201a8"
             ],
             [
              0.3333333333333333,
              "#9c179e"
             ],
             [
              0.4444444444444444,
              "#bd3786"
             ],
             [
              0.5555555555555556,
              "#d8576b"
             ],
             [
              0.6666666666666666,
              "#ed7953"
             ],
             [
              0.7777777777777778,
              "#fb9f3a"
             ],
             [
              0.8888888888888888,
              "#fdca26"
             ],
             [
              1,
              "#f0f921"
             ]
            ],
            "type": "histogram2dcontour"
           }
          ],
          "mesh3d": [
           {
            "colorbar": {
             "outlinewidth": 0,
             "ticks": ""
            },
            "type": "mesh3d"
           }
          ],
          "parcoords": [
           {
            "line": {
             "colorbar": {
              "outlinewidth": 0,
              "ticks": ""
             }
            },
            "type": "parcoords"
           }
          ],
          "pie": [
           {
            "automargin": true,
            "type": "pie"
           }
          ],
          "scatter": [
           {
            "fillpattern": {
             "fillmode": "overlay",
             "size": 10,
             "solidity": 0.2
            },
            "type": "scatter"
           }
          ],
          "scatter3d": [
           {
            "line": {
             "colorbar": {
              "outlinewidth": 0,
              "ticks": ""
             }
            },
            "marker": {
             "colorbar": {
              "outlinewidth": 0,
              "ticks": ""
             }
            },
            "type": "scatter3d"
           }
          ],
          "scattercarpet": [
           {
            "marker": {
             "colorbar": {
              "outlinewidth": 0,
              "ticks": ""
             }
            },
            "type": "scattercarpet"
           }
          ],
          "scattergeo": [
           {
            "marker": {
             "colorbar": {
              "outlinewidth": 0,
              "ticks": ""
             }
            },
            "type": "scattergeo"
           }
          ],
          "scattergl": [
           {
            "marker": {
             "colorbar": {
              "outlinewidth": 0,
              "ticks": ""
             }
            },
            "type": "scattergl"
           }
          ],
          "scattermapbox": [
           {
            "marker": {
             "colorbar": {
              "outlinewidth": 0,
              "ticks": ""
             }
            },
            "type": "scattermapbox"
           }
          ],
          "scatterpolar": [
           {
            "marker": {
             "colorbar": {
              "outlinewidth": 0,
              "ticks": ""
             }
            },
            "type": "scatterpolar"
           }
          ],
          "scatterpolargl": [
           {
            "marker": {
             "colorbar": {
              "outlinewidth": 0,
              "ticks": ""
             }
            },
            "type": "scatterpolargl"
           }
          ],
          "scatterternary": [
           {
            "marker": {
             "colorbar": {
              "outlinewidth": 0,
              "ticks": ""
             }
            },
            "type": "scatterternary"
           }
          ],
          "surface": [
           {
            "colorbar": {
             "outlinewidth": 0,
             "ticks": ""
            },
            "colorscale": [
             [
              0,
              "#0d0887"
             ],
             [
              0.1111111111111111,
              "#46039f"
             ],
             [
              0.2222222222222222,
              "#7201a8"
             ],
             [
              0.3333333333333333,
              "#9c179e"
             ],
             [
              0.4444444444444444,
              "#bd3786"
             ],
             [
              0.5555555555555556,
              "#d8576b"
             ],
             [
              0.6666666666666666,
              "#ed7953"
             ],
             [
              0.7777777777777778,
              "#fb9f3a"
             ],
             [
              0.8888888888888888,
              "#fdca26"
             ],
             [
              1,
              "#f0f921"
             ]
            ],
            "type": "surface"
           }
          ],
          "table": [
           {
            "cells": {
             "fill": {
              "color": "#EBF0F8"
             },
             "line": {
              "color": "white"
             }
            },
            "header": {
             "fill": {
              "color": "#C8D4E3"
             },
             "line": {
              "color": "white"
             }
            },
            "type": "table"
           }
          ]
         },
         "layout": {
          "annotationdefaults": {
           "arrowcolor": "#2a3f5f",
           "arrowhead": 0,
           "arrowwidth": 1
          },
          "autotypenumbers": "strict",
          "coloraxis": {
           "colorbar": {
            "outlinewidth": 0,
            "ticks": ""
           }
          },
          "colorscale": {
           "diverging": [
            [
             0,
             "#8e0152"
            ],
            [
             0.1,
             "#c51b7d"
            ],
            [
             0.2,
             "#de77ae"
            ],
            [
             0.3,
             "#f1b6da"
            ],
            [
             0.4,
             "#fde0ef"
            ],
            [
             0.5,
             "#f7f7f7"
            ],
            [
             0.6,
             "#e6f5d0"
            ],
            [
             0.7,
             "#b8e186"
            ],
            [
             0.8,
             "#7fbc41"
            ],
            [
             0.9,
             "#4d9221"
            ],
            [
             1,
             "#276419"
            ]
           ],
           "sequential": [
            [
             0,
             "#0d0887"
            ],
            [
             0.1111111111111111,
             "#46039f"
            ],
            [
             0.2222222222222222,
             "#7201a8"
            ],
            [
             0.3333333333333333,
             "#9c179e"
            ],
            [
             0.4444444444444444,
             "#bd3786"
            ],
            [
             0.5555555555555556,
             "#d8576b"
            ],
            [
             0.6666666666666666,
             "#ed7953"
            ],
            [
             0.7777777777777778,
             "#fb9f3a"
            ],
            [
             0.8888888888888888,
             "#fdca26"
            ],
            [
             1,
             "#f0f921"
            ]
           ],
           "sequentialminus": [
            [
             0,
             "#0d0887"
            ],
            [
             0.1111111111111111,
             "#46039f"
            ],
            [
             0.2222222222222222,
             "#7201a8"
            ],
            [
             0.3333333333333333,
             "#9c179e"
            ],
            [
             0.4444444444444444,
             "#bd3786"
            ],
            [
             0.5555555555555556,
             "#d8576b"
            ],
            [
             0.6666666666666666,
             "#ed7953"
            ],
            [
             0.7777777777777778,
             "#fb9f3a"
            ],
            [
             0.8888888888888888,
             "#fdca26"
            ],
            [
             1,
             "#f0f921"
            ]
           ]
          },
          "colorway": [
           "#636efa",
           "#EF553B",
           "#00cc96",
           "#ab63fa",
           "#FFA15A",
           "#19d3f3",
           "#FF6692",
           "#B6E880",
           "#FF97FF",
           "#FECB52"
          ],
          "font": {
           "color": "#2a3f5f"
          },
          "geo": {
           "bgcolor": "white",
           "lakecolor": "white",
           "landcolor": "#E5ECF6",
           "showlakes": true,
           "showland": true,
           "subunitcolor": "white"
          },
          "hoverlabel": {
           "align": "left"
          },
          "hovermode": "closest",
          "mapbox": {
           "style": "light"
          },
          "paper_bgcolor": "white",
          "plot_bgcolor": "#E5ECF6",
          "polar": {
           "angularaxis": {
            "gridcolor": "white",
            "linecolor": "white",
            "ticks": ""
           },
           "bgcolor": "#E5ECF6",
           "radialaxis": {
            "gridcolor": "white",
            "linecolor": "white",
            "ticks": ""
           }
          },
          "scene": {
           "xaxis": {
            "backgroundcolor": "#E5ECF6",
            "gridcolor": "white",
            "gridwidth": 2,
            "linecolor": "white",
            "showbackground": true,
            "ticks": "",
            "zerolinecolor": "white"
           },
           "yaxis": {
            "backgroundcolor": "#E5ECF6",
            "gridcolor": "white",
            "gridwidth": 2,
            "linecolor": "white",
            "showbackground": true,
            "ticks": "",
            "zerolinecolor": "white"
           },
           "zaxis": {
            "backgroundcolor": "#E5ECF6",
            "gridcolor": "white",
            "gridwidth": 2,
            "linecolor": "white",
            "showbackground": true,
            "ticks": "",
            "zerolinecolor": "white"
           }
          },
          "shapedefaults": {
           "line": {
            "color": "#2a3f5f"
           }
          },
          "ternary": {
           "aaxis": {
            "gridcolor": "white",
            "linecolor": "white",
            "ticks": ""
           },
           "baxis": {
            "gridcolor": "white",
            "linecolor": "white",
            "ticks": ""
           },
           "bgcolor": "#E5ECF6",
           "caxis": {
            "gridcolor": "white",
            "linecolor": "white",
            "ticks": ""
           }
          },
          "title": {
           "x": 0.05
          },
          "xaxis": {
           "automargin": true,
           "gridcolor": "white",
           "linecolor": "white",
           "ticks": "",
           "title": {
            "standoff": 15
           },
           "zerolinecolor": "white",
           "zerolinewidth": 2
          },
          "yaxis": {
           "automargin": true,
           "gridcolor": "white",
           "linecolor": "white",
           "ticks": "",
           "title": {
            "standoff": 15
           },
           "zerolinecolor": "white",
           "zerolinewidth": 2
          }
         }
        },
        "title": {
         "text": "Wells around US by Category"
        }
       }
      }
     },
     "metadata": {},
     "output_type": "display_data"
    }
   ],
   "source": [
    "\n",
    "#categories of wells \n",
    "# Category 0 - always shallow\n",
    "# Category 1 - was deep, became shallow\n",
    "# Category 2 - always deep\n",
    "# Category 3 - was shallow, now deep\n",
    "\n",
    "\n",
    "#create scatter map\n",
    "fig = px.scatter_geo(merged_data, lat='latitude', lon='longitude', color='category',\n",
    "                     hover_name='well_depth_va', #size='mag',\n",
    "                     title='Wells around US by Category', scope='usa')\n",
    "fig.show()"
   ]
  },
  {
   "cell_type": "code",
   "execution_count": 27,
   "metadata": {},
   "outputs": [
    {
     "data": {
      "application/vnd.plotly.v1+json": {
       "config": {
        "plotlyServerURL": "https://plot.ly"
       },
       "data": [
        {
         "customdata": [
          [
           3200
          ],
          [
           1400
          ],
          [
           1075
          ],
          [
           1384
          ],
          [
           538
          ],
          [
           616
          ],
          [
           1565
          ],
          [
           309.5
          ],
          [
           229
          ],
          [
           3305
          ],
          [
           1050
          ],
          [
           303.3
          ],
          [
           920
          ],
          [
           2440
          ],
          [
           2450
          ],
          [
           1813
          ],
          [
           1200
          ],
          [
           346
          ],
          [
           32.5
          ],
          [
           975
          ],
          [
           954
          ],
          [
           246
          ],
          [
           270
          ],
          [
           85
          ],
          [
           118
          ],
          [
           60
          ],
          [
           190
          ],
          [
           300
          ],
          [
           168
          ],
          [
           237
          ],
          [
           255
          ],
          [
           252
          ],
          [
           321
          ]
         ],
         "hovertemplate": "state=TX<br>Site ID=%{x}<br>Well Depth=%{y}<br>Hole Depth=%{customdata[0]}<extra></extra>",
         "legendgroup": "TX",
         "marker": {
          "color": "#636efa",
          "size": [
           3200,
           1400,
           1075,
           1384,
           538,
           616,
           1565,
           309.5,
           229,
           3305,
           1050,
           303.3,
           920,
           2440,
           2450,
           1813,
           1200,
           346,
           32.5,
           975,
           954,
           246,
           270,
           85,
           118,
           60,
           190,
           300,
           168,
           237,
           255,
           252,
           321
          ],
          "sizemode": "area",
          "sizeref": 11.0225,
          "symbol": "circle"
         },
         "mode": "markers",
         "name": "TX",
         "showlegend": true,
         "type": "scattergl",
         "x": [
          290955098562101,
          291136099375801,
          292505098254002,
          292556098260701,
          292618099165901,
          292943098354404,
          293058098110501,
          293202099063501,
          293252098380801,
          293348095070604,
          293424098134701,
          293516098325501,
          293610098152701,
          294338095270402,
          294338095270403,
          294726095351102,
          294901095221001,
          295204099340201,
          295443097554201,
          295858097521801,
          300322093452601,
          300824095274701,
          301948095290002,
          301948095290004,
          302636095422801,
          302636095422803,
          303143095334801,
          315712106361803,
          334404102414301,
          334953101503701,
          340848102392801,
          342116101452901,
          345342102313801
         ],
         "xaxis": "x",
         "y": [
          3200,
          1400,
          1075,
          1223,
          538,
          596.5,
          1562,
          290,
          229,
          3072,
          1050,
          300,
          920,
          2358,
          1943,
          1802,
          1152,
          346,
          32.5,
          975,
          715,
          246,
          261,
          80,
          118,
          60,
          181,
          300,
          168,
          237,
          255,
          252,
          321
         ],
         "yaxis": "y"
        },
        {
         "customdata": [
          [
           750
          ],
          [
           290
          ],
          [
           246
          ],
          [
           1867
          ],
          [
           1772
          ],
          [
           870
          ],
          [
           234
          ],
          [
           240
          ],
          [
           686
          ],
          [
           907
          ]
         ],
         "hovertemplate": "state=LA<br>Site ID=%{x}<br>Well Depth=%{y}<br>Hole Depth=%{customdata[0]}<extra></extra>",
         "legendgroup": "LA",
         "marker": {
          "color": "#EF553B",
          "size": [
           750,
           290,
           246,
           1867,
           1772,
           870,
           234,
           240,
           686,
           907
          ],
          "sizemode": "area",
          "sizeref": 11.0225,
          "symbol": "circle"
         },
         "mode": "markers",
         "name": "LA",
         "showlegend": true,
         "type": "scattergl",
         "x": [
          301213093191701,
          301300092584503,
          301832092234501,
          302614091083001,
          302636091083802,
          302642091083401,
          304120092263001,
          305018093251301,
          324141092390501,
          330002092445901
         ],
         "xaxis": "x",
         "y": [
          555,
          290,
          202,
          1736,
          1754,
          860,
          231,
          164,
          686,
          736
         ],
         "yaxis": "y"
        },
        {
         "customdata": [
          [
           65
          ],
          [
           26
          ],
          [
           271
          ],
          [
           32
          ],
          [
           60
          ],
          [
           53.5
          ]
         ],
         "hovertemplate": "state=AL<br>Site ID=%{x}<br>Well Depth=%{y}<br>Hole Depth=%{customdata[0]}<extra></extra>",
         "legendgroup": "AL",
         "marker": {
          "color": "#00cc96",
          "size": [
           65,
           26,
           271,
           32,
           60,
           53.5
          ],
          "sizemode": "area",
          "sizeref": 11.0225,
          "symbol": "circle"
         },
         "mode": "markers",
         "name": "AL",
         "showlegend": true,
         "type": "scattergl",
         "x": [
          302416087505501,
          311319086153601,
          322047086214301,
          322500085551201,
          333204087324601,
          342718087285601
         ],
         "xaxis": "x",
         "y": [
          64,
          26,
          270,
          32,
          60,
          40.4
         ],
         "yaxis": "y"
        },
        {
         "customdata": [
          [
           575
          ],
          [
           370
          ],
          [
           260
          ],
          [
           1500
          ],
          [
           2126
          ],
          [
           770
          ],
          [
           148
          ],
          [
           1306
          ],
          [
           64.5
          ],
          [
           700
          ],
          [
           400
          ],
          [
           971
          ],
          [
           150
          ],
          [
           251
          ],
          [
           650
          ],
          [
           125
          ],
          [
           455
          ],
          [
           42.8
          ],
          [
           250
          ],
          [
           295
          ],
          [
           488
          ],
          [
           225
          ],
          [
           1970
          ],
          [
           1000
          ],
          [
           1000
          ],
          [
           865
          ],
          [
           701
          ],
          [
           1158
          ],
          [
           982
          ],
          [
           2770
          ],
          [
           1400
          ],
          [
           1103
          ],
          [
           328
          ],
          [
           202
          ],
          [
           208
          ],
          [
           604
          ],
          [
           1003
          ],
          [
           785
          ],
          [
           1100
          ],
          [
           720
          ],
          [
           155
          ],
          [
           750
          ],
          [
           980
          ],
          [
           772
          ],
          [
           1002
          ],
          [
           790
          ],
          [
           75
          ],
          [
           40
          ],
          [
           745
          ],
          [
           1000
          ],
          [
           1000
          ],
          [
           750
          ],
          [
           50
          ],
          [
           200
          ],
          [
           200
          ],
          [
           175
          ],
          [
           2200
          ],
          [
           800
          ],
          [
           620
          ],
          [
           412
          ],
          [
           2260
          ],
          [
           390
          ],
          [
           417
          ],
          [
           225
          ],
          [
           39
          ],
          [
           560
          ],
          [
           440
          ],
          [
           164
          ],
          [
           208
          ],
          [
           125
          ],
          [
           680
          ],
          [
           137
          ],
          [
           320
          ],
          [
           131
          ],
          [
           37
          ],
          [
           177
          ],
          [
           622
          ],
          [
           612
          ],
          [
           140
          ],
          [
           138
          ],
          [
           150
          ],
          [
           170
          ],
          [
           200
          ],
          [
           170
          ],
          [
           172
          ],
          [
           345
          ],
          [
           203
          ],
          [
           882
          ],
          [
           418
          ],
          [
           218
          ],
          [
           738
          ],
          [
           310
          ],
          [
           4409
          ],
          [
           750
          ],
          [
           340
          ],
          [
           215
          ],
          [
           100
          ],
          [
           178
          ],
          [
           170
          ],
          [
           251
          ],
          [
           656
          ],
          [
           257
          ],
          [
           690
          ],
          [
           1347
          ],
          [
           760
          ],
          [
           351
          ],
          [
           594
          ],
          [
           181
          ],
          [
           650
          ],
          [
           385
          ],
          [
           565
          ],
          [
           870
          ],
          [
           94
          ],
          [
           430
          ],
          [
           345
          ],
          [
           123
          ],
          [
           25
          ],
          [
           802
          ],
          [
           372
          ],
          [
           433
          ],
          [
           340
          ],
          [
           789
          ],
          [
           384
          ],
          [
           151
          ],
          [
           500
          ],
          [
           441.25
          ],
          [
           1677
          ],
          [
           550
          ],
          [
           340
          ],
          [
           400
          ],
          [
           85
          ],
          [
           15
          ],
          [
           43
          ],
          [
           386
          ],
          [
           55
          ],
          [
           60
          ],
          [
           69
          ],
          [
           745
          ],
          [
           950
          ],
          [
           105
          ],
          [
           150
          ],
          [
           170
          ],
          [
           1546
          ],
          [
           354
          ],
          [
           62
          ],
          [
           102
          ],
          [
           536
          ],
          [
           500
          ],
          [
           413
          ],
          [
           360
          ],
          [
           1520
          ],
          [
           271
          ],
          [
           994
          ],
          [
           699
          ],
          [
           804
          ],
          [
           155
          ],
          [
           1000
          ],
          [
           285
          ],
          [
           870
          ],
          [
           215
          ],
          [
           568
          ],
          [
           429
          ],
          [
           1555
          ],
          [
           123
          ],
          [
           1685
          ],
          [
           860
          ],
          [
           210
          ],
          [
           616
          ],
          [
           1780
          ],
          [
           1555
          ],
          [
           780
          ],
          [
           1020
          ],
          [
           568
          ],
          [
           210
          ],
          [
           31
          ],
          [
           30
          ],
          [
           496
          ],
          [
           246
          ],
          [
           220
          ],
          [
           122
          ],
          [
           91
          ],
          [
           497
          ],
          [
           341
          ],
          [
           620
          ],
          [
           95
          ],
          [
           345
          ],
          [
           185
          ],
          [
           402
          ],
          [
           300
          ],
          [
           72
          ]
         ],
         "hovertemplate": "state=GA<br>Site ID=%{x}<br>Well Depth=%{y}<br>Hole Depth=%{customdata[0]}<extra></extra>",
         "legendgroup": "GA",
         "marker": {
          "color": "#ab63fa",
          "size": [
           575,
           370,
           260,
           1500,
           2126,
           770,
           148,
           1306,
           64.5,
           700,
           400,
           971,
           150,
           251,
           650,
           125,
           455,
           42.8,
           250,
           295,
           488,
           225,
           1970,
           1000,
           1000,
           865,
           701,
           1158,
           982,
           2770,
           1400,
           1103,
           328,
           202,
           208,
           604,
           1003,
           785,
           1100,
           720,
           155,
           750,
           980,
           772,
           1002,
           790,
           75,
           40,
           745,
           1000,
           1000,
           750,
           50,
           200,
           200,
           175,
           2200,
           800,
           620,
           412,
           2260,
           390,
           417,
           225,
           39,
           560,
           440,
           164,
           208,
           125,
           680,
           137,
           320,
           131,
           37,
           177,
           622,
           612,
           140,
           138,
           150,
           170,
           200,
           170,
           172,
           345,
           203,
           882,
           418,
           218,
           738,
           310,
           4409,
           750,
           340,
           215,
           100,
           178,
           170,
           251,
           656,
           257,
           690,
           1347,
           760,
           351,
           594,
           181,
           650,
           385,
           565,
           870,
           94,
           430,
           345,
           123,
           25,
           802,
           372,
           433,
           340,
           789,
           384,
           151,
           500,
           441.25,
           1677,
           550,
           340,
           400,
           85,
           15,
           43,
           386,
           55,
           60,
           69,
           745,
           950,
           105,
           150,
           170,
           1546,
           354,
           62,
           102,
           536,
           500,
           413,
           360,
           1520,
           271,
           994,
           699,
           804,
           155,
           1000,
           285,
           870,
           215,
           568,
           429,
           1555,
           123,
           1685,
           860,
           210,
           616,
           1780,
           1555,
           780,
           1020,
           568,
           210,
           31,
           30,
           496,
           246,
           220,
           122,
           91,
           497,
           341,
           620,
           95,
           345,
           185,
           402,
           300,
           72
          ],
          "sizemode": "area",
          "sizeref": 11.0225,
          "symbol": "circle"
         },
         "mode": "markers",
         "name": "GA",
         "showlegend": true,
         "type": "scattergl",
         "x": [
          304313081330001,
          304406081330502,
          304406081330503,
          304406081330504,
          304406081330505,
          304512081343601,
          304712084395801,
          304756081311101,
          304806084404101,
          304942082213801,
          304949083165301,
          305235084125101,
          305356084534601,
          305736084355801,
          310410081343801,
          310427084591101,
          310428084310501,
          310428084310503,
          310507084262201,
          310602081423601,
          310629081323301,
          310651084404501,
          310706082155101,
          310810081292801,
          310810081292802,
          310813083260301,
          310818081293701,
          310818081294201,
          310822081294201,
          310835081294501,
          310835081294502,
          310901081284401,
          310901081284402,
          310901081284403,
          310902081284201,
          310906081293201,
          310924081295201,
          310924081295202,
          310925081312201,
          310925081312202,
          310925081312203,
          310931081291002,
          310938081285301,
          310938081285302,
          311007081301701,
          311007081301702,
          311009084495502,
          311009084495503,
          311011081293101,
          311022081304601,
          311022081304602,
          311028081285902,
          311059081285702,
          311335084311901,
          311400084295502,
          311454081210503,
          311456081210501,
          311456081210503,
          311530081363901,
          311530081363904,
          311633081324001,
          311711081283002,
          311802084192301,
          311802084192302,
          311802084192303,
          311909081281101,
          311909081281102,
          311909081281103,
          312127084065801,
          312232084391701,
          312446081271203,
          312617084110701,
          312654084210102,
          312704084071601,
          312705084410301,
          312709084161701,
          312712082593301,
          312827084551501,
          312827084551503,
          312853084275101,
          312919084153801,
          312947084092201,
          312950084131801,
          313000084100301,
          313019084104601,
          313031084005901,
          313040084125901,
          313105084064202,
          313105084064301,
          313105084064302,
          313146083491601,
          313247084005001,
          313253081433501,
          313253081433502,
          313253081433503,
          313253081433504,
          313302084120301,
          313450084091801,
          313521084051001,
          313530084203202,
          313532084203501,
          313534084103001,
          313534084103002,
          313534084103003,
          313554084062501,
          313625084041501,
          313701081543501,
          313808084093601,
          313812084125001,
          313813084125001,
          313823081154201,
          313845081361701,
          313953084361201,
          313953084361202,
          314330084005401,
          314330084005402,
          314330084005403,
          314343081251901,
          314602084473701,
          314611084310301,
          315113081121401,
          315214081235301,
          315353084192501,
          315353084192502,
          315356081214301,
          315443081185902,
          315443081185903,
          315731083542301,
          315731083542302,
          315906081011202,
          315906081011204,
          315950081161201,
          320003084240501,
          320021081124801,
          320039084235601,
          320048084240101,
          320107084240801,
          320122080510204,
          320127080511201,
          320127080511203,
          320127080511301,
          320139083511602,
          320150080540601,
          320202080541201,
          320202080541202,
          320202080541203,
          320226082301101,
          320433081042701,
          320530081085001,
          320622081063701,
          320622081063702,
          320716081153501,
          320754081364301,
          321110083462701,
          321240081411501,
          321240081411502,
          321302082243601,
          321742081234901,
          321742081234904,
          321943081151401,
          322036084590301,
          322236081191001,
          322245083290101,
          322652083033001,
          323030083030003,
          323123081511601,
          323123081511602,
          323302083263401,
          324209082430201,
          325232082131501,
          325848082480901,
          330548081391101,
          330548081391102,
          330548081391103,
          330858084122901,
          331507084171801,
          331711081573701,
          332131082013401,
          332221081584601,
          332221081584602,
          332528082003301,
          332808083010201,
          334207084254801,
          335517084164001,
          335612084312902,
          335614084010701,
          341020083201701,
          342125084083301,
          342922084511601,
          345403085160001
         ],
         "xaxis": "x",
         "y": [
          575,
          365,
          255,
          1500,
          2004,
          760,
          148,
          990,
          64.5,
          700,
          342,
          467,
          98.5,
          251,
          650,
          123,
          455,
          42.8,
          206,
          295,
          475,
          225,
          1856,
          759,
          1000,
          865,
          700,
          1158,
          982,
          2720,
          1400,
          1103,
          328,
          202,
          205,
          604,
          1003,
          785,
          1100,
          720,
          155,
          685,
          980,
          770,
          952,
          790,
          75,
          40,
          745,
          740,
          1000,
          750,
          48.5,
          200,
          200,
          175,
          1571,
          780,
          500,
          412,
          1910,
          390,
          417,
          225,
          39,
          555,
          435,
          160,
          208,
          125,
          583,
          137,
          320,
          131,
          32,
          177,
          620,
          612,
          140,
          138,
          150,
          170,
          200,
          170,
          172,
          345,
          203,
          882,
          418,
          218,
          450,
          310,
          2070,
          750,
          340,
          215,
          100,
          178,
          170,
          251,
          656,
          257,
          690,
          846,
          760,
          351,
          594,
          181,
          650,
          385,
          553,
          870,
          94,
          430,
          345,
          123,
          25,
          802,
          372,
          433,
          340,
          789,
          384,
          151,
          425,
          441.25,
          1095,
          550,
          340,
          400,
          85,
          15,
          43,
          336,
          55,
          60,
          68,
          600,
          888,
          100,
          145,
          170,
          1546,
          348,
          62,
          102,
          536,
          500,
          406,
          344,
          1520,
          210,
          994,
          330,
          804,
          155,
          1000,
          185,
          870,
          215,
          550,
          429,
          1555,
          123,
          1685,
          860,
          210,
          616,
          1780,
          1045,
          750,
          982,
          562,
          210,
          31,
          30,
          455,
          213,
          200.25,
          120,
          82,
          497,
          341,
          620,
          55,
          345,
          185,
          399,
          300,
          72
         ],
         "yaxis": "y"
        },
        {
         "customdata": [
          [
           125
          ],
          [
           32
          ],
          [
           36.5
          ],
          [
           73.5
          ],
          [
           93
          ],
          [
           134
          ],
          [
           28
          ],
          [
           14
          ],
          [
           15
          ],
          [
           68.5
          ],
          [
           180
          ],
          [
           24
          ],
          [
           34.5
          ],
          [
           180
          ],
          [
           199
          ],
          [
           24
          ],
          [
           1501
          ],
          [
           12.79
          ],
          [
           20.79
          ],
          [
           21
          ],
          [
           53.5
          ],
          [
           178.5
          ],
          [
           50
          ],
          [
           18
          ],
          [
           23
          ],
          [
           17.6
          ],
          [
           965
          ],
          [
           1030
          ],
          [
           780
          ],
          [
           885
          ],
          [
           1029
          ],
          [
           485
          ],
          [
           808
          ],
          [
           790
          ],
          [
           1003
          ],
          [
           1010
          ],
          [
           1400
          ],
          [
           300.4
          ],
          [
           998
          ],
          [
           471
          ],
          [
           349
          ],
          [
           240
          ],
          [
           189
          ],
          [
           365
          ],
          [
           1210
          ],
          [
           610
          ],
          [
           520
          ],
          [
           603
          ],
          [
           1180
          ],
          [
           1069
          ],
          [
           1683
          ],
          [
           2507
          ],
          [
           851
          ],
          [
           400
          ],
          [
           1338
          ],
          [
           868
          ],
          [
           200
          ],
          [
           202
          ],
          [
           92.8
          ]
         ],
         "hovertemplate": "state=AZ<br>Site ID=%{x}<br>Well Depth=%{y}<br>Hole Depth=%{customdata[0]}<extra></extra>",
         "legendgroup": "AZ",
         "marker": {
          "color": "#FFA15A",
          "size": [
           125,
           32,
           36.5,
           73.5,
           93,
           134,
           28,
           14,
           15,
           68.5,
           180,
           24,
           34.5,
           180,
           199,
           24,
           1501,
           12.79,
           20.79,
           21,
           53.5,
           178.5,
           50,
           18,
           23,
           17.6,
           965,
           1030,
           780,
           885,
           1029,
           485,
           808,
           790,
           1003,
           1010,
           1400,
           300.4,
           998,
           471,
           349,
           240,
           189,
           365,
           1210,
           610,
           520,
           603,
           1180,
           1069,
           1683,
           2507,
           851,
           400,
           1338,
           868,
           200,
           202,
           92.8
          ],
          "sizemode": "area",
          "sizeref": 11.0225,
          "symbol": "circle"
         },
         "mode": "markers",
         "name": "AZ",
         "showlegend": true,
         "type": "scattergl",
         "x": [
          312044110141901,
          312207110070702,
          312214110071601,
          312214110071602,
          312642110063701,
          312642110063702,
          312716110063302,
          312859110070601,
          312900110071001,
          313108110075202,
          313309110094301,
          313312110082301,
          313312110082302,
          313312110082303,
          313312110082501,
          313312110082502,
          313618110162301,
          313643110100101,
          313643110100102,
          313738110102901,
          314144110104701,
          314144110104702,
          314248110105901,
          314317110113401,
          314318110113101,
          314511110120601,
          315909110540601,
          320845110551201,
          320944111125701,
          321058110563301,
          321142110530301,
          321208110525001,
          321517110571802,
          321547111144001,
          322009111191801,
          322339111170001,
          323510111181001,
          324003114235701,
          333117114322801,
          333859114291701,
          343409111511101,
          343850111460701,
          343852111460301,
          344544112025001,
          345603110450301,
          350002110355501,
          350427112414701,
          350616112435601,
          351022111061801,
          351214111022101,
          360055110304001,
          361225110240701,
          362936109564101,
          363143110355001,
          363850110100801,
          364338110154601,
          365236112442501,
          365403112452801,
          365602112460201
         ],
         "xaxis": "x",
         "y": [
          123.67,
          32,
          36.5,
          73.5,
          93,
          134,
          28,
          14,
          15,
          68.5,
          180,
          24,
          34.5,
          180,
          199,
          24,
          1501,
          12.79,
          20.79,
          21,
          53.5,
          178.5,
          50,
          18,
          22.8,
          17.6,
          965,
          1030,
          780,
          885,
          1010,
          465,
          808,
          790,
          1003,
          1010,
          1400,
          300.4,
          998,
          466,
          100,
          240,
          189,
          345,
          500,
          610,
          419,
          603,
          null,
          1069,
          1683,
          2506,
          851,
          400,
          1338,
          868,
          200,
          202,
          92.8
         ],
         "yaxis": "y"
        },
        {
         "customdata": [
          [
           436
          ],
          [
           106
          ],
          [
           170
          ],
          [
           28
          ],
          [
           53
          ],
          [
           74
          ],
          [
           15.9
          ],
          [
           42
          ],
          [
           70
          ],
          [
           110
          ],
          [
           380
          ],
          [
           44
          ]
         ],
         "hovertemplate": "state=MS<br>Site ID=%{x}<br>Well Depth=%{y}<br>Hole Depth=%{customdata[0]}<extra></extra>",
         "legendgroup": "MS",
         "marker": {
          "color": "#19d3f3",
          "size": [
           436,
           106,
           170,
           28,
           53,
           74,
           15.9,
           42,
           70,
           110,
           380,
           44
          ],
          "sizemode": "area",
          "sizeref": 11.0225,
          "symbol": "circle"
         },
         "mode": "markers",
         "name": "MS",
         "showlegend": true,
         "type": "scattergl",
         "x": [
          313256091214201,
          314115088392301,
          322310090530202,
          323047090484401,
          324419090351201,
          324615090375001,
          325817090464201,
          332223091043301,
          332242091030401,
          332826090441601,
          333021089202901,
          333251090323801
         ],
         "xaxis": "x",
         "y": [
          436,
          96,
          170,
          26.65,
          53,
          74,
          15.7,
          42,
          70,
          110,
          344,
          41.45
         ],
         "yaxis": "y"
        },
        {
         "customdata": [
          [
           34
          ],
          [
           33.5
          ],
          [
           34
          ],
          [
           316
          ],
          [
           125
          ],
          [
           45
          ],
          [
           332
          ],
          [
           50
          ],
          [
           693
          ],
          [
           314
          ],
          [
           119
          ],
          [
           40
          ],
          [
           915
          ],
          [
           34
          ],
          [
           295
          ],
          [
           34.5
          ],
          [
           16.87
          ],
          [
           18.17
          ],
          [
           20.27
          ],
          [
           1200
          ],
          [
           1200
          ],
          [
           1200
          ],
          [
           1200
          ],
          [
           1200
          ],
          [
           1365
          ],
          [
           1365
          ],
          [
           1365
          ],
          [
           70
          ],
          [
           1655
          ],
          [
           1655
          ],
          [
           1655
          ],
          [
           1650
          ],
          [
           1650
          ],
          [
           603
          ],
          [
           603
          ],
          [
           1302
          ],
          [
           1302
          ],
          [
           1302
          ],
          [
           1200
          ],
          [
           1987
          ],
          [
           1987
          ],
          [
           1570
          ],
          [
           1570
          ],
          [
           1570
          ],
          [
           1462
          ],
          [
           1462
          ],
          [
           1462
          ],
          [
           1100
          ],
          [
           1100
          ],
          [
           1100
          ],
          [
           330
          ],
          [
           330
          ],
          [
           330
          ],
          [
           1630
          ],
          [
           1630
          ],
          [
           1630
          ],
          [
           1033
          ],
          [
           1033
          ],
          [
           1033
          ],
          [
           340
          ],
          [
           987
          ],
          [
           987
          ],
          [
           987
          ],
          [
           987
          ],
          [
           220
          ],
          [
           1325
          ],
          [
           1325
          ],
          [
           1650
          ],
          [
           1650
          ],
          [
           1650
          ],
          [
           180
          ],
          [
           1526
          ],
          [
           1526
          ],
          [
           1526
          ],
          [
           1520
          ],
          [
           1520
          ],
          [
           1520
          ],
          [
           362
          ],
          [
           362
          ],
          [
           362
          ],
          [
           1320
          ],
          [
           1320
          ],
          [
           1320
          ],
          [
           1343
          ],
          [
           1343
          ],
          [
           1343
          ],
          [
           1233
          ],
          [
           1233
          ],
          [
           165
          ],
          [
           113
          ],
          [
           1370
          ],
          [
           1370
          ],
          [
           1370
          ],
          [
           2000
          ],
          [
           2000
          ],
          [
           2000
          ],
          [
           1815
          ],
          [
           1815
          ],
          [
           1815
          ],
          [
           2020
          ],
          [
           1313
          ],
          [
           2004
          ],
          [
           2004
          ],
          [
           2004
          ],
          [
           1140
          ],
          [
           930
          ],
          [
           930
          ],
          [
           2495
          ],
          [
           2495
          ],
          [
           2495
          ],
          [
           860
          ],
          [
           380
          ],
          [
           525
          ],
          [
           525
          ]
         ],
         "hovertemplate": "state=NM<br>Site ID=%{x}<br>Well Depth=%{y}<br>Hole Depth=%{customdata[0]}<extra></extra>",
         "legendgroup": "NM",
         "marker": {
          "color": "#FF6692",
          "size": [
           34,
           33.5,
           34,
           316,
           125,
           45,
           332,
           50,
           693,
           314,
           119,
           40,
           915,
           34,
           295,
           34.5,
           16.87,
           18.17,
           20.27,
           1200,
           1200,
           1200,
           1200,
           1200,
           1365,
           1365,
           1365,
           70,
           1655,
           1655,
           1655,
           1650,
           1650,
           603,
           603,
           1302,
           1302,
           1302,
           1200,
           1987,
           1987,
           1570,
           1570,
           1570,
           1462,
           1462,
           1462,
           1100,
           1100,
           1100,
           330,
           330,
           330,
           1630,
           1630,
           1630,
           1033,
           1033,
           1033,
           340,
           987,
           987,
           987,
           987,
           220,
           1325,
           1325,
           1650,
           1650,
           1650,
           180,
           1526,
           1526,
           1526,
           1520,
           1520,
           1520,
           362,
           362,
           362,
           1320,
           1320,
           1320,
           1343,
           1343,
           1343,
           1233,
           1233,
           165,
           113,
           1370,
           1370,
           1370,
           2000,
           2000,
           2000,
           1815,
           1815,
           1815,
           2020,
           1313,
           2004,
           2004,
           2004,
           1140,
           930,
           930,
           2495,
           2495,
           2495,
           860,
           380,
           525,
           525
          ],
          "sizemode": "area",
          "sizeref": 11.0225,
          "symbol": "circle"
         },
         "mode": "markers",
         "name": "NM",
         "showlegend": true,
         "type": "scattergl",
         "x": [
          315953106390601,
          320404106385801,
          321105106442101,
          321332106443701,
          321332106443702,
          321332106443703,
          321740106481001,
          321740106481003,
          321740106481004,
          321745106492101,
          321745106492102,
          321745106492103,
          321745106492106,
          321859106503101,
          322323106314701,
          322540106525101,
          323802107024101,
          323917107031601,
          325002107181201,
          343753106430601,
          343753106430602,
          344431106393401,
          344431106393402,
          344431106393403,
          345650106415901,
          345650106415902,
          345650106415903,
          345650106415904,
          345758106364001,
          345758106364002,
          345758106364003,
          350056106370102,
          350056106370103,
          350100106405701,
          350100106405702,
          350244106450201,
          350244106450202,
          350244106450203,
          350256106390801,
          350307106410601,
          350307106410602,
          350534106354701,
          350534106354702,
          350534106354703,
          350545106335901,
          350545106335902,
          350545106335903,
          350638106413701,
          350638106413702,
          350638106413703,
          350638106413704,
          350638106413705,
          350638106413706,
          350653106311601,
          350653106311602,
          350653106311603,
          350706106390301,
          350706106390302,
          350706106390303,
          350721106211001,
          350836106395401,
          350836106395402,
          350836106395403,
          350836106395404,
          350853106205701,
          350908106344401,
          350908106344402,
          350910106414801,
          350910106414802,
          350910106414803,
          350954106212401,
          351114106330601,
          351114106330602,
          351114106330603,
          351201106400501,
          351201106400502,
          351201106400503,
          351201106400504,
          351201106400505,
          351201106400506,
          351357106323001,
          351357106323002,
          351357106323003,
          351515106410401,
          351515106410402,
          351515106410403,
          351821106333901,
          351821106333902,
          352949105144301,
          353146105144801,
          353348106025101,
          353348106025102,
          353348106025103,
          353824106040901,
          353824106040902,
          353824106040903,
          353825105594701,
          353825105594702,
          353825105594703,
          353945105574501,
          354056106215801,
          354228106044901,
          354228106044902,
          354228106044903,
          354321105573701,
          354321105573702,
          354321105573703,
          354731106072001,
          354731106072002,
          354731106072003,
          355000106092802,
          355000106092803,
          355120105593901,
          355120105593902
         ],
         "xaxis": "x",
         "y": [
          34,
          33.5,
          34,
          307,
          120,
          40,
          332,
          50,
          640,
          310,
          110,
          40,
          650,
          34,
          295,
          34.5,
          16.87,
          18.17,
          20.27,
          1186,
          695,
          1200,
          710,
          275,
          1340,
          815,
          185,
          50,
          1630,
          1015,
          525,
          708,
          330,
          595,
          210,
          1290,
          868,
          370,
          765,
          1623,
          1025,
          1567,
          842,
          425,
          1455,
          1050,
          510,
          1095,
          689,
          433,
          328,
          254,
          173,
          1520,
          1045,
          705,
          1020,
          582,
          93,
          340,
          983,
          836,
          568,
          182,
          220,
          1308,
          799,
          1644,
          928,
          210,
          180,
          1525,
          1193,
          608,
          1518,
          855,
          238,
          359,
          305,
          263,
          1305,
          1025,
          535,
          1260,
          835,
          595,
          1190,
          320,
          165,
          113,
          1320,
          640,
          340,
          1910,
          1075,
          460,
          1700,
          1380,
          540,
          1952,
          1295,
          1990,
          1320,
          450,
          1100,
          920,
          665,
          2440,
          1340,
          480,
          824,
          346,
          520,
          320
         ],
         "yaxis": "y"
        },
        {
         "customdata": [
          [
           746
          ],
          [
           210
          ],
          [
           202
          ],
          [
           105
          ],
          [
           91
          ],
          [
           500
          ],
          [
           1704
          ],
          [
           1385
          ],
          [
           95
          ],
          [
           170
          ],
          [
           940
          ],
          [
           295
          ],
          [
           415
          ],
          [
           701
          ],
          [
           677
          ],
          [
           806
          ],
          [
           231
          ],
          [
           561
          ],
          [
           425
          ],
          [
           304
          ],
          [
           540
          ],
          [
           97
          ],
          [
           130
          ],
          [
           255
          ],
          [
           595
          ],
          [
           438
          ],
          [
           363
          ],
          [
           202
          ],
          [
           714
          ],
          [
           549
          ],
          [
           802
          ],
          [
           83
          ],
          [
           300
          ],
          [
           90
          ],
          [
           398
          ],
          [
           98
          ],
          [
           58
          ],
          [
           300
          ],
          [
           433
          ],
          [
           300
          ],
          [
           60
          ],
          [
           265
          ]
         ],
         "hovertemplate": "state=SC<br>Site ID=%{x}<br>Well Depth=%{y}<br>Hole Depth=%{customdata[0]}<extra></extra>",
         "legendgroup": "SC",
         "marker": {
          "color": "#B6E880",
          "size": [
           746,
           210,
           202,
           105,
           91,
           500,
           1704,
           1385,
           95,
           170,
           940,
           295,
           415,
           701,
           677,
           806,
           231,
           561,
           425,
           304,
           540,
           97,
           130,
           255,
           595,
           438,
           363,
           202,
           714,
           549,
           802,
           83,
           300,
           90,
           398,
           98,
           58,
           300,
           433,
           300,
           60,
           265
          ],
          "sizemode": "area",
          "sizeref": 11.0225,
          "symbol": "circle"
         },
         "mode": "markers",
         "name": "SC",
         "showlegend": true,
         "type": "scattergl",
         "x": [
          320846080502203,
          321358080403802,
          321603080432202,
          322745080435800,
          330247079340300,
          330256080354500,
          331022080021801,
          331037081184301,
          331038081184201,
          331039081184201,
          331043081185601,
          331044081185301,
          331044081185401,
          331044081185501,
          331940081443501,
          332358081252000,
          332616081461601,
          332616081462001,
          332617081462001,
          332649081072500,
          333230081290501,
          333232081290605,
          333233081290704,
          333233081290802,
          334944080380100,
          335115079033500,
          335143079195000,
          335336082214600,
          335602080204800,
          340806079563100,
          341144079345001,
          342440080443900,
          342440080443901,
          343105080172100,
          343714082285600,
          344000081250011,
          344333080503600,
          344333080503601,
          345051083041800,
          345830081033100,
          345830081033101,
          350918081263408
         ],
         "xaxis": "x",
         "y": [
          619,
          210,
          202,
          105,
          91,
          342,
          1607,
          1045,
          95,
          170,
          929,
          293,
          411,
          701,
          605,
          785,
          231,
          535,
          425,
          250,
          500,
          97,
          129,
          255,
          542,
          438,
          356,
          202,
          625,
          535,
          695,
          83,
          300,
          90,
          398,
          98,
          58,
          300,
          433,
          300,
          60,
          265
         ],
         "yaxis": "y"
        },
        {
         "customdata": [
          [
           750
          ],
          [
           46.5
          ],
          [
           149
          ],
          [
           359
          ],
          [
           120
          ],
          [
           360
          ],
          [
           219
          ],
          [
           620
          ],
          [
           792
          ],
          [
           200
          ],
          [
           830
          ],
          [
           276
          ],
          [
           917
          ],
          [
           315
          ],
          [
           173
          ],
          [
           313
          ]
         ],
         "hovertemplate": "state=CA<br>Site ID=%{x}<br>Well Depth=%{y}<br>Hole Depth=%{customdata[0]}<extra></extra>",
         "legendgroup": "CA",
         "marker": {
          "color": "#FF97FF",
          "size": [
           750,
           46.5,
           149,
           359,
           120,
           360,
           219,
           620,
           792,
           200,
           830,
           276,
           917,
           315,
           173,
           313
          ],
          "sizemode": "area",
          "sizeref": 11.0225,
          "symbol": "circle"
         },
         "mode": "markers",
         "name": "CA",
         "showlegend": true,
         "type": "scattergl",
         "x": [
          324226114554901,
          324239114563601,
          324248114500601,
          324303114480501,
          324325114461001,
          324410114533801,
          324421114482101,
          324450114515101,
          324459114521701,
          324525114500701,
          333214114535501,
          333939114411501,
          373849118513001,
          373930118491602,
          415104121232901,
          415546121205401
         ],
         "xaxis": "x",
         "y": [
          525,
          46.5,
          148,
          359,
          120,
          360,
          219,
          620,
          721.2,
          149,
          830,
          252,
          877,
          315,
          80,
          313
         ],
         "yaxis": "y"
        },
        {
         "customdata": [
          [
           762
          ],
          [
           97
          ],
          [
           336.5
          ],
          [
           602
          ],
          [
           142
          ],
          [
           160
          ],
          [
           660
          ],
          [
           620
          ],
          [
           165
          ],
          [
           130
          ]
         ],
         "hovertemplate": "state=AR<br>Site ID=%{x}<br>Well Depth=%{y}<br>Hole Depth=%{customdata[0]}<extra></extra>",
         "legendgroup": "AR",
         "marker": {
          "color": "#FECB52",
          "size": [
           762,
           97,
           336.5,
           602,
           142,
           160,
           660,
           620,
           165,
           130
          ],
          "sizemode": "area",
          "sizeref": 11.0225,
          "symbol": "circle"
         },
         "mode": "markers",
         "name": "AR",
         "showlegend": true,
         "type": "scattergl",
         "x": [
          331144092410601,
          335258091152301,
          343048093030401,
          344651091355102,
          344653091382701,
          345413091493401,
          350344090130000,
          352341090213101,
          352726090523101,
          354916090512501
         ],
         "xaxis": "x",
         "y": [
          740,
          97,
          336.5,
          535.2,
          126,
          144,
          500,
          604,
          155.9,
          127.6
         ],
         "yaxis": "y"
        },
        {
         "customdata": [
          [
           660
          ],
          [
           56
          ],
          [
           39
          ],
          [
           102
          ],
          [
           15
          ],
          [
           200
          ],
          [
           74
          ],
          [
           21
          ],
          [
           158.3
          ],
          [
           140
          ],
          [
           253
          ],
          [
           240
          ],
          [
           550
          ],
          [
           23
          ],
          [
           232
          ],
          [
           254
          ],
          [
           232
          ],
          [
           238
          ],
          [
           70
          ],
          [
           305
          ],
          [
           175
          ],
          [
           15
          ],
          [
           39
          ],
          [
           108.5
          ],
          [
           25
          ],
          [
           70
          ],
          [
           10.4
          ],
          [
           123
          ],
          [
           19.3
          ],
          [
           28
          ],
          [
           48
          ],
          [
           400
          ],
          [
           12
          ],
          [
           24
          ],
          [
           197
          ],
          [
           39.5
          ],
          [
           28.6
          ],
          [
           460
          ],
          [
           15.53
          ],
          [
           42
          ],
          [
           322
          ],
          [
           30.8
          ],
          [
           48
          ],
          [
           52
          ],
          [
           300
          ],
          [
           400
          ],
          [
           12
          ],
          [
           13
          ],
          [
           38
          ]
         ],
         "hovertemplate": "state=NC<br>Site ID=%{x}<br>Well Depth=%{y}<br>Hole Depth=%{customdata[0]}<extra></extra>",
         "legendgroup": "NC",
         "marker": {
          "color": "#636efa",
          "size": [
           660,
           56,
           39,
           102,
           15,
           200,
           74,
           21,
           158.3,
           140,
           253,
           240,
           550,
           23,
           232,
           254,
           232,
           238,
           70,
           305,
           175,
           15,
           39,
           108.5,
           25,
           70,
           10.4,
           123,
           19.3,
           28,
           48,
           400,
           12,
           24,
           197,
           39.5,
           28.6,
           460,
           15.53,
           42,
           322,
           30.8,
           48,
           52,
           300,
           400,
           12,
           13,
           38
          ],
          "sizemode": "area",
          "sizeref": 11.0225,
          "symbol": "circle"
         },
         "mode": "markers",
         "name": "NC",
         "showlegend": true,
         "type": "scattergl",
         "x": [
          335334078352102,
          335334078352106,
          335335078351901,
          335629078115406,
          335629078115407,
          335631078003604,
          335631078003605,
          335631078003606,
          335849078054301,
          340416078084202,
          343609077171301,
          343641077290103,
          343641077290104,
          343641077290106,
          344037077253901,
          344203077182001,
          344304077232901,
          344323076451301,
          344425077272501,
          344520079281001,
          344544079263701,
          345809077301408,
          345812079313401,
          351117083545001,
          351709082434101,
          351808082374302,
          351849078163901,
          352012081154302,
          352315082484401,
          353135080524201,
          353135080524202,
          353135080524203,
          353219077153801,
          354057080362601,
          354133082042203,
          354302081433202,
          354315078300101,
          354315078300103,
          354418076463601,
          355031081243202,
          355031081243203,
          355359080331701,
          355522079043001,
          355944079013401,
          360455081530101,
          361307080293101,
          361420077111407,
          361829076163201,
          362231079410801
         ],
         "xaxis": "x",
         "y": [
          660,
          56,
          38.5,
          102,
          15,
          200,
          74,
          21,
          158.3,
          140,
          235,
          240,
          534,
          22,
          180,
          253,
          232,
          191,
          68,
          240,
          161,
          15,
          39,
          83,
          23,
          58,
          10.4,
          123,
          18.4,
          28,
          48,
          400,
          10.9,
          24,
          197,
          39,
          28.6,
          460,
          15.53,
          42,
          322,
          30.8,
          48,
          52,
          300,
          400,
          12,
          12.6,
          38
         ],
         "yaxis": "y"
        },
        {
         "customdata": [
          [
           122
          ],
          [
           238
          ],
          [
           436
          ],
          [
           1707
          ],
          [
           237
          ],
          [
           254
          ],
          [
           335
          ],
          [
           107
          ],
          [
           210
          ],
          [
           320
          ],
          [
           339
          ],
          [
           146
          ],
          [
           122
          ],
          [
           58
          ],
          [
           205
          ],
          [
           322
          ],
          [
           320
          ],
          [
           29.2
          ],
          [
           22.5
          ],
          [
           54
          ],
          [
           1680
          ]
         ],
         "hovertemplate": "state=OK<br>Site ID=%{x}<br>Well Depth=%{y}<br>Hole Depth=%{customdata[0]}<extra></extra>",
         "legendgroup": "OK",
         "marker": {
          "color": "#EF553B",
          "size": [
           122,
           238,
           436,
           1707,
           237,
           254,
           335,
           107,
           210,
           320,
           339,
           146,
           122,
           58,
           205,
           322,
           320,
           29.2,
           22.5,
           54,
           1680
          ],
          "sizemode": "area",
          "sizeref": 11.0225,
          "symbol": "circle"
         },
         "mode": "markers",
         "name": "OK",
         "showlegend": true,
         "type": "scattergl",
         "x": [
          342527096493301,
          343017096561501,
          343022096565701,
          343457096404501,
          344143099560601,
          344656098031401,
          351308098341601,
          352142099122501,
          352423098341701,
          354112098430601,
          354442096400801,
          354525097242201,
          354527099470501,
          355510096293501,
          361536099464601,
          361714099315101,
          361739099323301,
          364821098144901,
          364831098120201,
          365143098404201,
          365229094520201
         ],
         "xaxis": "x",
         "y": [
          122,
          238,
          436,
          396,
          237,
          254,
          335,
          107,
          210,
          320,
          339,
          146,
          122,
          58,
          205,
          322,
          300,
          29.2,
          22.5,
          54,
          1490
         ],
         "yaxis": "y"
        },
        {
         "customdata": [
          [
           595
          ],
          [
           112.5
          ],
          [
           693
          ],
          [
           250
          ],
          [
           340
          ],
          [
           576
          ],
          [
           1370
          ],
          [
           618
          ],
          [
           488
          ],
          [
           540
          ],
          [
           1276
          ],
          [
           70
          ],
          [
           580
          ],
          [
           1384
          ],
          [
           760
          ],
          [
           593
          ],
          [
           29
          ],
          [
           33
          ],
          [
           150
          ],
          [
           308
          ],
          [
           162
          ],
          [
           223
          ],
          [
           262
          ],
          [
           695
          ],
          [
           930
          ],
          [
           20
          ],
          [
           70.5
          ],
          [
           120
          ],
          [
           385
          ],
          [
           127
          ],
          [
           3183
          ],
          [
           220
          ],
          [
           175
          ],
          [
           394
          ],
          [
           262
          ]
         ],
         "hovertemplate": "state=TN<br>Site ID=%{x}<br>Well Depth=%{y}<br>Hole Depth=%{customdata[0]}<extra></extra>",
         "legendgroup": "TN",
         "marker": {
          "color": "#00cc96",
          "size": [
           595,
           112.5,
           693,
           250,
           340,
           576,
           1370,
           618,
           488,
           540,
           1276,
           70,
           580,
           1384,
           760,
           593,
           29,
           33,
           150,
           308,
           162,
           223,
           262,
           695,
           930,
           20,
           70.5,
           120,
           385,
           127,
           3183,
           220,
           175,
           394,
           262
          ],
          "sizemode": "area",
          "sizeref": 11.0225,
          "symbol": "circle"
         },
         "mode": "markers",
         "name": "TN",
         "showlegend": true,
         "type": "scattergl",
         "x": [
          350002090054400,
          350034086422800,
          350124090072200,
          350234085181200,
          350406089444401,
          350432090015101,
          350658089560100,
          350724089555600,
          350735089593300,
          350810089430801,
          350811089430901,
          350857089591401,
          350900089482300,
          350910090015102,
          350914090010601,
          351100089523600,
          351102089582701,
          351113089583101,
          351115085025001,
          351146085122701,
          351248085131601,
          351249085110101,
          351428085003600,
          351435090005200,
          351439089572301,
          352042089523401,
          352042089523402,
          352042089523403,
          352226089330102,
          352515086011702,
          353839089493500,
          353922083345600,
          360521085432600,
          360543084343101,
          360835086441100
         ],
         "xaxis": "x",
         "y": [
          334,
          106.5,
          553,
          250,
          278,
          265,
          1282,
          499,
          488,
          540,
          1083,
          59,
          382,
          1381,
          742,
          319,
          null,
          null,
          150,
          308,
          162,
          223,
          262,
          434,
          529,
          18,
          69,
          115,
          370,
          127,
          879,
          220,
          175,
          394,
          262
         ],
         "yaxis": "y"
        },
        {
         "customdata": [
          [
           118
          ],
          [
           1770
          ],
          [
           131
          ],
          [
           1388
          ],
          [
           1330
          ],
          [
           130
          ],
          [
           850
          ],
          [
           264
          ],
          [
           65
          ],
          [
           81
          ],
          [
           1400
          ],
          [
           1002
          ],
          [
           910
          ],
          [
           1200
          ],
          [
           346
          ],
          [
           1605
          ],
          [
           304
          ],
          [
           803
          ],
          [
           118
          ],
          [
           344
          ],
          [
           696
          ],
          [
           145
          ],
          [
           1120
          ],
          [
           1475
          ],
          [
           780
          ],
          [
           1300
          ],
          [
           1160
          ],
          [
           1425
          ],
          [
           56
          ],
          [
           1150
          ],
          [
           688
          ],
          [
           1570
          ],
          [
           1252
          ],
          [
           75
          ],
          [
           804
          ],
          [
           624
          ],
          [
           204
          ],
          [
           1747
          ],
          [
           1221
          ],
          [
           1635
          ],
          [
           1015
          ],
          [
           685
          ],
          [
           1825
          ],
          [
           75
          ],
          [
           565
          ],
          [
           100
          ],
          [
           600
          ],
          [
           1401
          ],
          [
           481
          ],
          [
           626
          ],
          [
           1340
          ],
          [
           425
          ],
          [
           404
          ],
          [
           657
          ],
          [
           893
          ],
          [
           1800
          ],
          [
           575
          ],
          [
           270
          ],
          [
           981
          ],
          [
           170
          ],
          [
           590
          ],
          [
           1526
          ],
          [
           265
          ],
          [
           355
          ],
          [
           200
          ],
          [
           310
          ],
          [
           405
          ],
          [
           640
          ],
          [
           83.5
          ],
          [
           325
          ],
          [
           495
          ],
          [
           298
          ],
          [
           985
          ],
          [
           910
          ],
          [
           1100
          ],
          [
           650
          ],
          [
           450
          ],
          [
           800
          ],
          [
           1100
          ],
          [
           875
          ],
          [
           255
          ],
          [
           1500
          ],
          [
           800
          ],
          [
           830
          ],
          [
           625
          ],
          [
           935
          ],
          [
           810
          ],
          [
           1084
          ],
          [
           151
          ],
          [
           1406
          ],
          [
           255
          ],
          [
           503
          ],
          [
           400
          ],
          [
           246
          ],
          [
           1080
          ],
          [
           820
          ],
          [
           475
          ],
          [
           445
          ],
          [
           95
          ],
          [
           540
          ],
          [
           1075
          ],
          [
           201
          ],
          [
           750
          ],
          [
           330
          ],
          [
           80.06
          ],
          [
           456
          ],
          [
           1001
          ],
          [
           840
          ],
          [
           705
          ],
          [
           860
          ],
          [
           1410
          ],
          [
           1337
          ],
          [
           104
          ],
          [
           1190
          ],
          [
           1030
          ],
          [
           405
          ],
          [
           1353
          ],
          [
           1470
          ],
          [
           813
          ],
          [
           70
          ],
          [
           875
          ],
          [
           230
          ],
          [
           1045
          ],
          [
           110
          ],
          [
           610
          ],
          [
           121
          ],
          [
           1650
          ],
          [
           136.5
          ],
          [
           35.6
          ],
          [
           700
          ],
          [
           71
          ],
          [
           650
          ],
          [
           260
          ],
          [
           105
          ],
          [
           83
          ],
          [
           52
          ],
          [
           82
          ],
          [
           82
          ],
          [
           65
          ],
          [
           85
          ],
          [
           38.7
          ],
          [
           92
          ],
          [
           43
          ],
          [
           166
          ],
          [
           300
          ],
          [
           140
          ],
          [
           86
          ],
          [
           150
          ],
          [
           43
          ],
          [
           41
          ],
          [
           28
          ],
          [
           27
          ],
          [
           320
          ]
         ],
         "hovertemplate": "state=MO<br>Site ID=%{x}<br>Well Depth=%{y}<br>Hole Depth=%{customdata[0]}<extra></extra>",
         "legendgroup": "MO",
         "marker": {
          "color": "#ab63fa",
          "size": [
           118,
           1770,
           131,
           1388,
           1330,
           130,
           850,
           264,
           65,
           81,
           1400,
           1002,
           910,
           1200,
           346,
           1605,
           304,
           803,
           118,
           344,
           696,
           145,
           1120,
           1475,
           780,
           1300,
           1160,
           1425,
           56,
           1150,
           688,
           1570,
           1252,
           75,
           804,
           624,
           204,
           1747,
           1221,
           1635,
           1015,
           685,
           1825,
           75,
           565,
           100,
           600,
           1401,
           481,
           626,
           1340,
           425,
           404,
           657,
           893,
           1800,
           575,
           270,
           981,
           170,
           590,
           1526,
           265,
           355,
           200,
           310,
           405,
           640,
           83.5,
           325,
           495,
           298,
           985,
           910,
           1100,
           650,
           450,
           800,
           1100,
           875,
           255,
           1500,
           800,
           830,
           625,
           935,
           810,
           1084,
           151,
           1406,
           255,
           503,
           400,
           246,
           1080,
           820,
           475,
           445,
           95,
           540,
           1075,
           201,
           750,
           330,
           80.06,
           456,
           1001,
           840,
           705,
           860,
           1410,
           1337,
           104,
           1190,
           1030,
           405,
           1353,
           1470,
           813,
           70,
           875,
           230,
           1045,
           110,
           610,
           121,
           1650,
           136.5,
           35.6,
           700,
           71,
           650,
           260,
           105,
           83,
           52,
           82,
           82,
           65,
           85,
           38.7,
           92,
           43,
           166,
           300,
           140,
           86,
           150,
           43,
           41,
           28,
           27,
           320
          ],
          "sizemode": "area",
          "sizeref": 11.0225,
          "symbol": "circle"
         },
         "mode": "markers",
         "name": "MO",
         "showlegend": true,
         "type": "scattergl",
         "x": [
          360252090173201,
          360252090173202,
          360425089485001,
          361145089394101,
          362718089552301,
          362955089581801,
          363236094290301,
          363436092391001,
          363442090364301,
          363551090152801,
          363728093150401,
          363855093134701,
          364006093200301,
          364059093520001,
          364313094121101,
          364324091515001,
          364453093543601,
          364453093543602,
          364643089212301,
          364818094185301,
          364818094185302,
          365319089331001,
          365415093342301,
          365451093555501,
          365559092030001,
          365602092395101,
          365644094001301,
          365645093431601,
          365654091001301,
          365949091421401,
          370005093122401,
          370224094320201,
          370236093174401,
          370248090042601,
          370354093325901,
          370539093494001,
          370539093494002,
          370600094223501,
          370624092244701,
          370655093035301,
          370828094274101,
          370907093144101,
          371036094171301,
          371125089445301,
          371435093134701,
          371548093144701,
          371548093144702,
          371558093181901,
          371800092094801,
          371801093260401,
          372022092542201,
          372153091322301,
          372202094370201,
          372202094370202,
          372338094052801,
          372521089362401,
          372715090510701,
          372853091061801,
          372958094161001,
          373056091063801,
          373210090180601,
          373559090082901,
          373620093470301,
          373653091330101,
          373701093151601,
          373905091071001,
          373906092385201,
          373955091065901,
          374254094524501,
          374515090255601,
          374649090242601,
          375259093181401,
          375306090125301,
          375429092300701,
          375617090465401,
          375625091480401,
          375749091475001,
          375907091432201,
          380038092442701,
          380229093464701,
          380322091142601,
          380501090335501,
          380545094213501,
          380717092395401,
          380900091153901,
          381045091564801,
          381217091104501,
          381405090260301,
          381641093214601,
          381652093215501,
          382100090592801,
          382726093121601,
          382745091275701,
          382748093595101,
          382836091502301,
          383031090384101,
          383226092054001,
          383302090420201,
          383550092094201,
          383628090411901,
          383644091124901,
          383906090511401,
          383929092464901,
          384147093101901,
          384258091243001,
          384455093201001,
          384534093431101,
          384545093331601,
          384713091474301,
          384737090372001,
          384832093192501,
          384846090510301,
          384849090092001,
          384917091594401,
          385428091265001,
          385432091343201,
          385718092234201,
          385837090594701,
          385845090583801,
          385853092592801,
          390150090542801,
          390207092570801,
          390651092125101,
          390750093233401,
          390945091494001,
          390945094234001,
          391149092072901,
          391222093185501,
          391236094170201,
          391825091285101,
          392045093302401,
          392147090541901,
          392321092153901,
          392336094550403,
          393218095032601,
          393544093075601,
          394013093400201,
          394156092030201,
          394201093181101,
          395043091262601,
          395355095051601,
          400105093591601,
          400251094485901,
          400458093582001,
          401057091494501,
          401444093442001,
          401920092130301,
          402356091344001,
          402657093470201,
          403055094364701,
          403301094492301,
          403452092292901,
          403501091420401
         ],
         "xaxis": "x",
         "y": [
          118,
          1641,
          131,
          1388,
          1330,
          130,
          850,
          264,
          65,
          81,
          1400,
          1002,
          910,
          1200,
          346,
          1605,
          304,
          803,
          118,
          344,
          696,
          145,
          1120,
          1475,
          780,
          1300,
          1160,
          1425,
          56,
          1150,
          688,
          1570,
          1252,
          75,
          804,
          624,
          204,
          1747,
          1221,
          1635,
          1015,
          685,
          1825,
          75,
          565,
          100,
          600,
          1401,
          481,
          626,
          1340,
          425,
          404,
          657,
          893,
          1800,
          575,
          270,
          981,
          170,
          590,
          1526,
          265,
          355,
          200,
          310,
          405,
          640,
          75,
          325,
          495,
          298,
          985,
          910,
          1100,
          650,
          450,
          800,
          1100,
          875,
          255,
          1500,
          800,
          830,
          625,
          935,
          810,
          1084,
          151,
          1406,
          255,
          503,
          400,
          246,
          1080,
          820,
          475,
          445,
          95,
          540,
          1075,
          201,
          750,
          330,
          80.06,
          456,
          1001,
          840,
          705,
          860,
          1410,
          1337,
          104,
          1190,
          1030,
          405,
          1353,
          1470,
          813,
          70,
          875,
          230,
          1045,
          110,
          610,
          121,
          1650,
          136.5,
          35.6,
          700,
          71,
          650,
          260,
          105,
          83,
          52,
          82,
          82,
          65,
          85,
          38.7,
          92,
          43,
          166,
          300,
          140,
          86,
          150,
          43,
          41,
          28,
          27,
          175
         ],
         "yaxis": "y"
        },
        {
         "customdata": [
          [
           355
          ],
          [
           1230
          ],
          [
           1000
          ],
          [
           650
          ],
          [
           1300
          ],
          [
           650
          ],
          [
           818
          ],
          [
           248
          ],
          [
           807
          ],
          [
           920
          ],
          [
           482
          ],
          [
           1298
          ],
          [
           478
          ],
          [
           669
          ],
          [
           4148
          ],
          [
           2936
          ],
          [
           2823
          ],
          [
           3300
          ],
          [
           1215
          ],
          [
           1010
          ],
          [
           2395
          ],
          [
           1837
          ],
          [
           2447
          ],
          [
           122
          ],
          [
           155
          ]
         ],
         "hovertemplate": "state=NV<br>Site ID=%{x}<br>Well Depth=%{y}<br>Hole Depth=%{customdata[0]}<extra></extra>",
         "legendgroup": "NV",
         "marker": {
          "color": "#FFA15A",
          "size": [
           355,
           1230,
           1000,
           650,
           1300,
           650,
           818,
           248,
           807,
           920,
           482,
           1298,
           478,
           669,
           4148,
           2936,
           2823,
           3300,
           1215,
           1010,
           2395,
           1837,
           2447,
           122,
           155
          ],
          "sizemode": "area",
          "sizeref": 11.0225,
          "symbol": "circle"
         },
         "mode": "markers",
         "name": "NV",
         "showlegend": true,
         "type": "scattergl",
         "x": [
          360349115100001,
          361232115061001,
          361400115040901,
          361456115111001,
          361626115090701,
          361704115121901,
          362417116163600,
          362529116171100,
          363213116133800,
          363308114553001,
          363503115385701,
          364528116232201,
          364650114432001,
          364743114533101,
          371151116294104,
          371247116284502,
          371312116283801,
          371425116251902,
          372639114520901,
          374215114453101,
          380531114534201,
          380758115204601,
          385521114503601,
          393310114475001,
          404901118223601
         ],
         "xaxis": "x",
         "y": [
          355,
          1230,
          1000,
          650,
          1300,
          650,
          586,
          200,
          678,
          920,
          447,
          1138,
          478,
          669,
          2991,
          2920,
          2374,
          2834,
          1195,
          1000,
          2395,
          1837,
          948,
          122,
          152
         ],
         "yaxis": "y"
        },
        {
         "customdata": [
          [
           15
          ],
          [
           500
          ],
          [
           261
          ],
          [
           500
          ],
          [
           441
          ],
          [
           699
          ],
          [
           365
          ],
          [
           590
          ],
          [
           488
          ],
          [
           680
          ],
          [
           41
          ],
          [
           440
          ],
          [
           250
          ],
          [
           300
          ],
          [
           189
          ],
          [
           200
          ],
          [
           310
          ]
         ],
         "hovertemplate": "state=MD<br>Site ID=%{x}<br>Well Depth=%{y}<br>Hole Depth=%{customdata[0]}<extra></extra>",
         "legendgroup": "MD",
         "marker": {
          "color": "#19d3f3",
          "size": [
           15,
           500,
           261,
           500,
           441,
           699,
           365,
           590,
           488,
           680,
           41,
           440,
           250,
           300,
           189,
           200,
           310
          ],
          "sizemode": "area",
          "sizeref": 11.0225,
          "symbol": "circle"
         },
         "mode": "markers",
         "name": "MD",
         "showlegend": true,
         "type": "scattergl",
         "x": [
          380616075380701,
          381956076275301,
          382038075065901,
          382215075041903,
          382325075063302,
          382407076260301,
          382443075033501,
          382549076260101,
          382635075030603,
          383239076354201,
          383746076482901,
          384333076394701,
          392045076512501,
          392931076410301,
          393733077274801,
          393851077343001,
          394008077005601
         ],
         "xaxis": "x",
         "y": [
          15,
          494,
          243,
          500,
          420,
          698,
          353,
          590,
          478,
          570,
          24.5,
          320,
          250,
          300,
          189,
          200,
          310
         ],
         "yaxis": "y"
        },
        {
         "customdata": [
          [
           70
          ],
          [
           122
          ],
          [
           93
          ],
          [
           145
          ],
          [
           53
          ],
          [
           200
          ],
          [
           137.5
          ],
          [
           180
          ],
          [
           115
          ],
          [
           47.3
          ],
          [
           70
          ],
          [
           64
          ],
          [
           155
          ],
          [
           70
          ],
          [
           150
          ],
          [
           85
          ],
          [
           49
          ],
          [
           111
          ],
          [
           180
          ],
          [
           91
          ],
          [
           54
          ],
          [
           214
          ],
          [
           64
          ],
          [
           310
          ],
          [
           130
          ],
          [
           218
          ],
          [
           120
          ],
          [
           79
          ],
          [
           80
          ],
          [
           102
          ],
          [
           150
          ],
          [
           150
          ],
          [
           193
          ],
          [
           150
          ],
          [
           45
          ],
          [
           105
          ],
          [
           130
          ],
          [
           150
          ],
          [
           84
          ],
          [
           82
          ],
          [
           190
          ],
          [
           63
          ],
          [
           159
          ],
          [
           62
          ],
          [
           104
          ],
          [
           83
          ],
          [
           25
          ],
          [
           86
          ]
         ],
         "hovertemplate": "state=IN<br>Site ID=%{x}<br>Well Depth=%{y}<br>Hole Depth=%{customdata[0]}<extra></extra>",
         "legendgroup": "IN",
         "marker": {
          "color": "#FF6692",
          "size": [
           70,
           122,
           93,
           145,
           53,
           200,
           137.5,
           180,
           115,
           47.3,
           70,
           64,
           155,
           70,
           150,
           85,
           49,
           111,
           180,
           91,
           54,
           214,
           64,
           310,
           130,
           218,
           120,
           79,
           80,
           102,
           150,
           150,
           193,
           150,
           45,
           105,
           130,
           150,
           84,
           82,
           190,
           63,
           159,
           62,
           104,
           83,
           25,
           86
          ],
          "sizemode": "area",
          "sizeref": 11.0225,
          "symbol": "circle"
         },
         "mode": "markers",
         "name": "IN",
         "showlegend": true,
         "type": "scattergl",
         "x": [
          380626087344401,
          382156085382401,
          382323086044501,
          383012086124501,
          383247087361001,
          384949085251901,
          384951087202501,
          385601085365701,
          391035085560401,
          392022085371801,
          392820087242601,
          393423086161001,
          393619087043001,
          393855086120701,
          393943085490901,
          394025086400801,
          394426085080601,
          400247086482101,
          400532086183901,
          400541085213701,
          401532085085301,
          402734087033401,
          402734087033402,
          402851087213501,
          403407086175701,
          403836085374401,
          403948085414601,
          404331085064701,
          405105087173301,
          405829086175801,
          405902087141501,
          405959087282901,
          410337085264201,
          410428087231501,
          410428087231502,
          410739086365201,
          410809087580801,
          410917087285801,
          410932084561101,
          411038087284701,
          411922085221801,
          412350086512801,
          413106085232701,
          413121085481301,
          413139086341401,
          413434086434701,
          413559087270301,
          414318085200601
         ],
         "xaxis": "x",
         "y": [
          70,
          100.65,
          93,
          142.53,
          53,
          200,
          137,
          180,
          111,
          47.3,
          70,
          64,
          155,
          66,
          150,
          85,
          49,
          111,
          171.8,
          91,
          54,
          212.54,
          64,
          310,
          130,
          198.02,
          117.87,
          79,
          80,
          102,
          150,
          150,
          191,
          150,
          45,
          105,
          130,
          150,
          84,
          82,
          149,
          32,
          44,
          62,
          104,
          77,
          23,
          86
         ],
         "yaxis": "y"
        },
        {
         "customdata": [
          [
           90
          ],
          [
           160
          ],
          [
           28
          ],
          [
           120
          ],
          [
           40
          ],
          [
           250
          ]
         ],
         "hovertemplate": "state=CO<br>Site ID=%{x}<br>Well Depth=%{y}<br>Hole Depth=%{customdata[0]}<extra></extra>",
         "legendgroup": "CO",
         "marker": {
          "color": "#B6E880",
          "size": [
           90,
           160,
           28,
           120,
           40,
           250
          ],
          "sizemode": "area",
          "sizeref": 11.0225,
          "symbol": "circle"
         },
         "mode": "markers",
         "name": "CO",
         "showlegend": true,
         "type": "scattergl",
         "x": [
          382323104200701,
          391730102422000,
          393902103554000,
          393902103554001,
          393902103554003,
          395136108210004
         ],
         "xaxis": "x",
         "y": [
          90,
          160,
          27.5,
          59.94,
          30,
          249.5
         ],
         "yaxis": "y"
        },
        {
         "customdata": [
          [
           20
          ]
         ],
         "hovertemplate": "state=DE<br>Site ID=%{x}<br>Well Depth=%{y}<br>Hole Depth=%{customdata[0]}<extra></extra>",
         "legendgroup": "DE",
         "marker": {
          "color": "#FF97FF",
          "size": [
           20
          ],
          "sizemode": "area",
          "sizeref": 11.0225,
          "symbol": "circle"
         },
         "mode": "markers",
         "name": "DE",
         "showlegend": true,
         "type": "scattergl",
         "x": [
          385041075395602
         ],
         "xaxis": "x",
         "y": [
          20
         ],
         "yaxis": "y"
        },
        {
         "customdata": [
          [
           277
          ]
         ],
         "hovertemplate": "state=DC<br>Site ID=%{x}<br>Well Depth=%{y}<br>Hole Depth=%{customdata[0]}<extra></extra>",
         "legendgroup": "DC",
         "marker": {
          "color": "#FECB52",
          "size": [
           277
          ],
          "sizemode": "area",
          "sizeref": 11.0225,
          "symbol": "circle"
         },
         "mode": "markers",
         "name": "DC",
         "showlegend": true,
         "type": "scattergl",
         "x": [
          385252076572801
         ],
         "xaxis": "x",
         "y": [
          265
         ],
         "yaxis": "y"
        },
        {
         "customdata": [
          [
           903
          ],
          [
           520
          ],
          [
           995
          ],
          [
           69
          ],
          [
           783
          ],
          [
           11
          ],
          [
           24
          ],
          [
           1001
          ],
          [
           1053
          ],
          [
           840
          ],
          [
           71
          ],
          [
           1002
          ],
          [
           1135
          ],
          [
           1012
          ],
          [
           608
          ],
          [
           98
          ],
          [
           275
          ],
          [
           15
          ],
          [
           350
          ],
          [
           2090
          ],
          [
           849
          ],
          [
           540
          ],
          [
           36
          ],
          [
           33
          ],
          [
           430
          ],
          [
           79
          ],
          [
           545
          ],
          [
           871
          ],
          [
           360
          ],
          [
           383
          ],
          [
           162
          ],
          [
           65
          ],
          [
           1779.5
          ],
          [
           780
          ],
          [
           20
          ],
          [
           2297
          ],
          [
           230
          ],
          [
           1016
          ],
          [
           635
          ],
          [
           190
          ],
          [
           14
          ],
          [
           75
          ],
          [
           55
          ],
          [
           25
          ],
          [
           38
          ],
          [
           270
          ],
          [
           988
          ],
          [
           715
          ],
          [
           1670
          ],
          [
           102
          ],
          [
           332
          ],
          [
           512
          ],
          [
           913
          ],
          [
           18.5
          ],
          [
           300
          ],
          [
           200
          ],
          [
           225
          ],
          [
           130
          ],
          [
           11
          ],
          [
           299
          ],
          [
           310
          ],
          [
           400
          ],
          [
           40
          ],
          [
           200
          ],
          [
           36
          ],
          [
           42
          ],
          [
           175
          ],
          [
           101
          ],
          [
           12
          ],
          [
           380
          ],
          [
           90
          ],
          [
           225
          ],
          [
           200
          ],
          [
           191
          ],
          [
           115
          ],
          [
           505
          ],
          [
           100
          ],
          [
           294
          ],
          [
           500
          ],
          [
           175
          ],
          [
           154
          ],
          [
           144
          ],
          [
           150
          ],
          [
           110
          ],
          [
           95
          ],
          [
           61
          ]
         ],
         "hovertemplate": "state=NJ<br>Site ID=%{x}<br>Well Depth=%{y}<br>Hole Depth=%{customdata[0]}<extra></extra>",
         "legendgroup": "NJ",
         "marker": {
          "color": "#636efa",
          "size": [
           903,
           520,
           995,
           69,
           783,
           11,
           24,
           1001,
           1053,
           840,
           71,
           1002,
           1135,
           1012,
           608,
           98,
           275,
           15,
           350,
           2090,
           849,
           540,
           36,
           33,
           430,
           79,
           545,
           871,
           360,
           383,
           162,
           65,
           1779.5,
           780,
           20,
           2297,
           230,
           1016,
           635,
           190,
           14,
           75,
           55,
           25,
           38,
           270,
           988,
           715,
           1670,
           102,
           332,
           512,
           913,
           18.5,
           300,
           200,
           225,
           130,
           11,
           299,
           310,
           400,
           40,
           200,
           36,
           42,
           175,
           101,
           12,
           380,
           90,
           225,
           200,
           191,
           115,
           505,
           100,
           294,
           500,
           175,
           154,
           144,
           150,
           110,
           95,
           61
          ],
          "sizemode": "area",
          "sizeref": 11.0225,
          "symbol": "circle"
         },
         "mode": "markers",
         "name": "NJ",
         "showlegend": true,
         "type": "scattergl",
         "x": [
          385709074512801,
          390002074541002,
          390012074472001,
          390156074533401,
          390422074544701,
          391145074520401,
          391621074435401,
          391827074371001,
          392017074300201,
          392032074300801,
          392232074234403,
          392754074270101,
          393055075083501,
          393115074191001,
          393232074263901,
          393232074263903,
          393333074442401,
          393749074550901,
          394119075062701,
          394215074561701,
          394215074561702,
          394215074561703,
          394221075072201,
          394256075101001,
          394336074161201,
          394354075025901,
          394652075100401,
          394652075100402,
          394800074524601,
          394808075172401,
          394808075172402,
          394808075172404,
          394904074253601,
          394922074563302,
          395034074112101,
          395122074301701,
          395206075111801,
          395309074352101,
          395309074352102,
          395315074494601,
          395928074502701,
          400120074265401,
          400148074352001,
          400148074352101,
          400232074213201,
          400416074270103,
          400711074020201,
          400832074082101,
          401105074120201,
          401105074120202,
          401105074120203,
          401105074120204,
          401105074120205,
          401229074290001,
          401753074483501,
          401804074432601,
          401834074515501,
          402109074301302,
          402143074185201,
          402151074525301,
          402350073583901,
          402426074001901,
          402512074414301,
          403119074290301,
          403200074420601,
          403300074202901,
          403455074514801,
          403517074452501,
          403719075091801,
          404014074585401,
          404455074203202,
          404712074454701,
          404934074400501,
          405414074354201,
          405531074361901,
          405535074073701,
          405613074430901,
          405808074583001,
          410005074473801,
          410155074060201,
          410207074270001,
          410431074395801,
          410449074483301,
          410804074424401,
          410914074540401,
          410928074522801
         ],
         "xaxis": "x",
         "y": [
          903,
          510,
          965,
          43,
          709,
          11,
          22.5,
          680,
          997.4,
          755,
          71,
          570,
          1025,
          880,
          575,
          93,
          275,
          15,
          338,
          1505,
          849,
          530,
          36,
          33,
          415,
          54,
          313,
          777.2,
          355,
          295,
          155,
          56,
          1441,
          717,
          20,
          2117,
          221,
          920,
          635,
          180,
          14,
          75,
          55,
          20,
          38,
          267,
          614,
          633,
          1360.5,
          100.2,
          323.7,
          499,
          907.2,
          18.5,
          300,
          200,
          225,
          104,
          11,
          299,
          278,
          360,
          40,
          200,
          36,
          34.2,
          175,
          101,
          12,
          380,
          84,
          118,
          200,
          100,
          98,
          505,
          100,
          294,
          500,
          175,
          120,
          143,
          148,
          80,
          95,
          55
         ],
         "yaxis": "y"
        },
        {
         "customdata": [
          [
           28
          ],
          [
           85
          ],
          [
           36.5
          ],
          [
           28.7
          ],
          [
           18.9
          ],
          [
           17.5
          ],
          [
           18.7
          ]
         ],
         "hovertemplate": "state=OH<br>Site ID=%{x}<br>Well Depth=%{y}<br>Hole Depth=%{customdata[0]}<extra></extra>",
         "legendgroup": "OH",
         "marker": {
          "color": "#EF553B",
          "size": [
           28,
           85,
           36.5,
           28.7,
           18.9,
           17.5,
           18.7
          ],
          "sizemode": "area",
          "sizeref": 11.0225,
          "symbol": "circle"
         },
         "mode": "markers",
         "name": "OH",
         "showlegend": true,
         "type": "scattergl",
         "x": [
          393541083001100,
          395058083002400,
          395131082592400,
          400949083480100,
          403923082325500,
          411138081172500,
          413547083481500
         ],
         "xaxis": "x",
         "y": [
          28,
          85,
          36.5,
          28.7,
          18.9,
          17.5,
          18.7
         ],
         "yaxis": "y"
        },
        {
         "customdata": [
          [
           234
          ],
          [
           104
          ],
          [
           122
          ],
          [
           202
          ],
          [
           110
          ],
          [
           100
          ],
          [
           44.1
          ],
          [
           150
          ],
          [
           18.6
          ],
          [
           160
          ],
          [
           400
          ],
          [
           225
          ],
          [
           141
          ],
          [
           150
          ],
          [
           385
          ],
          [
           129.5
          ],
          [
           150
          ],
          [
           142
          ],
          [
           101
          ],
          [
           100
          ],
          [
           200
          ],
          [
           156
          ],
          [
           130
          ],
          [
           345
          ],
          [
           242
          ],
          [
           218
          ],
          [
           140
          ],
          [
           152.5
          ],
          [
           115
          ],
          [
           125
          ],
          [
           350
          ],
          [
           150
          ],
          [
           241
          ],
          [
           203
          ],
          [
           98
          ],
          [
           78
          ],
          [
           154
          ],
          [
           150
          ],
          [
           130
          ],
          [
           200
          ],
          [
           340
          ],
          [
           102
          ],
          [
           120
          ],
          [
           110
          ],
          [
           122.25
          ],
          [
           51
          ],
          [
           202
          ],
          [
           100
          ],
          [
           117
          ],
          [
           58
          ],
          [
           78
          ],
          [
           110
          ],
          [
           175
          ],
          [
           82
          ]
         ],
         "hovertemplate": "state=PA<br>Site ID=%{x}<br>Well Depth=%{y}<br>Hole Depth=%{customdata[0]}<extra></extra>",
         "legendgroup": "PA",
         "marker": {
          "color": "#00cc96",
          "size": [
           234,
           104,
           122,
           202,
           110,
           100,
           44.1,
           150,
           18.6,
           160,
           400,
           225,
           141,
           150,
           385,
           129.5,
           150,
           142,
           101,
           100,
           200,
           156,
           130,
           345,
           242,
           218,
           140,
           152.5,
           115,
           125,
           350,
           150,
           241,
           203,
           98,
           78,
           154,
           150,
           130,
           200,
           340,
           102,
           120,
           110,
           122.25,
           51,
           202,
           100,
           117,
           58,
           78,
           110,
           175,
           82
          ],
          "sizemode": "area",
          "sizeref": 11.0225,
          "symbol": "circle"
         },
         "mode": "markers",
         "name": "PA",
         "showlegend": true,
         "type": "scattergl",
         "x": [
          394430077225001,
          394655080014301,
          394755078135001,
          395322077365301,
          395342075102101,
          395846077040601,
          400209077183301,
          400217078281901,
          400229075104601,
          400233080261301,
          401157075032001,
          402118076462201,
          402255076422001,
          402452078271301,
          402615075530501,
          402643075150501,
          402735077100901,
          402750078452201,
          403006080252301,
          403734080063001,
          404140077354001,
          404239076362001,
          404518077575501,
          404556077525101,
          404708076070701,
          404745075184001,
          405320078483901,
          405344079380201,
          405928077115501,
          410123075425401,
          410538080280801,
          410627078313601,
          410705076334901,
          410727076402901,
          411223075234901,
          411424077462201,
          411734078522101,
          411833075133601,
          412020079133901,
          412427076594401,
          412458078324601,
          412732078034201,
          412739080104201,
          412823079030601,
          412826076083301,
          413026076352901,
          413346075421301,
          413542080245002,
          414330076280501,
          414333075153201,
          414513077333701,
          414640077493801,
          415323077451301,
          415607080044601
         ],
         "xaxis": "x",
         "y": [
          234,
          104,
          122,
          202,
          100,
          99.5,
          44,
          150,
          18.6,
          133,
          395,
          225,
          141,
          150,
          318,
          116,
          150,
          142,
          101,
          100,
          200,
          156,
          130,
          345,
          242,
          218,
          140,
          152.5,
          115,
          125,
          150,
          150,
          241,
          203,
          98,
          75,
          152,
          150,
          130,
          200,
          340,
          102,
          120,
          110,
          122,
          50,
          202,
          100,
          115,
          52,
          78,
          110,
          175,
          82
         ],
         "yaxis": "y"
        },
        {
         "customdata": [
          [
           257
          ],
          [
           260
          ],
          [
           293
          ]
         ],
         "hovertemplate": "state=NE<br>Site ID=%{x}<br>Well Depth=%{y}<br>Hole Depth=%{customdata[0]}<extra></extra>",
         "legendgroup": "NE",
         "marker": {
          "color": "#ab63fa",
          "size": [
           257,
           260,
           293
          ],
          "sizemode": "area",
          "sizeref": 11.0225,
          "symbol": "circle"
         },
         "mode": "markers",
         "name": "NE",
         "showlegend": true,
         "type": "scattergl",
         "x": [
          401416099270601,
          403223096360601,
          403400096435501
         ],
         "xaxis": "x",
         "y": [
          257,
          260,
          293
         ],
         "yaxis": "y"
        },
        {
         "customdata": [
          [
           23.5
          ],
          [
           40
          ],
          [
           51
          ],
          [
           42.5
          ],
          [
           23.4
          ]
         ],
         "hovertemplate": "state=IA<br>Site ID=%{x}<br>Well Depth=%{y}<br>Hole Depth=%{customdata[0]}<extra></extra>",
         "legendgroup": "IA",
         "marker": {
          "color": "#FFA15A",
          "size": [
           23.5,
           40,
           51,
           42.5,
           23.4
          ],
          "sizemode": "area",
          "sizeref": 11.0225,
          "symbol": "circle"
         },
         "mode": "markers",
         "name": "IA",
         "showlegend": true,
         "type": "scattergl",
         "x": [
          405451091483301,
          410057095075101,
          415501096081201,
          420014091442701,
          430203091501201
         ],
         "xaxis": "x",
         "y": [
          23,
          40,
          45,
          42.5,
          23
         ],
         "yaxis": "y"
        },
        {
         "customdata": [
          [
           840
          ],
          [
           135
          ],
          [
           125
          ],
          [
           60
          ],
          [
           60.23
          ],
          [
           95
          ],
          [
           65
          ],
          [
           60
          ],
          [
           60.36
          ],
          [
           70
          ]
         ],
         "hovertemplate": "state=WY<br>Site ID=%{x}<br>Well Depth=%{y}<br>Hole Depth=%{customdata[0]}<extra></extra>",
         "legendgroup": "WY",
         "marker": {
          "color": "#19d3f3",
          "size": [
           840,
           135,
           125,
           60,
           60.23,
           95,
           65,
           60,
           60.36,
           70
          ],
          "sizemode": "area",
          "sizeref": 11.0225,
          "symbol": "circle"
         },
         "mode": "markers",
         "name": "WY",
         "showlegend": true,
         "type": "scattergl",
         "x": [
          410233104093201,
          410233104093203,
          410508105003801,
          433551110443501,
          433603110443501,
          433604110443402,
          433604110443403,
          433613110443501,
          433615110440001,
          433641110441501
         ],
         "xaxis": "x",
         "y": [
          837,
          132.1,
          122.38,
          59.45,
          60.23,
          94.45,
          64,
          59,
          60.36,
          70
         ],
         "yaxis": "y"
        },
        {
         "customdata": [
          [
           350
          ],
          [
           23.5
          ],
          [
           82
          ],
          [
           16.6
          ],
          [
           26
          ],
          [
           22
          ],
          [
           444
          ]
         ],
         "hovertemplate": "state=CT<br>Site ID=%{x}<br>Well Depth=%{y}<br>Hole Depth=%{customdata[0]}<extra></extra>",
         "legendgroup": "CT",
         "marker": {
          "color": "#FF6692",
          "size": [
           350,
           23.5,
           82,
           16.6,
           26,
           22,
           444
          ],
          "sizemode": "area",
          "sizeref": 11.0225,
          "symbol": "circle"
         },
         "mode": "markers",
         "name": "CT",
         "showlegend": true,
         "type": "scattergl",
         "x": [
          410628073413301,
          412825072410501,
          412916073121701,
          413535072253701,
          414240072033201,
          414741072134501,
          414831072173002
         ],
         "xaxis": "x",
         "y": [
          350,
          22.5,
          82,
          16.5,
          26,
          22,
          444
         ],
         "yaxis": "y"
        },
        {
         "customdata": [
          [
           153
          ],
          [
           24
          ],
          [
           60.1
          ],
          [
           655
          ],
          [
           33.5
          ],
          [
           15
          ],
          [
           50
          ],
          [
           28
          ],
          [
           220
          ],
          [
           40
          ],
          [
           128
          ],
          [
           42.3
          ],
          [
           33
          ],
          [
           59
          ],
          [
           34.1
          ],
          [
           96
          ],
          [
           252
          ],
          [
           55
          ],
          [
           14
          ],
          [
           147.5
          ],
          [
           360
          ],
          [
           170
          ],
          [
           17.4
          ],
          [
           29.7
          ],
          [
           350
          ],
          [
           27
          ],
          [
           99
          ],
          [
           19.54
          ],
          [
           19.85
          ],
          [
           80.4
          ],
          [
           21
          ],
          [
           37.2
          ],
          [
           148
          ],
          [
           15
          ],
          [
           34
          ],
          [
           46
          ],
          [
           3.5
          ],
          [
           30
          ],
          [
           25
          ],
          [
           17
          ],
          [
           44
          ],
          [
           50.4
          ],
          [
           31.5
          ],
          [
           20
          ],
          [
           33.8
          ],
          [
           31.5
          ],
          [
           139
          ],
          [
           170
          ],
          [
           17
          ],
          [
           103.2
          ],
          [
           74.6
          ],
          [
           220
          ],
          [
           220
          ],
          [
           28.8
          ],
          [
           304
          ],
          [
           198
          ],
          [
           14.9
          ],
          [
           16
          ],
          [
           54.2
          ],
          [
           25
          ],
          [
           35.4
          ],
          [
           58
          ],
          [
           19
          ],
          [
           35.5
          ],
          [
           31
          ],
          [
           231
          ],
          [
           26.9
          ],
          [
           45.5
          ],
          [
           45
          ],
          [
           23
          ],
          [
           300
          ],
          [
           12
          ],
          [
           80
          ],
          [
           42
          ],
          [
           117
          ],
          [
           6
          ]
         ],
         "hovertemplate": "state=NY<br>Site ID=%{x}<br>Well Depth=%{y}<br>Hole Depth=%{customdata[0]}<extra></extra>",
         "legendgroup": "NY",
         "marker": {
          "color": "#B6E880",
          "size": [
           153,
           24,
           60.1,
           655,
           33.5,
           15,
           50,
           28,
           220,
           40,
           128,
           42.3,
           33,
           59,
           34.1,
           96,
           252,
           55,
           14,
           147.5,
           360,
           170,
           17.4,
           29.7,
           350,
           27,
           99,
           19.54,
           19.85,
           80.4,
           21,
           37.2,
           148,
           15,
           34,
           46,
           3.5,
           30,
           25,
           17,
           44,
           50.4,
           31.5,
           20,
           33.8,
           31.5,
           139,
           170,
           17,
           103.2,
           74.6,
           220,
           220,
           28.8,
           304,
           198,
           14.9,
           16,
           54.2,
           25,
           35.4,
           58,
           19,
           35.5,
           31,
           231,
           26.9,
           45.5,
           45,
           23,
           300,
           12,
           80,
           42,
           117,
           6
          ],
          "sizemode": "area",
          "sizeref": 11.0225,
          "symbol": "circle"
         },
         "mode": "markers",
         "name": "NY",
         "showlegend": true,
         "type": "scattergl",
         "x": [
          410853073554001,
          411421073481202,
          411802073593001,
          412149073445601,
          412637074362301,
          412714073331301,
          413428074085701,
          414128073475201,
          414429074052001,
          414525074360601,
          414737073563301,
          414948074035001,
          420326079295801,
          420530078445201,
          420829076484801,
          421138075511301,
          421157075535401,
          421213076313301,
          421556075281602,
          421948074483702,
          422241073274601,
          422323076190301,
          422445077203301,
          422622073410901,
          422702079005101,
          422710076462901,
          422902076475801,
          423143076582601,
          423530074191701,
          423534073423401,
          423743078070802,
          423827076035901,
          424017074301501,
          424136075025101,
          424158076251901,
          424311073423901,
          424347076530201,
          424452076081902,
          424859073585501,
          425048073472501,
          425448076350002,
          425511074254001,
          425704078360601,
          425803077151201,
          425821076461301,
          425833077503901,
          425840077133901,
          425846075504501,
          430056075354102,
          430121074523001,
          430146078101301,
          430243076180401,
          430243076180402,
          430311077051501,
          430327073475401,
          430924078241301,
          430930074290301,
          431030073192101,
          431045078160401,
          431308078544501,
          431359075235501,
          431841074573201,
          432832074122201,
          433001073474701,
          433112075091501,
          433258073440201,
          435253073440701,
          440114075453701,
          440939075191301,
          441214075542101,
          441644073315101,
          444904074455201,
          445052073350201,
          445511074103901,
          445511074103902,
          445805073380501
         ],
         "xaxis": "x",
         "y": [
          153,
          24,
          60,
          655,
          33,
          14,
          49,
          24.5,
          220,
          37,
          126,
          41,
          30.2,
          52.8,
          34.1,
          47,
          252,
          53,
          13,
          147,
          360,
          85,
          15,
          29.5,
          350,
          26,
          99,
          19.5,
          19.5,
          79,
          20.3,
          37.2,
          148,
          15,
          28,
          46,
          3.5,
          25,
          25,
          14,
          44,
          48,
          18,
          20,
          33.8,
          25.5,
          139,
          170,
          15,
          97,
          74.6,
          160,
          210,
          28.8,
          290,
          90,
          14.9,
          15,
          53,
          23,
          35.2,
          58,
          16,
          35.5,
          31,
          231,
          26.7,
          45.3,
          45,
          23,
          300,
          11.4,
          78,
          37,
          116,
          6
         ],
         "yaxis": "y"
        },
        {
         "customdata": [
          [
           16
          ],
          [
           54
          ],
          [
           100
          ],
          [
           41
          ],
          [
           25.14
          ],
          [
           40
          ]
         ],
         "hovertemplate": "state=RI<br>Site ID=%{x}<br>Well Depth=%{y}<br>Hole Depth=%{customdata[0]}<extra></extra>",
         "legendgroup": "RI",
         "marker": {
          "color": "#FF97FF",
          "size": [
           16,
           54,
           100,
           41,
           25.14,
           40
          ],
          "sizemode": "area",
          "sizeref": 11.0225,
          "symbol": "circle"
         },
         "mode": "markers",
         "name": "RI",
         "showlegend": true,
         "type": "scattergl",
         "x": [
          412154071462901,
          412844071422802,
          412918071321001,
          412932071374302,
          413252071323601,
          413358071433801
         ],
         "xaxis": "x",
         "y": [
          16,
          54,
          34,
          40,
          25.1,
          40
         ],
         "yaxis": "y"
        },
        {
         "customdata": [
          [
           124
          ],
          [
           39.28
          ],
          [
           195
          ],
          [
           71.62
          ],
          [
           52
          ],
          [
           233
          ],
          [
           107.2
          ],
          [
           271
          ],
          [
           52
          ],
          [
           53.71
          ],
          [
           43.17
          ],
          [
           42
          ],
          [
           22
          ],
          [
           42.39
          ],
          [
           32.9
          ],
          [
           20.19
          ],
          [
           33.5
          ],
          [
           740
          ],
          [
           37.5
          ],
          [
           39
          ],
          [
           24.83
          ],
          [
           28.2
          ],
          [
           21.97
          ]
         ],
         "hovertemplate": "state=MA<br>Site ID=%{x}<br>Well Depth=%{y}<br>Hole Depth=%{customdata[0]}<extra></extra>",
         "legendgroup": "MA",
         "marker": {
          "color": "#FECB52",
          "size": [
           124,
           39.28,
           195,
           71.62,
           52,
           233,
           107.2,
           271,
           52,
           53.71,
           43.17,
           42,
           22,
           42.39,
           32.9,
           20.19,
           33.5,
           740,
           37.5,
           39,
           24.83,
           28.2,
           21.97
          ],
          "sizemode": "area",
          "sizeref": 11.0225,
          "symbol": "circle"
         },
         "mode": "markers",
         "name": "MA",
         "showlegend": true,
         "type": "scattergl",
         "x": [
          413801070322703,
          414101070011001,
          414124070311401,
          414125070265901,
          414129070361401,
          414139070311501,
          414159070310501,
          414219070313601,
          414630070014901,
          414632070014901,
          415354069585201,
          415453070434901,
          420305072581401,
          420316070433501,
          420350073193601,
          420544071173701,
          421853071220501,
          422103072241102,
          422812071244401,
          422906072124301,
          423058071025401,
          423115071032001,
          423506070491401
         ],
         "xaxis": "x",
         "y": [
          121.01,
          38.07,
          55,
          70.08,
          50,
          40,
          106.67,
          109,
          52,
          52.5,
          41.5,
          40,
          20.96,
          41.19,
          31.61,
          18.65,
          32.3,
          740,
          33.8,
          39,
          24.06,
          25.5,
          21.8
         ],
         "yaxis": "y"
        },
        {
         "customdata": [
          [
           335
          ],
          [
           128
          ],
          [
           350
          ],
          [
           205
          ],
          [
           407
          ],
          [
           100
          ],
          [
           403
          ],
          [
           190
          ],
          [
           124
          ],
          [
           156
          ],
          [
           27
          ],
          [
           98
          ],
          [
           169
          ],
          [
           63
          ]
         ],
         "hovertemplate": "state=OR<br>Site ID=%{x}<br>Well Depth=%{y}<br>Hole Depth=%{customdata[0]}<extra></extra>",
         "legendgroup": "OR",
         "marker": {
          "color": "#636efa",
          "size": [
           335,
           128,
           350,
           205,
           407,
           100,
           403,
           190,
           124,
           156,
           27,
           98,
           169,
           63
          ],
          "sizemode": "area",
          "sizeref": 11.0225,
          "symbol": "circle"
         },
         "mode": "markers",
         "name": "OR",
         "showlegend": true,
         "type": "scattergl",
         "x": [
          420318121312201,
          420348121453601,
          423035121331401,
          430029121552101,
          430649121305201,
          434400121275801,
          442242121405501,
          452033122195901,
          452822122372001,
          452825122355501,
          452827122382401,
          452827122382402,
          452859122364701,
          452912122312801
         ],
         "xaxis": "x",
         "y": [
          335,
          128,
          350,
          205,
          407,
          100,
          403,
          177,
          124,
          156,
          27,
          98,
          169,
          59
         ],
         "yaxis": "y"
        },
        {
         "customdata": [
          [
           94
          ]
         ],
         "hovertemplate": "state=NH<br>Site ID=%{x}<br>Well Depth=%{y}<br>Hole Depth=%{customdata[0]}<extra></extra>",
         "legendgroup": "NH",
         "marker": {
          "color": "#EF553B",
          "size": [
           94
          ],
          "sizemode": "area",
          "sizeref": 11.0225,
          "symbol": "circle"
         },
         "mode": "markers",
         "name": "NH",
         "showlegend": true,
         "type": "scattergl",
         "x": [
          431120071284201
         ],
         "xaxis": "x",
         "y": [
          94
         ],
         "yaxis": "y"
        },
        {
         "customdata": [
          [
           91
          ],
          [
           290
          ],
          [
           404
          ],
          [
           174
          ],
          [
           72
          ],
          [
           175
          ],
          [
           28
          ],
          [
           160
          ],
          [
           98.2
          ],
          [
           97.8
          ],
          [
           48
          ],
          [
           29
          ],
          [
           37
          ],
          [
           150
          ],
          [
           47
          ],
          [
           101
          ],
          [
           31
          ],
          [
           150
          ],
          [
           31
          ],
          [
           31
          ],
          [
           83
          ],
          [
           50.8
          ]
         ],
         "hovertemplate": "state=ME<br>Site ID=%{x}<br>Well Depth=%{y}<br>Hole Depth=%{customdata[0]}<extra></extra>",
         "legendgroup": "ME",
         "marker": {
          "color": "#00cc96",
          "size": [
           91,
           290,
           404,
           174,
           72,
           175,
           28,
           160,
           98.2,
           97.8,
           48,
           29,
           37,
           150,
           47,
           101,
           31,
           150,
           31,
           31,
           83,
           50.8
          ],
          "sizemode": "area",
          "sizeref": 11.0225,
          "symbol": "circle"
         },
         "mode": "markers",
         "name": "ME",
         "showlegend": true,
         "type": "scattergl",
         "x": [
          432310070393301,
          440213070203201,
          440810069553601,
          440823070291501,
          440918069564001,
          441440068182701,
          441533069452401,
          441801069455501,
          442238068154101,
          442450068175201,
          443407069020901,
          443647070552303,
          443831070002601,
          444302070252401,
          444950068220602,
          445319068560101,
          450539070301301,
          450713067162801,
          452829069322101,
          453629068531801,
          463642069344601,
          471457068353001
         ],
         "xaxis": "x",
         "y": [
          39,
          290,
          404,
          39,
          62,
          175,
          20,
          160,
          98.2,
          97.8,
          33,
          29,
          35,
          150,
          47,
          101,
          21.8,
          150,
          24,
          30.5,
          83,
          50.8
         ],
         "yaxis": "y"
        },
        {
         "customdata": [
          [
           390
          ],
          [
           120
          ],
          [
           22
          ],
          [
           19
          ],
          [
           151
          ],
          [
           120
          ],
          [
           655
          ],
          [
           126
          ],
          [
           101
          ],
          [
           120
          ],
          [
           200
          ],
          [
           422
          ],
          [
           536
          ],
          [
           23.5
          ],
          [
           21
          ],
          [
           110
          ],
          [
           19.5
          ],
          [
           31
          ],
          [
           178
          ],
          [
           20
          ],
          [
           35
          ],
          [
           16.7
          ],
          [
           22.5
          ],
          [
           121
          ],
          [
           15.01
          ],
          [
           11.81
          ],
          [
           76
          ],
          [
           22
          ],
          [
           44
          ]
         ],
         "hovertemplate": "state=MN<br>Site ID=%{x}<br>Well Depth=%{y}<br>Hole Depth=%{customdata[0]}<extra></extra>",
         "legendgroup": "MN",
         "marker": {
          "color": "#ab63fa",
          "size": [
           390,
           120,
           22,
           19,
           151,
           120,
           655,
           126,
           101,
           120,
           200,
           422,
           536,
           23.5,
           21,
           110,
           19.5,
           31,
           178,
           20,
           35,
           16.7,
           22.5,
           121,
           15.01,
           11.81,
           76,
           22,
           44
          ],
          "sizemode": "area",
          "sizeref": 11.0225,
          "symbol": "circle"
         },
         "mode": "markers",
         "name": "MN",
         "showlegend": true,
         "type": "scattergl",
         "x": [
          440050094102801,
          443053094591001,
          443852092420901,
          443912092423501,
          444205092500001,
          444424095312301,
          444427093353903,
          444431095324101,
          444443095305001,
          444447095293501,
          450116093205301,
          450223093231801,
          450238093082501,
          452012093412701,
          455927095123101,
          473423095053301,
          473841096153101,
          473933096243701,
          473945096202401,
          473945096202402,
          474125096120602,
          474126096165301,
          474135096203001,
          474309096122001,
          474310096121801,
          474346096185501,
          474436096140801,
          474719096163100,
          474921093144001
         ],
         "xaxis": "x",
         "y": [
          390,
          107,
          21.11,
          16.85,
          151,
          100,
          525,
          118,
          95,
          120,
          200,
          422,
          536,
          22.05,
          20.35,
          35.25,
          14.87,
          30.35,
          171,
          19.77,
          29.77,
          14.94,
          10.42,
          102,
          15.01,
          11.81,
          69,
          18.06,
          31.66
         ],
         "yaxis": "y"
        },
        {
         "customdata": [
          [
           217
          ],
          [
           70
          ],
          [
           353
          ],
          [
           72
          ],
          [
           13
          ],
          [
           400
          ],
          [
           40
          ],
          [
           107
          ],
          [
           398
          ],
          [
           49
          ],
          [
           531
          ],
          [
           180
          ],
          [
           10
          ],
          [
           70
          ],
          [
           40.5
          ],
          [
           143
          ],
          [
           130
          ]
         ],
         "hovertemplate": "state=MT<br>Site ID=%{x}<br>Well Depth=%{y}<br>Hole Depth=%{customdata[0]}<extra></extra>",
         "legendgroup": "MT",
         "marker": {
          "color": "#FFA15A",
          "size": [
           217,
           70,
           353,
           72,
           13,
           400,
           40,
           107,
           398,
           49,
           531,
           180,
           10,
           70,
           40.5,
           143,
           130
          ],
          "sizemode": "area",
          "sizeref": 11.0225,
          "symbol": "circle"
         },
         "mode": "markers",
         "name": "MT",
         "showlegend": true,
         "type": "scattergl",
         "x": [
          450524112380701,
          451746106301101,
          452416106413001,
          453107106110601,
          454302108392001,
          454809111095401,
          461518114090802,
          462641110561701,
          470946114013201,
          474005111583803,
          474251114385201,
          480034105195401,
          480621115244901,
          480746105080104,
          481713105052804,
          483318104105402,
          483650104084001
         ],
         "xaxis": "x",
         "y": [
          217,
          67,
          348,
          68,
          13,
          101,
          40,
          107,
          398,
          47,
          377,
          180,
          10,
          65,
          36,
          143,
          130
         ],
         "yaxis": "y"
        },
        {
         "customdata": [
          [
           148
          ],
          [
           750
          ]
         ],
         "hovertemplate": "state=WA<br>Site ID=%{x}<br>Well Depth=%{y}<br>Hole Depth=%{customdata[0]}<extra></extra>",
         "legendgroup": "WA",
         "marker": {
          "color": "#19d3f3",
          "size": [
           148,
           750
          ],
          "sizemode": "area",
          "sizeref": 11.0225,
          "symbol": "circle"
         },
         "mode": "markers",
         "name": "WA",
         "showlegend": true,
         "type": "scattergl",
         "x": [
          465033122570202,
          473442118162201
         ],
         "xaxis": "x",
         "y": [
          82,
          117
         ],
         "yaxis": "y"
        },
        {
         "customdata": [
          [
           449
          ]
         ],
         "hovertemplate": "state=ID<br>Site ID=%{x}<br>Well Depth=%{y}<br>Hole Depth=%{customdata[0]}<extra></extra>",
         "legendgroup": "ID",
         "marker": {
          "color": "#FF6692",
          "size": [
           449
          ],
          "sizemode": "area",
          "sizeref": 11.0225,
          "symbol": "circle"
         },
         "mode": "markers",
         "name": "ID",
         "showlegend": true,
         "type": "scattergl",
         "x": [
          475439116503401
         ],
         "xaxis": "x",
         "y": [
          448.56
         ],
         "yaxis": "y"
        }
       ],
       "layout": {
        "legend": {
         "itemsizing": "constant",
         "title": {
          "text": "state"
         },
         "tracegroupgap": 0
        },
        "template": {
         "data": {
          "bar": [
           {
            "error_x": {
             "color": "#2a3f5f"
            },
            "error_y": {
             "color": "#2a3f5f"
            },
            "marker": {
             "line": {
              "color": "#E5ECF6",
              "width": 0.5
             },
             "pattern": {
              "fillmode": "overlay",
              "size": 10,
              "solidity": 0.2
             }
            },
            "type": "bar"
           }
          ],
          "barpolar": [
           {
            "marker": {
             "line": {
              "color": "#E5ECF6",
              "width": 0.5
             },
             "pattern": {
              "fillmode": "overlay",
              "size": 10,
              "solidity": 0.2
             }
            },
            "type": "barpolar"
           }
          ],
          "carpet": [
           {
            "aaxis": {
             "endlinecolor": "#2a3f5f",
             "gridcolor": "white",
             "linecolor": "white",
             "minorgridcolor": "white",
             "startlinecolor": "#2a3f5f"
            },
            "baxis": {
             "endlinecolor": "#2a3f5f",
             "gridcolor": "white",
             "linecolor": "white",
             "minorgridcolor": "white",
             "startlinecolor": "#2a3f5f"
            },
            "type": "carpet"
           }
          ],
          "choropleth": [
           {
            "colorbar": {
             "outlinewidth": 0,
             "ticks": ""
            },
            "type": "choropleth"
           }
          ],
          "contour": [
           {
            "colorbar": {
             "outlinewidth": 0,
             "ticks": ""
            },
            "colorscale": [
             [
              0,
              "#0d0887"
             ],
             [
              0.1111111111111111,
              "#46039f"
             ],
             [
              0.2222222222222222,
              "#7201a8"
             ],
             [
              0.3333333333333333,
              "#9c179e"
             ],
             [
              0.4444444444444444,
              "#bd3786"
             ],
             [
              0.5555555555555556,
              "#d8576b"
             ],
             [
              0.6666666666666666,
              "#ed7953"
             ],
             [
              0.7777777777777778,
              "#fb9f3a"
             ],
             [
              0.8888888888888888,
              "#fdca26"
             ],
             [
              1,
              "#f0f921"
             ]
            ],
            "type": "contour"
           }
          ],
          "contourcarpet": [
           {
            "colorbar": {
             "outlinewidth": 0,
             "ticks": ""
            },
            "type": "contourcarpet"
           }
          ],
          "heatmap": [
           {
            "colorbar": {
             "outlinewidth": 0,
             "ticks": ""
            },
            "colorscale": [
             [
              0,
              "#0d0887"
             ],
             [
              0.1111111111111111,
              "#46039f"
             ],
             [
              0.2222222222222222,
              "#7201a8"
             ],
             [
              0.3333333333333333,
              "#9c179e"
             ],
             [
              0.4444444444444444,
              "#bd3786"
             ],
             [
              0.5555555555555556,
              "#d8576b"
             ],
             [
              0.6666666666666666,
              "#ed7953"
             ],
             [
              0.7777777777777778,
              "#fb9f3a"
             ],
             [
              0.8888888888888888,
              "#fdca26"
             ],
             [
              1,
              "#f0f921"
             ]
            ],
            "type": "heatmap"
           }
          ],
          "heatmapgl": [
           {
            "colorbar": {
             "outlinewidth": 0,
             "ticks": ""
            },
            "colorscale": [
             [
              0,
              "#0d0887"
             ],
             [
              0.1111111111111111,
              "#46039f"
             ],
             [
              0.2222222222222222,
              "#7201a8"
             ],
             [
              0.3333333333333333,
              "#9c179e"
             ],
             [
              0.4444444444444444,
              "#bd3786"
             ],
             [
              0.5555555555555556,
              "#d8576b"
             ],
             [
              0.6666666666666666,
              "#ed7953"
             ],
             [
              0.7777777777777778,
              "#fb9f3a"
             ],
             [
              0.8888888888888888,
              "#fdca26"
             ],
             [
              1,
              "#f0f921"
             ]
            ],
            "type": "heatmapgl"
           }
          ],
          "histogram": [
           {
            "marker": {
             "pattern": {
              "fillmode": "overlay",
              "size": 10,
              "solidity": 0.2
             }
            },
            "type": "histogram"
           }
          ],
          "histogram2d": [
           {
            "colorbar": {
             "outlinewidth": 0,
             "ticks": ""
            },
            "colorscale": [
             [
              0,
              "#0d0887"
             ],
             [
              0.1111111111111111,
              "#46039f"
             ],
             [
              0.2222222222222222,
              "#7201a8"
             ],
             [
              0.3333333333333333,
              "#9c179e"
             ],
             [
              0.4444444444444444,
              "#bd3786"
             ],
             [
              0.5555555555555556,
              "#d8576b"
             ],
             [
              0.6666666666666666,
              "#ed7953"
             ],
             [
              0.7777777777777778,
              "#fb9f3a"
             ],
             [
              0.8888888888888888,
              "#fdca26"
             ],
             [
              1,
              "#f0f921"
             ]
            ],
            "type": "histogram2d"
           }
          ],
          "histogram2dcontour": [
           {
            "colorbar": {
             "outlinewidth": 0,
             "ticks": ""
            },
            "colorscale": [
             [
              0,
              "#0d0887"
             ],
             [
              0.1111111111111111,
              "#46039f"
             ],
             [
              0.2222222222222222,
              "#7201a8"
             ],
             [
              0.3333333333333333,
              "#9c179e"
             ],
             [
              0.4444444444444444,
              "#bd3786"
             ],
             [
              0.5555555555555556,
              "#d8576b"
             ],
             [
              0.6666666666666666,
              "#ed7953"
             ],
             [
              0.7777777777777778,
              "#fb9f3a"
             ],
             [
              0.8888888888888888,
              "#fdca26"
             ],
             [
              1,
              "#f0f921"
             ]
            ],
            "type": "histogram2dcontour"
           }
          ],
          "mesh3d": [
           {
            "colorbar": {
             "outlinewidth": 0,
             "ticks": ""
            },
            "type": "mesh3d"
           }
          ],
          "parcoords": [
           {
            "line": {
             "colorbar": {
              "outlinewidth": 0,
              "ticks": ""
             }
            },
            "type": "parcoords"
           }
          ],
          "pie": [
           {
            "automargin": true,
            "type": "pie"
           }
          ],
          "scatter": [
           {
            "fillpattern": {
             "fillmode": "overlay",
             "size": 10,
             "solidity": 0.2
            },
            "type": "scatter"
           }
          ],
          "scatter3d": [
           {
            "line": {
             "colorbar": {
              "outlinewidth": 0,
              "ticks": ""
             }
            },
            "marker": {
             "colorbar": {
              "outlinewidth": 0,
              "ticks": ""
             }
            },
            "type": "scatter3d"
           }
          ],
          "scattercarpet": [
           {
            "marker": {
             "colorbar": {
              "outlinewidth": 0,
              "ticks": ""
             }
            },
            "type": "scattercarpet"
           }
          ],
          "scattergeo": [
           {
            "marker": {
             "colorbar": {
              "outlinewidth": 0,
              "ticks": ""
             }
            },
            "type": "scattergeo"
           }
          ],
          "scattergl": [
           {
            "marker": {
             "colorbar": {
              "outlinewidth": 0,
              "ticks": ""
             }
            },
            "type": "scattergl"
           }
          ],
          "scattermapbox": [
           {
            "marker": {
             "colorbar": {
              "outlinewidth": 0,
              "ticks": ""
             }
            },
            "type": "scattermapbox"
           }
          ],
          "scatterpolar": [
           {
            "marker": {
             "colorbar": {
              "outlinewidth": 0,
              "ticks": ""
             }
            },
            "type": "scatterpolar"
           }
          ],
          "scatterpolargl": [
           {
            "marker": {
             "colorbar": {
              "outlinewidth": 0,
              "ticks": ""
             }
            },
            "type": "scatterpolargl"
           }
          ],
          "scatterternary": [
           {
            "marker": {
             "colorbar": {
              "outlinewidth": 0,
              "ticks": ""
             }
            },
            "type": "scatterternary"
           }
          ],
          "surface": [
           {
            "colorbar": {
             "outlinewidth": 0,
             "ticks": ""
            },
            "colorscale": [
             [
              0,
              "#0d0887"
             ],
             [
              0.1111111111111111,
              "#46039f"
             ],
             [
              0.2222222222222222,
              "#7201a8"
             ],
             [
              0.3333333333333333,
              "#9c179e"
             ],
             [
              0.4444444444444444,
              "#bd3786"
             ],
             [
              0.5555555555555556,
              "#d8576b"
             ],
             [
              0.6666666666666666,
              "#ed7953"
             ],
             [
              0.7777777777777778,
              "#fb9f3a"
             ],
             [
              0.8888888888888888,
              "#fdca26"
             ],
             [
              1,
              "#f0f921"
             ]
            ],
            "type": "surface"
           }
          ],
          "table": [
           {
            "cells": {
             "fill": {
              "color": "#EBF0F8"
             },
             "line": {
              "color": "white"
             }
            },
            "header": {
             "fill": {
              "color": "#C8D4E3"
             },
             "line": {
              "color": "white"
             }
            },
            "type": "table"
           }
          ]
         },
         "layout": {
          "annotationdefaults": {
           "arrowcolor": "#2a3f5f",
           "arrowhead": 0,
           "arrowwidth": 1
          },
          "autotypenumbers": "strict",
          "coloraxis": {
           "colorbar": {
            "outlinewidth": 0,
            "ticks": ""
           }
          },
          "colorscale": {
           "diverging": [
            [
             0,
             "#8e0152"
            ],
            [
             0.1,
             "#c51b7d"
            ],
            [
             0.2,
             "#de77ae"
            ],
            [
             0.3,
             "#f1b6da"
            ],
            [
             0.4,
             "#fde0ef"
            ],
            [
             0.5,
             "#f7f7f7"
            ],
            [
             0.6,
             "#e6f5d0"
            ],
            [
             0.7,
             "#b8e186"
            ],
            [
             0.8,
             "#7fbc41"
            ],
            [
             0.9,
             "#4d9221"
            ],
            [
             1,
             "#276419"
            ]
           ],
           "sequential": [
            [
             0,
             "#0d0887"
            ],
            [
             0.1111111111111111,
             "#46039f"
            ],
            [
             0.2222222222222222,
             "#7201a8"
            ],
            [
             0.3333333333333333,
             "#9c179e"
            ],
            [
             0.4444444444444444,
             "#bd3786"
            ],
            [
             0.5555555555555556,
             "#d8576b"
            ],
            [
             0.6666666666666666,
             "#ed7953"
            ],
            [
             0.7777777777777778,
             "#fb9f3a"
            ],
            [
             0.8888888888888888,
             "#fdca26"
            ],
            [
             1,
             "#f0f921"
            ]
           ],
           "sequentialminus": [
            [
             0,
             "#0d0887"
            ],
            [
             0.1111111111111111,
             "#46039f"
            ],
            [
             0.2222222222222222,
             "#7201a8"
            ],
            [
             0.3333333333333333,
             "#9c179e"
            ],
            [
             0.4444444444444444,
             "#bd3786"
            ],
            [
             0.5555555555555556,
             "#d8576b"
            ],
            [
             0.6666666666666666,
             "#ed7953"
            ],
            [
             0.7777777777777778,
             "#fb9f3a"
            ],
            [
             0.8888888888888888,
             "#fdca26"
            ],
            [
             1,
             "#f0f921"
            ]
           ]
          },
          "colorway": [
           "#636efa",
           "#EF553B",
           "#00cc96",
           "#ab63fa",
           "#FFA15A",
           "#19d3f3",
           "#FF6692",
           "#B6E880",
           "#FF97FF",
           "#FECB52"
          ],
          "font": {
           "color": "#2a3f5f"
          },
          "geo": {
           "bgcolor": "white",
           "lakecolor": "white",
           "landcolor": "#E5ECF6",
           "showlakes": true,
           "showland": true,
           "subunitcolor": "white"
          },
          "hoverlabel": {
           "align": "left"
          },
          "hovermode": "closest",
          "mapbox": {
           "style": "light"
          },
          "paper_bgcolor": "white",
          "plot_bgcolor": "#E5ECF6",
          "polar": {
           "angularaxis": {
            "gridcolor": "white",
            "linecolor": "white",
            "ticks": ""
           },
           "bgcolor": "#E5ECF6",
           "radialaxis": {
            "gridcolor": "white",
            "linecolor": "white",
            "ticks": ""
           }
          },
          "scene": {
           "xaxis": {
            "backgroundcolor": "#E5ECF6",
            "gridcolor": "white",
            "gridwidth": 2,
            "linecolor": "white",
            "showbackground": true,
            "ticks": "",
            "zerolinecolor": "white"
           },
           "yaxis": {
            "backgroundcolor": "#E5ECF6",
            "gridcolor": "white",
            "gridwidth": 2,
            "linecolor": "white",
            "showbackground": true,
            "ticks": "",
            "zerolinecolor": "white"
           },
           "zaxis": {
            "backgroundcolor": "#E5ECF6",
            "gridcolor": "white",
            "gridwidth": 2,
            "linecolor": "white",
            "showbackground": true,
            "ticks": "",
            "zerolinecolor": "white"
           }
          },
          "shapedefaults": {
           "line": {
            "color": "#2a3f5f"
           }
          },
          "ternary": {
           "aaxis": {
            "gridcolor": "white",
            "linecolor": "white",
            "ticks": ""
           },
           "baxis": {
            "gridcolor": "white",
            "linecolor": "white",
            "ticks": ""
           },
           "bgcolor": "#E5ECF6",
           "caxis": {
            "gridcolor": "white",
            "linecolor": "white",
            "ticks": ""
           }
          },
          "title": {
           "x": 0.05
          },
          "xaxis": {
           "automargin": true,
           "gridcolor": "white",
           "linecolor": "white",
           "ticks": "",
           "title": {
            "standoff": 15
           },
           "zerolinecolor": "white",
           "zerolinewidth": 2
          },
          "yaxis": {
           "automargin": true,
           "gridcolor": "white",
           "linecolor": "white",
           "ticks": "",
           "title": {
            "standoff": 15
           },
           "zerolinecolor": "white",
           "zerolinewidth": 2
          }
         }
        },
        "title": {
         "text": "Comparison of Well Depth and Hole Depth by Site ID and State"
        },
        "xaxis": {
         "anchor": "y",
         "domain": [
          0,
          1
         ],
         "title": {
          "text": "Site ID"
         }
        },
        "yaxis": {
         "anchor": "x",
         "domain": [
          0,
          1
         ],
         "title": {
          "text": "Well Depth"
         }
        }
       }
      }
     },
     "metadata": {},
     "output_type": "display_data"
    }
   ],
   "source": [
    "#plot a line plot to compare the well depth and hole depth \n",
    "\n",
    "#drop rows with missing values in 'well_depth_va' and 'site_id'\n",
    "df = merged_data.dropna(subset=['well_depth_va', 'site_id'])\n",
    "df = merged_data.dropna(subset=['hole_depth_va', 'site_id'])\n",
    "\n",
    "#plotting the data using Plotly scatter plot\n",
    "fig = px.scatter(df, x='site_id', y='well_depth_va', size='hole_depth_va',\n",
    "                 color='state', hover_data=['hole_depth_va'],\n",
    "                 labels={'well_depth_va': 'Well Depth', 'site_id': 'Site ID', 'hole_depth_va':'Hole Depth'},\n",
    "                 title='Comparison of Well Depth and Hole Depth by Site ID and State')\n",
    "\n",
    "fig.show()"
   ]
  },
  {
   "cell_type": "code",
   "execution_count": 29,
   "metadata": {},
   "outputs": [
    {
     "data": {
      "application/vnd.plotly.v1+json": {
       "config": {
        "plotlyServerURL": "https://plot.ly"
       },
       "data": [
        {
         "coloraxis": "coloraxis",
         "geo": "geo",
         "hovertemplate": "state=%{location}<br>Number of Wells=%{z}<extra></extra>",
         "locationmode": "USA-states",
         "locations": [
          "GA",
          "MO",
          "NJ",
          "NM",
          "NY",
          "PA",
          "AZ",
          "NC",
          "SC",
          "IN",
          "TX",
          "TN",
          "ME",
          "OK",
          "MA",
          "MN",
          "NV",
          "MS",
          "MT",
          "MD",
          "AR",
          "CA",
          "OR",
          "NE",
          "LA",
          "WY",
          "IA",
          "CT",
          "AL",
          "OH",
          "RI",
          "CO",
          "WA",
          "NH",
          "DE",
          "DC",
          "ID"
         ],
         "name": "",
         "type": "choropleth",
         "z": [
          203,
          155,
          140,
          118,
          92,
          76,
          68,
          68,
          61,
          57,
          41,
          40,
          33,
          33,
          32,
          32,
          30,
          27,
          21,
          17,
          17,
          17,
          14,
          13,
          11,
          10,
          9,
          8,
          7,
          7,
          6,
          6,
          4,
          3,
          1,
          1,
          1
         ]
        }
       ],
       "layout": {
        "coloraxis": {
         "colorbar": {
          "title": {
           "text": "Number of Wells"
          }
         },
         "colorscale": [
          [
           0,
           "#440154"
          ],
          [
           0.1111111111111111,
           "#482878"
          ],
          [
           0.2222222222222222,
           "#3e4989"
          ],
          [
           0.3333333333333333,
           "#31688e"
          ],
          [
           0.4444444444444444,
           "#26828e"
          ],
          [
           0.5555555555555556,
           "#1f9e89"
          ],
          [
           0.6666666666666666,
           "#35b779"
          ],
          [
           0.7777777777777778,
           "#6ece58"
          ],
          [
           0.8888888888888888,
           "#b5de2b"
          ],
          [
           1,
           "#fde725"
          ]
         ]
        },
        "geo": {
         "center": {},
         "domain": {
          "x": [
           0,
           1
          ],
          "y": [
           0,
           1
          ]
         },
         "scope": "usa"
        },
        "legend": {
         "tracegroupgap": 0
        },
        "template": {
         "data": {
          "bar": [
           {
            "error_x": {
             "color": "#2a3f5f"
            },
            "error_y": {
             "color": "#2a3f5f"
            },
            "marker": {
             "line": {
              "color": "#E5ECF6",
              "width": 0.5
             },
             "pattern": {
              "fillmode": "overlay",
              "size": 10,
              "solidity": 0.2
             }
            },
            "type": "bar"
           }
          ],
          "barpolar": [
           {
            "marker": {
             "line": {
              "color": "#E5ECF6",
              "width": 0.5
             },
             "pattern": {
              "fillmode": "overlay",
              "size": 10,
              "solidity": 0.2
             }
            },
            "type": "barpolar"
           }
          ],
          "carpet": [
           {
            "aaxis": {
             "endlinecolor": "#2a3f5f",
             "gridcolor": "white",
             "linecolor": "white",
             "minorgridcolor": "white",
             "startlinecolor": "#2a3f5f"
            },
            "baxis": {
             "endlinecolor": "#2a3f5f",
             "gridcolor": "white",
             "linecolor": "white",
             "minorgridcolor": "white",
             "startlinecolor": "#2a3f5f"
            },
            "type": "carpet"
           }
          ],
          "choropleth": [
           {
            "colorbar": {
             "outlinewidth": 0,
             "ticks": ""
            },
            "type": "choropleth"
           }
          ],
          "contour": [
           {
            "colorbar": {
             "outlinewidth": 0,
             "ticks": ""
            },
            "colorscale": [
             [
              0,
              "#0d0887"
             ],
             [
              0.1111111111111111,
              "#46039f"
             ],
             [
              0.2222222222222222,
              "#7201a8"
             ],
             [
              0.3333333333333333,
              "#9c179e"
             ],
             [
              0.4444444444444444,
              "#bd3786"
             ],
             [
              0.5555555555555556,
              "#d8576b"
             ],
             [
              0.6666666666666666,
              "#ed7953"
             ],
             [
              0.7777777777777778,
              "#fb9f3a"
             ],
             [
              0.8888888888888888,
              "#fdca26"
             ],
             [
              1,
              "#f0f921"
             ]
            ],
            "type": "contour"
           }
          ],
          "contourcarpet": [
           {
            "colorbar": {
             "outlinewidth": 0,
             "ticks": ""
            },
            "type": "contourcarpet"
           }
          ],
          "heatmap": [
           {
            "colorbar": {
             "outlinewidth": 0,
             "ticks": ""
            },
            "colorscale": [
             [
              0,
              "#0d0887"
             ],
             [
              0.1111111111111111,
              "#46039f"
             ],
             [
              0.2222222222222222,
              "#7201a8"
             ],
             [
              0.3333333333333333,
              "#9c179e"
             ],
             [
              0.4444444444444444,
              "#bd3786"
             ],
             [
              0.5555555555555556,
              "#d8576b"
             ],
             [
              0.6666666666666666,
              "#ed7953"
             ],
             [
              0.7777777777777778,
              "#fb9f3a"
             ],
             [
              0.8888888888888888,
              "#fdca26"
             ],
             [
              1,
              "#f0f921"
             ]
            ],
            "type": "heatmap"
           }
          ],
          "heatmapgl": [
           {
            "colorbar": {
             "outlinewidth": 0,
             "ticks": ""
            },
            "colorscale": [
             [
              0,
              "#0d0887"
             ],
             [
              0.1111111111111111,
              "#46039f"
             ],
             [
              0.2222222222222222,
              "#7201a8"
             ],
             [
              0.3333333333333333,
              "#9c179e"
             ],
             [
              0.4444444444444444,
              "#bd3786"
             ],
             [
              0.5555555555555556,
              "#d8576b"
             ],
             [
              0.6666666666666666,
              "#ed7953"
             ],
             [
              0.7777777777777778,
              "#fb9f3a"
             ],
             [
              0.8888888888888888,
              "#fdca26"
             ],
             [
              1,
              "#f0f921"
             ]
            ],
            "type": "heatmapgl"
           }
          ],
          "histogram": [
           {
            "marker": {
             "pattern": {
              "fillmode": "overlay",
              "size": 10,
              "solidity": 0.2
             }
            },
            "type": "histogram"
           }
          ],
          "histogram2d": [
           {
            "colorbar": {
             "outlinewidth": 0,
             "ticks": ""
            },
            "colorscale": [
             [
              0,
              "#0d0887"
             ],
             [
              0.1111111111111111,
              "#46039f"
             ],
             [
              0.2222222222222222,
              "#7201a8"
             ],
             [
              0.3333333333333333,
              "#9c179e"
             ],
             [
              0.4444444444444444,
              "#bd3786"
             ],
             [
              0.5555555555555556,
              "#d8576b"
             ],
             [
              0.6666666666666666,
              "#ed7953"
             ],
             [
              0.7777777777777778,
              "#fb9f3a"
             ],
             [
              0.8888888888888888,
              "#fdca26"
             ],
             [
              1,
              "#f0f921"
             ]
            ],
            "type": "histogram2d"
           }
          ],
          "histogram2dcontour": [
           {
            "colorbar": {
             "outlinewidth": 0,
             "ticks": ""
            },
            "colorscale": [
             [
              0,
              "#0d0887"
             ],
             [
              0.1111111111111111,
              "#46039f"
             ],
             [
              0.2222222222222222,
              "#7201a8"
             ],
             [
              0.3333333333333333,
              "#9c179e"
             ],
             [
              0.4444444444444444,
              "#bd3786"
             ],
             [
              0.5555555555555556,
              "#d8576b"
             ],
             [
              0.6666666666666666,
              "#ed7953"
             ],
             [
              0.7777777777777778,
              "#fb9f3a"
             ],
             [
              0.8888888888888888,
              "#fdca26"
             ],
             [
              1,
              "#f0f921"
             ]
            ],
            "type": "histogram2dcontour"
           }
          ],
          "mesh3d": [
           {
            "colorbar": {
             "outlinewidth": 0,
             "ticks": ""
            },
            "type": "mesh3d"
           }
          ],
          "parcoords": [
           {
            "line": {
             "colorbar": {
              "outlinewidth": 0,
              "ticks": ""
             }
            },
            "type": "parcoords"
           }
          ],
          "pie": [
           {
            "automargin": true,
            "type": "pie"
           }
          ],
          "scatter": [
           {
            "fillpattern": {
             "fillmode": "overlay",
             "size": 10,
             "solidity": 0.2
            },
            "type": "scatter"
           }
          ],
          "scatter3d": [
           {
            "line": {
             "colorbar": {
              "outlinewidth": 0,
              "ticks": ""
             }
            },
            "marker": {
             "colorbar": {
              "outlinewidth": 0,
              "ticks": ""
             }
            },
            "type": "scatter3d"
           }
          ],
          "scattercarpet": [
           {
            "marker": {
             "colorbar": {
              "outlinewidth": 0,
              "ticks": ""
             }
            },
            "type": "scattercarpet"
           }
          ],
          "scattergeo": [
           {
            "marker": {
             "colorbar": {
              "outlinewidth": 0,
              "ticks": ""
             }
            },
            "type": "scattergeo"
           }
          ],
          "scattergl": [
           {
            "marker": {
             "colorbar": {
              "outlinewidth": 0,
              "ticks": ""
             }
            },
            "type": "scattergl"
           }
          ],
          "scattermapbox": [
           {
            "marker": {
             "colorbar": {
              "outlinewidth": 0,
              "ticks": ""
             }
            },
            "type": "scattermapbox"
           }
          ],
          "scatterpolar": [
           {
            "marker": {
             "colorbar": {
              "outlinewidth": 0,
              "ticks": ""
             }
            },
            "type": "scatterpolar"
           }
          ],
          "scatterpolargl": [
           {
            "marker": {
             "colorbar": {
              "outlinewidth": 0,
              "ticks": ""
             }
            },
            "type": "scatterpolargl"
           }
          ],
          "scatterternary": [
           {
            "marker": {
             "colorbar": {
              "outlinewidth": 0,
              "ticks": ""
             }
            },
            "type": "scatterternary"
           }
          ],
          "surface": [
           {
            "colorbar": {
             "outlinewidth": 0,
             "ticks": ""
            },
            "colorscale": [
             [
              0,
              "#0d0887"
             ],
             [
              0.1111111111111111,
              "#46039f"
             ],
             [
              0.2222222222222222,
              "#7201a8"
             ],
             [
              0.3333333333333333,
              "#9c179e"
             ],
             [
              0.4444444444444444,
              "#bd3786"
             ],
             [
              0.5555555555555556,
              "#d8576b"
             ],
             [
              0.6666666666666666,
              "#ed7953"
             ],
             [
              0.7777777777777778,
              "#fb9f3a"
             ],
             [
              0.8888888888888888,
              "#fdca26"
             ],
             [
              1,
              "#f0f921"
             ]
            ],
            "type": "surface"
           }
          ],
          "table": [
           {
            "cells": {
             "fill": {
              "color": "#EBF0F8"
             },
             "line": {
              "color": "white"
             }
            },
            "header": {
             "fill": {
              "color": "#C8D4E3"
             },
             "line": {
              "color": "white"
             }
            },
            "type": "table"
           }
          ]
         },
         "layout": {
          "annotationdefaults": {
           "arrowcolor": "#2a3f5f",
           "arrowhead": 0,
           "arrowwidth": 1
          },
          "autotypenumbers": "strict",
          "coloraxis": {
           "colorbar": {
            "outlinewidth": 0,
            "ticks": ""
           }
          },
          "colorscale": {
           "diverging": [
            [
             0,
             "#8e0152"
            ],
            [
             0.1,
             "#c51b7d"
            ],
            [
             0.2,
             "#de77ae"
            ],
            [
             0.3,
             "#f1b6da"
            ],
            [
             0.4,
             "#fde0ef"
            ],
            [
             0.5,
             "#f7f7f7"
            ],
            [
             0.6,
             "#e6f5d0"
            ],
            [
             0.7,
             "#b8e186"
            ],
            [
             0.8,
             "#7fbc41"
            ],
            [
             0.9,
             "#4d9221"
            ],
            [
             1,
             "#276419"
            ]
           ],
           "sequential": [
            [
             0,
             "#0d0887"
            ],
            [
             0.1111111111111111,
             "#46039f"
            ],
            [
             0.2222222222222222,
             "#7201a8"
            ],
            [
             0.3333333333333333,
             "#9c179e"
            ],
            [
             0.4444444444444444,
             "#bd3786"
            ],
            [
             0.5555555555555556,
             "#d8576b"
            ],
            [
             0.6666666666666666,
             "#ed7953"
            ],
            [
             0.7777777777777778,
             "#fb9f3a"
            ],
            [
             0.8888888888888888,
             "#fdca26"
            ],
            [
             1,
             "#f0f921"
            ]
           ],
           "sequentialminus": [
            [
             0,
             "#0d0887"
            ],
            [
             0.1111111111111111,
             "#46039f"
            ],
            [
             0.2222222222222222,
             "#7201a8"
            ],
            [
             0.3333333333333333,
             "#9c179e"
            ],
            [
             0.4444444444444444,
             "#bd3786"
            ],
            [
             0.5555555555555556,
             "#d8576b"
            ],
            [
             0.6666666666666666,
             "#ed7953"
            ],
            [
             0.7777777777777778,
             "#fb9f3a"
            ],
            [
             0.8888888888888888,
             "#fdca26"
            ],
            [
             1,
             "#f0f921"
            ]
           ]
          },
          "colorway": [
           "#636efa",
           "#EF553B",
           "#00cc96",
           "#ab63fa",
           "#FFA15A",
           "#19d3f3",
           "#FF6692",
           "#B6E880",
           "#FF97FF",
           "#FECB52"
          ],
          "font": {
           "color": "#2a3f5f"
          },
          "geo": {
           "bgcolor": "white",
           "lakecolor": "white",
           "landcolor": "#E5ECF6",
           "showlakes": true,
           "showland": true,
           "subunitcolor": "white"
          },
          "hoverlabel": {
           "align": "left"
          },
          "hovermode": "closest",
          "mapbox": {
           "style": "light"
          },
          "paper_bgcolor": "white",
          "plot_bgcolor": "#E5ECF6",
          "polar": {
           "angularaxis": {
            "gridcolor": "white",
            "linecolor": "white",
            "ticks": ""
           },
           "bgcolor": "#E5ECF6",
           "radialaxis": {
            "gridcolor": "white",
            "linecolor": "white",
            "ticks": ""
           }
          },
          "scene": {
           "xaxis": {
            "backgroundcolor": "#E5ECF6",
            "gridcolor": "white",
            "gridwidth": 2,
            "linecolor": "white",
            "showbackground": true,
            "ticks": "",
            "zerolinecolor": "white"
           },
           "yaxis": {
            "backgroundcolor": "#E5ECF6",
            "gridcolor": "white",
            "gridwidth": 2,
            "linecolor": "white",
            "showbackground": true,
            "ticks": "",
            "zerolinecolor": "white"
           },
           "zaxis": {
            "backgroundcolor": "#E5ECF6",
            "gridcolor": "white",
            "gridwidth": 2,
            "linecolor": "white",
            "showbackground": true,
            "ticks": "",
            "zerolinecolor": "white"
           }
          },
          "shapedefaults": {
           "line": {
            "color": "#2a3f5f"
           }
          },
          "ternary": {
           "aaxis": {
            "gridcolor": "white",
            "linecolor": "white",
            "ticks": ""
           },
           "baxis": {
            "gridcolor": "white",
            "linecolor": "white",
            "ticks": ""
           },
           "bgcolor": "#E5ECF6",
           "caxis": {
            "gridcolor": "white",
            "linecolor": "white",
            "ticks": ""
           }
          },
          "title": {
           "x": 0.05
          },
          "xaxis": {
           "automargin": true,
           "gridcolor": "white",
           "linecolor": "white",
           "ticks": "",
           "title": {
            "standoff": 15
           },
           "zerolinecolor": "white",
           "zerolinewidth": 2
          },
          "yaxis": {
           "automargin": true,
           "gridcolor": "white",
           "linecolor": "white",
           "ticks": "",
           "title": {
            "standoff": 15
           },
           "zerolinecolor": "white",
           "zerolinewidth": 2
          }
         }
        },
        "title": {
         "text": "Number of Wells by State in the U.S."
        }
       }
      }
     },
     "metadata": {},
     "output_type": "display_data"
    }
   ],
   "source": [
    "#compare the number of wells in different states\n",
    "\n",
    "#count the number of wells in each state\n",
    "state_well_counts = merged_data['state'].value_counts().reset_index()\n",
    "state_well_counts.columns = ['state', 'well_count']\n",
    "\n",
    "#plotting the data using Plotly choropleth map\n",
    "fig = px.choropleth(state_well_counts, \n",
    "                    locations='state', \n",
    "                    locationmode='USA-states',\n",
    "                    color='well_count',\n",
    "                    color_continuous_scale='Viridis',\n",
    "                    scope='usa',\n",
    "                    labels={'well_count': 'Number of Wells'},\n",
    "                    title='Number of Wells by State in the U.S.')\n",
    "\n",
    "#display the plot\n",
    "fig.show()"
   ]
  },
  {
   "cell_type": "code",
   "execution_count": null,
   "metadata": {},
   "outputs": [],
   "source": []
  }
 ],
 "metadata": {
  "kernelspec": {
   "display_name": "condonlab",
   "language": "python",
   "name": "python3"
  },
  "language_info": {
   "codemirror_mode": {
    "name": "ipython",
    "version": 3
   },
   "file_extension": ".py",
   "mimetype": "text/x-python",
   "name": "python",
   "nbconvert_exporter": "python",
   "pygments_lexer": "ipython3",
   "version": "3.10.11"
  },
  "orig_nbformat": 4
 },
 "nbformat": 4,
 "nbformat_minor": 2
}
